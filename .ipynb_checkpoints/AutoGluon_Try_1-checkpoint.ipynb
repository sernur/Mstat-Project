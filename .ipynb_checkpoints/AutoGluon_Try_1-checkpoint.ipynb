{
 "cells": [
  {
   "cell_type": "code",
   "execution_count": 1,
   "metadata": {},
   "outputs": [],
   "source": [
    "\n",
    "from autogluon import TabularPrediction as task\n"
   ]
  },
  {
   "cell_type": "code",
   "execution_count": 7,
   "metadata": {},
   "outputs": [
    {
     "name": "stderr",
     "output_type": "stream",
     "text": [
      "Loaded data from: https://autogluon.s3.amazonaws.com/datasets/Inc/train.csv | Columns = 15 / 15 | Rows = 39073 -> 39073\n",
      "Loaded data from: https://autogluon.s3.amazonaws.com/datasets/Inc/test.csv | Columns = 15 / 15 | Rows = 9769 -> 9769\n"
     ]
    }
   ],
   "source": [
    "train_data = task.Dataset(file_path='https://autogluon.s3.amazonaws.com/datasets/Inc/train.csv')\n",
    "test_data = task.Dataset(file_path='https://autogluon.s3.amazonaws.com/datasets/Inc/test.csv')"
   ]
  },
  {
   "cell_type": "code",
   "execution_count": 8,
   "metadata": {},
   "outputs": [
    {
     "name": "stderr",
     "output_type": "stream",
     "text": [
      "No output_directory specified. Models will be saved in: AutogluonModels/ag-20191214_133127/\n",
      "Beginning AutoGluon training ...\n",
      "Preprocessing data ...\n",
      "Here are the first 10 unique label values in your data:  [' <=50K' ' >50K']\n",
      "AutoGluon infers your prediction problem is: binary  (because only two unique label-values observed)\n",
      "If this is wrong, please specify `problem_type` argument in fit() instead (You may specify problem_type as one of: ['binary', 'multiclass', 'regression'])\n",
      "\n",
      "Selected class <--> label mapping:  class 1 =  >50K, class 0 =  <=50K\n",
      "\tData preprocessing and feature engineering runtime = 0.54s ...\n",
      "AutoGluon will gauge predictive performance using evaluation metric: accuracy\n",
      "To change this, specify the eval_metric argument of fit()\n",
      "Fitting model: RandomForestClassifierGini ...\n",
      "\t6.63s\t = Training runtime\n",
      "\t0.852\t = Validation accuracy score\n",
      "Fitting model: RandomForestClassifierEntr ...\n",
      "\t9.14s\t = Training runtime\n",
      "\t0.8512\t = Validation accuracy score\n",
      "Fitting model: ExtraTreesClassifierGini ...\n",
      "\t9.35s\t = Training runtime\n",
      "\t0.8396\t = Validation accuracy score\n",
      "Fitting model: ExtraTreesClassifierEntr ...\n",
      "\t6.18s\t = Training runtime\n",
      "\t0.8412\t = Validation accuracy score\n",
      "Fitting model: KNeighborsClassifierUnif ...\n",
      "\t0.52s\t = Training runtime\n",
      "\t0.7736\t = Validation accuracy score\n",
      "Fitting model: KNeighborsClassifierDist ...\n",
      "\t0.45s\t = Training runtime\n",
      "\t0.7644\t = Validation accuracy score\n",
      "Fitting model: LightGBMClassifier ...\n",
      "\t13.71s\t = Training runtime\n",
      "\t0.8672\t = Validation accuracy score\n",
      "Fitting model: CatboostClassifier ...\n",
      "\t65.17s\t = Training runtime\n",
      "\t0.8656\t = Validation accuracy score\n",
      "Fitting model: NeuralNetClassifier ...\n",
      "\t232.46s\t = Training runtime\n",
      "\t0.8572\t = Validation accuracy score\n",
      "Fitting model: LightGBMClassifierCustom ...\n",
      "\t28.61s\t = Training runtime\n",
      "\t0.8676\t = Validation accuracy score\n",
      "Fitting model: weighted_ensemble_l1 ...\n",
      "\t2.39s\t = Training runtime\n",
      "\t0.8716\t = Validation accuracy score\n",
      "AutoGluon training complete, total runtime = 394.81s ...\n"
     ]
    }
   ],
   "source": [
    "predictor = task.fit(train_data=train_data, label='class')"
   ]
  },
  {
   "cell_type": "code",
   "execution_count": 9,
   "metadata": {},
   "outputs": [
    {
     "name": "stdout",
     "output_type": "stream",
     "text": [
      "Predictive performance on given dataset: accuracy = 0.8742962432183438\n"
     ]
    }
   ],
   "source": [
    "performance = predictor.evaluate(test_data)"
   ]
  },
  {
   "cell_type": "code",
   "execution_count": 10,
   "metadata": {},
   "outputs": [
    {
     "name": "stdout",
     "output_type": "stream",
     "text": [
      "*** Summary of fit() ***\n",
      "Number of models trained: 11\n",
      "Types of models trained: \n",
      "{'LGBModel', 'WeightedEnsembleModel', 'RFModel', 'TabularNeuralNetModel', 'CatboostModel', 'KNNModel'}\n",
      "Validation performance of individual models: {'RandomForestClassifierGini': 0.852, 'RandomForestClassifierEntr': 0.8512, 'ExtraTreesClassifierGini': 0.8396, 'ExtraTreesClassifierEntr': 0.8412, 'KNeighborsClassifierUnif': 0.7736, 'KNeighborsClassifierDist': 0.7644, 'LightGBMClassifier': 0.8672, 'CatboostClassifier': 0.8656, 'NeuralNetClassifier': 0.8572, 'LightGBMClassifierCustom': 0.8676, 'weighted_ensemble_l1': 0.8716}\n",
      "Best model (based on validation performance): weighted_ensemble_l1\n",
      "Hyperparameter-tuning used: False\n",
      "Bagging used: False \n",
      "Stack-ensembling used: False \n",
      "User-specified hyperparameters:\n",
      "{'NN': {'num_epochs': 500}, 'GBM': {'num_boost_round': 10000}, 'CAT': {'iterations': 10000}, 'RF': {'n_estimators': 300}, 'XT': {'n_estimators': 300}, 'KNN': {}, 'custom': ['GBM']}\n",
      "Plot summary of models saved to file: SummaryOfModels.html\n",
      "*** End of fit() summary ***\n"
     ]
    }
   ],
   "source": [
    "results = predictor.fit_summary()"
   ]
  },
  {
   "cell_type": "code",
   "execution_count": null,
   "metadata": {},
   "outputs": [],
   "source": []
  },
  {
   "cell_type": "code",
   "execution_count": 11,
   "metadata": {},
   "outputs": [
    {
     "name": "stdout",
     "output_type": "stream",
     "text": [
      "Summary of age variable: \n",
      " count    39073.000000\n",
      "mean        38.616743\n",
      "std         13.718529\n",
      "min         17.000000\n",
      "25%         28.000000\n",
      "50%         37.000000\n",
      "75%         48.000000\n",
      "max         90.000000\n",
      "Name: age, dtype: float64\n"
     ]
    }
   ],
   "source": [
    "age_column = 'age'\n",
    "print(\"Summary of age variable: \\n\", train_data[age_column].describe())"
   ]
  },
  {
   "cell_type": "code",
   "execution_count": 13,
   "metadata": {},
   "outputs": [
    {
     "name": "stderr",
     "output_type": "stream",
     "text": [
      "Beginning AutoGluon training ...\n",
      "Preprocessing data ...\n",
      "\tData preprocessing and feature engineering runtime = 0.47s ...\n",
      "AutoGluon will gauge predictive performance using evaluation metric: root_mean_squared_error\n",
      "To change this, specify the eval_metric argument of fit()\n",
      "Fitting model: RandomForestRegressorMSE ...\n",
      "NumExpr defaulting to 4 threads.\n",
      "\t49.81s\t = Training runtime\n",
      "\t-9.9317\t = Validation root_mean_squared_error score\n",
      "Fitting model: ExtraTreesRegressorMSE ...\n",
      "\t33.14s\t = Training runtime\n",
      "\t-10.6895\t = Validation root_mean_squared_error score\n",
      "Fitting model: KNeighborsRegressorUnif ...\n",
      "\t0.91s\t = Training runtime\n",
      "\t-13.7391\t = Validation root_mean_squared_error score\n",
      "Fitting model: KNeighborsRegressorDist ...\n",
      "\t0.67s\t = Training runtime\n",
      "\t-13.4336\t = Validation root_mean_squared_error score\n",
      "Fitting model: LightGBMRegressor ...\n",
      "\t95.97s\t = Training runtime\n",
      "\t-9.3061\t = Validation root_mean_squared_error score\n",
      "Fitting model: CatboostRegressor ...\n",
      "\t433.24s\t = Training runtime\n",
      "\t-9.665\t = Validation root_mean_squared_error score\n",
      "Fitting model: NeuralNetRegressor ...\n",
      "\t368.82s\t = Training runtime\n",
      "\t-9.6526\t = Validation root_mean_squared_error score\n",
      "Fitting model: LightGBMRegressorCustom ...\n",
      "\t20.66s\t = Training runtime\n",
      "\t-9.3257\t = Validation root_mean_squared_error score\n",
      "Fitting model: weighted_ensemble_l1 ...\n",
      "\t1.32s\t = Training runtime\n",
      "\t-9.2026\t = Validation root_mean_squared_error score\n",
      "AutoGluon training complete, total runtime = 1039.24s ...\n"
     ]
    }
   ],
   "source": [
    "predictor_age = task.fit(train_data=train_data, output_directory=\"agModels-predictAge\", label=age_column, problem_type = 'regression')"
   ]
  },
  {
   "cell_type": "code",
   "execution_count": 17,
   "metadata": {},
   "outputs": [
    {
     "name": "stdout",
     "output_type": "stream",
     "text": [
      "Predictive performance on given dataset: root_mean_squared_error = 9.656336630462187\n"
     ]
    }
   ],
   "source": [
    "performance = predictor_age.evaluate(test_data)"
   ]
  }
 ],
 "metadata": {
  "kernelspec": {
   "display_name": "Python 3",
   "language": "python",
   "name": "python3"
  },
  "language_info": {
   "codemirror_mode": {
    "name": "ipython",
    "version": 3
   },
   "file_extension": ".py",
   "mimetype": "text/x-python",
   "name": "python",
   "nbconvert_exporter": "python",
   "pygments_lexer": "ipython3",
   "version": "3.7.5"
  }
 },
 "nbformat": 4,
 "nbformat_minor": 2
}
