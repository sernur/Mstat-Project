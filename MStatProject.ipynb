{
 "cells": [
  {
   "cell_type": "markdown",
   "metadata": {},
   "source": [
    "In this, Jupyter notebook, I used the PhD applications dataset provided by my master thesis advisor. I used basic and known machine learnin methods to predict if the student is accepted, waitlisted or rejected.. Table 1 shows ML models without scaled, table 2 shows with ML models with scaling, Table 3 shows ML models with scaled data set and grid search."
   ]
  },
  {
   "cell_type": "markdown",
   "metadata": {},
   "source": [
    "Table of Contents\n",
    "1. Import Libraries\n",
    "2. Introduction\n",
    "   - Data Set\n",
    "     - Variable Description\n",
    "3. Data Analysis (Visualization)\n",
    "4. Data Prepocessing\n",
    "    1. Handling Missing Values\n",
    "    2. Converting categorical variables to numeric variables. \n",
    "5. Overview of the Methods.\n",
    "    1. Decision Tree\n",
    "    2. Logistic Regression\n",
    "    3. Random Forest\n",
    "    4. Stochastic Gradient Descent\n",
    "    5. KNN\n",
    "    6. Gaussian Naive Bayes\n",
    "    7. Perceptron\n",
    "    8. SVM\n",
    "    9. Linear SVM\n",
    "    10. Adaptive Boosting\n",
    "    11. XGBoost\n",
    "6. A few models with the grid search\n",
    "    1. Decision Tree (DT)\n",
    "    2. Logistic Regression (LG)\n",
    "    3. Random Forest (RF)\n",
    "    4. Stochastic Gradient Descent (SGD\n",
    "    5. KNN\n",
    "    6. Gaussian Naive Bayes (GNB)\n",
    "    7. Perceptron\n",
    "    8. SVM\n",
    "    9. Linear SVM\n",
    "    10. Adaptive Boosting\n",
    "    11. XGBoost\n",
    "    12. Cat Boost\n",
    "    13. Light GBM\n",
    "    14. Which Model is the best ? Table 4  \n",
    "7. Implementing h2o AutoML packages\n",
    "    1. Deep Learning Estimator\n",
    "    2. Deep Water Estimator\n",
    "8. Appendix\n",
    "9. References\n",
    "\n"
   ]
  },
  {
   "cell_type": "markdown",
   "metadata": {},
   "source": [
    "# Import Libraries"
   ]
  },
  {
   "cell_type": "code",
   "execution_count": 166,
   "metadata": {},
   "outputs": [],
   "source": [
    "import warnings\n",
    "warnings.filterwarnings('ignore')\n",
    "warnings.filterwarnings(action='ignore',category=DeprecationWarning)\n",
    "warnings.filterwarnings(action='ignore',category=FutureWarning)"
   ]
  },
  {
   "cell_type": "code",
   "execution_count": 167,
   "metadata": {},
   "outputs": [],
   "source": [
    "import pandas as pd\n",
    "import numpy as np\n",
    "import xgboost as xgb\n",
    "import lightgbm as lgb\n",
    "import seaborn as sns\n",
    "\n",
    "import matplotlib.pyplot as plt\n",
    "import scipy.stats as stats\n"
   ]
  },
  {
   "cell_type": "code",
   "execution_count": 168,
   "metadata": {},
   "outputs": [],
   "source": [
    "# For data visualization\n",
    "%matplotlib inline\n",
    "from matplotlib import pyplot as plt\n",
    "from matplotlib import style\n",
    "\n",
    "# All the models we will apply\n",
    "from sklearn import linear_model\n",
    "\n",
    "\n",
    "from sklearn.model_selection import train_test_split\n",
    "\n",
    "\n",
    "\n",
    "\n",
    "\n",
    "\n",
    "\n",
    "from sklearn.preprocessing import StandardScaler\n",
    "from sklearn.preprocessing import RobustScaler\n",
    "from sklearn.pipeline import make_pipeline\n",
    "from sklearn.base import BaseEstimator, TransformerMixin, RegressorMixin, clone\n",
    "from sklearn.metrics import mean_squared_error\n",
    "from sklearn.metrics import confusion_matrix\n",
    "\n",
    "\n",
    "#from sklearn.manifold import TSNE\n",
    "from sklearn.cluster import KMeans\n",
    "from sklearn.decomposition import PCA\n",
    "from sklearn.model_selection import KFold, cross_val_score\n",
    "from sklearn.metrics import mean_squared_error\n",
    "from sklearn.metrics import accuracy_score\n",
    "\n",
    "from scipy.stats import skew  # for some statistics\n",
    "from scipy.special import boxcox1p\n",
    "from scipy.stats import boxcox_normmax\n",
    "\n",
    "from sklearn import tree\n",
    "\n",
    "from sklearn.linear_model import LogisticRegression\n",
    "from sklearn.ensemble import RandomForestClassifier\n",
    "from sklearn.linear_model import Perceptron\n",
    "from sklearn.linear_model import SGDClassifier\n",
    "from sklearn.tree import DecisionTreeClassifier\n",
    "from sklearn.tree import DecisionTreeRegressor\n",
    "from sklearn.ensemble import AdaBoostClassifier\n",
    "from sklearn.neighbors import KNeighborsClassifier\n",
    "from sklearn.svm import SVC, LinearSVC\n",
    "from sklearn.naive_bayes import GaussianNB\n",
    "from xgboost.sklearn import XGBClassifier\n",
    "\n",
    "\n",
    "\n",
    "\n",
    "\n",
    "\n",
    "from sklearn.linear_model import ElasticNet, Lasso,  BayesianRidge, LassoLarsIC\n",
    "from sklearn.ensemble import RandomForestRegressor,  GradientBoostingRegressor\n",
    "from sklearn.linear_model import TheilSenRegressor\n",
    "from sklearn.linear_model import RANSACRegressor\n",
    "from sklearn.linear_model import HuberRegressor\n",
    "from sklearn.linear_model import LinearRegression\n",
    "from sklearn.linear_model import ElasticNetCV, LassoCV, RidgeCV\n",
    "from sklearn.ensemble import GradientBoostingRegressor\n",
    "from sklearn.svm import SVR\n",
    "from mlxtend.regressor import StackingCVRegressor\n",
    "from xgboost import XGBRegressor\n",
    "from lightgbm import LGBMRegressor\n",
    "from sklearn.kernel_ridge import KernelRidge\n",
    "\n",
    "\n",
    "from sklearn.model_selection import GridSearchCV\n",
    "from scipy.stats import uniform"
   ]
  },
  {
   "cell_type": "code",
   "execution_count": 169,
   "metadata": {},
   "outputs": [],
   "source": [
    "# To support both python 2 and python 3\n",
    "from __future__ import division, print_function, unicode_literals\n",
    "\n",
    "# Common imports\n",
    "import numpy as np\n",
    "import os\n",
    "\n",
    "# to make this notebook's output stable across runs\n",
    "np.random.seed(42)\n",
    "\n",
    "# To plot pretty figures\n",
    "%matplotlib inline\n",
    "import matplotlib as mpl\n",
    "import matplotlib.pyplot as plt\n",
    "mpl.rc('axes', labelsize=14)\n",
    "mpl.rc('xtick', labelsize=12)\n",
    "mpl.rc('ytick', labelsize=12)\n",
    "\n",
    "# Where to save the figures\n",
    "PROJECT_ROOT_DIR = \".\"\n",
    "CHAPTER_ID = \"MStat\"\n",
    "\n",
    "def save_fig(fig_id, tight_layout=True):\n",
    "    path = os.path.join(PROJECT_ROOT_DIR, \"images\", CHAPTER_ID, fig_id + \".png\")\n",
    "    print(\"Saving figure\", fig_id)\n",
    "    if tight_layout:\n",
    "        plt.tight_layout()\n",
    "    plt.savefig(path, format='png', dpi=300)\n",
    "\n",
    "# Ignore useless warnings (see SciPy issue #5998)\n",
    "import warnings\n",
    "warnings.filterwarnings(action=\"ignore\", message=\"^internal gelsd\")"
   ]
  },
  {
   "cell_type": "markdown",
   "metadata": {},
   "source": [
    "# Introduction"
   ]
  },
  {
   "cell_type": "markdown",
   "metadata": {},
   "source": [
    "\n",
    "The data used for this analysis was collected from a major Universities Graduate Mathematics Application system for students applying for the Mathematics PHD program. The information is used by the department of mathematics to determine which applicants will be admitted into the graduate program. Each year members of the department of mathematics review each graduate application and give the prospective student a rating score between one and five, five being the best, with all values in between possible. This rating score determines whether an applicant is accepted, rejected, or put on a waitlist for the Universities Mathematics graduate program. \n",
    "\n",
    "The rating score (or just RATING) and whether an applicant is accepted, rejected, or put on a waitlist (DECISION) are the variables of interest for this project. The purpose of this research is to create both a regression and classification models that can accurately predict the RATING and DECISION, based on the data submitted by the student. The models we are using includes Random Rorest, Gradient Boosting, Generalized Linear, Stacked Ensemble, XGBoost and Deep learning. \n",
    "\n"
   ]
  },
  {
   "cell_type": "markdown",
   "metadata": {},
   "source": [
    "## Data Set"
   ]
  },
  {
   "cell_type": "markdown",
   "metadata": {},
   "source": [
    "The data is collected in a spreadsheet for easy visual inspection. Each row of data represents a single applicant identified by a unique identification number. Each application consists of the qualitative and quantitative data described in the table below. Note that he qualitative variables are identified by blue highlighting.The following variables make up the columns of the spreadsheet. Note that some of these fields are optional for the student to submit, so not every field has an entry for every student. This creates an issues of missing data, and later on we will discuss how this issue was dealt with."
   ]
  },
  {
   "cell_type": "code",
   "execution_count": 170,
   "metadata": {},
   "outputs": [
    {
     "data": {
      "text/html": [
       "<table>\n",
       "<thead>\n",
       "<tr><th>Variable           </th><th>Description                                                      </th></tr>\n",
       "</thead>\n",
       "<tbody>\n",
       "<tr><td>Applicant Client ID</td><td>Application ID                                                   </td></tr>\n",
       "<tr><td>Emphasis Area      </td><td>First choice of study area                                       </td></tr>\n",
       "<tr><td>Emphasis Area 2    </td><td>Secondary choice of study area                                   </td></tr>\n",
       "<tr><td>Emphasis Area 3    </td><td>Tertiary choice of area they would like to study area            </td></tr>\n",
       "<tr><td>UU_APPL_CITIZEN    </td><td>US Citizen (Yes or No)                                           </td></tr>\n",
       "<tr><td>AGE                </td><td>Age of the applicant in years                                    </td></tr>\n",
       "<tr><td>SEX                </td><td>Gender of the applicant: Male or Female                          </td></tr>\n",
       "<tr><td>LOW_INCOME         </td><td>If the applicant is coming from low income family                </td></tr>\n",
       "<tr><td>UU_FIRSTGEN        </td><td>If the appicant is the first generation attending grad school    </td></tr>\n",
       "<tr><td>UU_APPL_NTV_LANG   </td><td>Applicant's native language                                      </td></tr>\n",
       "<tr><td>HAS_LANGUAGE_TEST  </td><td>Foreign Language Exam, if applicable (TOEFL IBT, IELTS, or blank)</td></tr>\n",
       "<tr><td>TEST_READ          </td><td>Score on the reading part of TOEFL                               </td></tr>\n",
       "<tr><td>TEST_SPEAK         </td><td>Score on the speaking part of TOEFL                              </td></tr>\n",
       "<tr><td>TEST_WRITE         </td><td>Score on the writing part of TOEFL                               </td></tr>\n",
       "<tr><td>TEST_LISTEN        </td><td>Score on the listening part of TOEFL                             </td></tr>\n",
       "<tr><td>MAJOR              </td><td>Applicants undergraduate major                                   </td></tr>\n",
       "<tr><td>GPA                </td><td>Applicants GPA                                                   </td></tr>\n",
       "<tr><td>NUM_PREV_INSTS     </td><td>Number of the previous instituions student studied               </td></tr>\n",
       "<tr><td>HAS_GRE_GEN        </td><td>If applicant has taken GRE General exam                          </td></tr>\n",
       "<tr><td>GRE_VERB           </td><td>Raw score on verbal part of the GRE                              </td></tr>\n",
       "<tr><td>GRE_QUANT          </td><td>Raw score on the quantitative part of the GRE                    </td></tr>\n",
       "<tr><td>GRE_AW             </td><td>Raw score on analytical writing part of the GRE                  </td></tr>\n",
       "<tr><td>HAS_GRE_SUBJECT    </td><td>If applicant has taken GRE Subject exam                          </td></tr>\n",
       "<tr><td>GRE_SUB            </td><td>Raw score on Math subject GRE                                    </td></tr>\n",
       "<tr><td>NUM_RECOMMENDS     </td><td>Number of recommenders of the applicant                          </td></tr>\n",
       "<tr><td>R_AVG_ORAL         </td><td>Average of recommender's for applicants oral excellence          </td></tr>\n",
       "<tr><td>R_AVG_WRITTEN      </td><td>Average of recommender's for applicants oral excellence          </td></tr>\n",
       "<tr><td>R_AVG_ACADEMIC     </td><td>Average of recommender's for applicants oral excellence          </td></tr>\n",
       "<tr><td>R_AVG_KNOWLEDGE    </td><td>Average of recommender's for applicants oral excellence          </td></tr>\n",
       "<tr><td>R_AVG_EMOT         </td><td>Average of recommender's for applicants oral excellence          </td></tr>\n",
       "<tr><td>R_AVG_MOT          </td><td>Average of recommender's for applicants oral excellence          </td></tr>\n",
       "<tr><td>R_AVG_RES          </td><td>Average of recommender's for applicants oral excellence          </td></tr>\n",
       "<tr><td>R_AVG_RATING       </td><td>Average of recommender's for applicants oral excellence          </td></tr>\n",
       "<tr><td>RATING             </td><td>Rating score (any value between 1-5)                             </td></tr>\n",
       "<tr><td>DECISION           </td><td>Faculty application decision (Accept, Reject, or Waitlist)       </td></tr>\n",
       "</tbody>\n",
       "</table>"
      ],
      "text/plain": [
       "<IPython.core.display.HTML object>"
      ]
     },
     "metadata": {},
     "output_type": "display_data"
    },
    {
     "name": "stdout",
     "output_type": "stream",
     "text": [
      "None\n"
     ]
    }
   ],
   "source": [
    "from IPython.display import HTML, display\n",
    "import tabulate\n",
    "\n",
    "table = [[\"Applicant Client ID\",\"Application ID\"],\n",
    "         [\"Emphasis Area\",'First choice of study area'],\n",
    "         [\"Emphasis Area 2\",'Secondary choice of study area'],\n",
    "         [\"Emphasis Area 3\",'Tertiary choice of area they would like to study area'], \n",
    "         [\"UU_APPL_CITIZEN\",\"US Citizen (Yes or No)\"],\n",
    "         [\"AGE\",'Age of the applicant in years'],\n",
    "         [\"SEX\",'Gender of the applicant: Male or Female'], \n",
    "         [\"LOW_INCOME\",'If the applicant is coming from low income family'],\n",
    "         [\"UU_FIRSTGEN\",'If the appicant is the first generation attending grad school'],\n",
    "         [\"UU_APPL_NTV_LANG\",\"Applicant's native language\"], \n",
    "         [\"HAS_LANGUAGE_TEST\",'Foreign Language Exam, if applicable (TOEFL IBT, IELTS, or blank)'],\n",
    "         [\"TEST_READ\",'Score on the reading part of TOEFL'],\n",
    "         [\"TEST_SPEAK\",'Score on the speaking part of TOEFL'], \n",
    "         [\"TEST_WRITE\",'Score on the writing part of TOEFL'],\n",
    "         [\"TEST_LISTEN\",'Score on the listening part of TOEFL'],\n",
    "         [\"MAJOR\",'Applicants undergraduate major'], \n",
    "         [\"GPA\",'Applicants GPA'],\n",
    "         [\"NUM_PREV_INSTS\",'Number of the previous instituions student studied'],\n",
    "         [\"HAS_GRE_GEN\",'If applicant has taken GRE General exam'], \n",
    "         [\"GRE_VERB\",'Raw score on verbal part of the GRE'],\n",
    "         [\"GRE_QUANT\",'Raw score on the quantitative part of the GRE'],\n",
    "         [\"GRE_AW\",'Raw score on analytical writing part of the GRE'], \n",
    "         [\"HAS_GRE_SUBJECT\",'If applicant has taken GRE Subject exam'],\n",
    "         [\"GRE_SUB\",'Raw score on Math subject GRE'],\n",
    "         [\"NUM_RECOMMENDS\",'Number of recommenders of the applicant'],\n",
    "         [\"R_AVG_ORAL\",\"Average of recommender's for applicants oral excellence\" ], \n",
    "         [\"R_AVG_WRITTEN\",\"Average of recommender's for applicants oral excellence\"],\n",
    "         [\"R_AVG_ACADEMIC\",\"Average of recommender's for applicants oral excellence\"], \n",
    "         [\"R_AVG_KNOWLEDGE\",\"Average of recommender's for applicants oral excellence\"],\n",
    "         [\"R_AVG_EMOT\",\"Average of recommender's for applicants oral excellence\"],\n",
    "         [\"R_AVG_MOT\",\"Average of recommender's for applicants oral excellence\"], \n",
    "         [\"R_AVG_RES\",\"Average of recommender's for applicants oral excellence\"],\n",
    "         [\"R_AVG_RATING\",\"Average of recommender's for applicants oral excellence\"],\n",
    "         [\"RATING\",'Rating score (any value between 1-5)'], \n",
    "         [\"DECISION\",'Faculty application decision (Accept, Reject, or Waitlist)'], ]\n",
    "headers = [\"Variable\", \"Description\"]\n",
    "print(display(HTML(tabulate.tabulate(table, headers,tablefmt='html'))))"
   ]
  },
  {
   "cell_type": "markdown",
   "metadata": {},
   "source": [
    "The data set includes 759 graduate applications, that were submitted for admission in Fall 2016, Fall 2017, Fall 2018 and Fall 2019. There are various missing data points throughout both the dataset. The tables below describes the number of missing values for each variable for whole data set. Missing data is represented by shorter columns. The bottom of the table lists the various variable names. The top of the table represents how many data entries we have. On the left of the table is the percentage of the missing data for a specific category.  The numbers on the right of the table records the number of variables that each variable has. For example, on the bottom columns starting from TEST_READ, TEST_SPEAK, TEST_WRITE and TETS_LISTEN have shorter columns."
   ]
  },
  {
   "cell_type": "markdown",
   "metadata": {},
   "source": [
    "The applicants age (AGE) was calculated using the applicants birthday and is accurate as of 1 January of the year in which they applied. Also, since all universities do not use the same GPA scale, GPA values over four were reviewed and scaled based on information deduced from the applicants resume. "
   ]
  },
  {
   "cell_type": "markdown",
   "metadata": {},
   "source": [
    "## Data Analysis"
   ]
  },
  {
   "cell_type": "markdown",
   "metadata": {},
   "source": [
    "Load the data and see the first four rows of the data."
   ]
  },
  {
   "cell_type": "code",
   "execution_count": 171,
   "metadata": {},
   "outputs": [
    {
     "data": {
      "text/html": [
       "<div>\n",
       "<style scoped>\n",
       "    .dataframe tbody tr th:only-of-type {\n",
       "        vertical-align: middle;\n",
       "    }\n",
       "\n",
       "    .dataframe tbody tr th {\n",
       "        vertical-align: top;\n",
       "    }\n",
       "\n",
       "    .dataframe thead th {\n",
       "        text-align: right;\n",
       "    }\n",
       "</style>\n",
       "<table border=\"1\" class=\"dataframe\">\n",
       "  <thead>\n",
       "    <tr style=\"text-align: right;\">\n",
       "      <th></th>\n",
       "      <th>Applicant_Client_ID</th>\n",
       "      <th>Emphasis Area</th>\n",
       "      <th>Emphasis Area 2</th>\n",
       "      <th>Emphasis Area 3</th>\n",
       "      <th>UU_APPL_CITIZEN</th>\n",
       "      <th>CTZNSHP</th>\n",
       "      <th>AGE</th>\n",
       "      <th>SEX</th>\n",
       "      <th>LOW_INCOME</th>\n",
       "      <th>UU_FIRSTGEN</th>\n",
       "      <th>...</th>\n",
       "      <th>R_AVG_ORAL</th>\n",
       "      <th>R_AVG_WRITTEN</th>\n",
       "      <th>R_AVG_ACADEMIC</th>\n",
       "      <th>R_AVG_KNOWLEDGE</th>\n",
       "      <th>R_AVG_EMOT</th>\n",
       "      <th>R_AVG_MOT</th>\n",
       "      <th>R_AVG_RES</th>\n",
       "      <th>R_AVG_RATING</th>\n",
       "      <th>RATING</th>\n",
       "      <th>DECISION</th>\n",
       "    </tr>\n",
       "  </thead>\n",
       "  <tbody>\n",
       "    <tr>\n",
       "      <td>0</td>\n",
       "      <td>3554048</td>\n",
       "      <td>Probability</td>\n",
       "      <td>Mathematical Biology</td>\n",
       "      <td>Applied Mathematics</td>\n",
       "      <td>Yes</td>\n",
       "      <td>UNITED STATES</td>\n",
       "      <td>28.7</td>\n",
       "      <td>Male</td>\n",
       "      <td>No</td>\n",
       "      <td>Unspecified</td>\n",
       "      <td>...</td>\n",
       "      <td>12.5</td>\n",
       "      <td>11.3</td>\n",
       "      <td>15.0</td>\n",
       "      <td>15.0</td>\n",
       "      <td>20.0</td>\n",
       "      <td>15.0</td>\n",
       "      <td>12.5</td>\n",
       "      <td>20.0</td>\n",
       "      <td>3.67</td>\n",
       "      <td>Reject</td>\n",
       "    </tr>\n",
       "    <tr>\n",
       "      <td>1</td>\n",
       "      <td>3698974</td>\n",
       "      <td>Mathematical Biology</td>\n",
       "      <td>Geometry/Topology</td>\n",
       "      <td>0</td>\n",
       "      <td>Yes</td>\n",
       "      <td>UNITED STATES</td>\n",
       "      <td>42.4</td>\n",
       "      <td>Female</td>\n",
       "      <td>Yes</td>\n",
       "      <td>Y</td>\n",
       "      <td>...</td>\n",
       "      <td>20.0</td>\n",
       "      <td>13.3</td>\n",
       "      <td>16.7</td>\n",
       "      <td>13.3</td>\n",
       "      <td>16.7</td>\n",
       "      <td>16.7</td>\n",
       "      <td>10.0</td>\n",
       "      <td>20.0</td>\n",
       "      <td>4.50</td>\n",
       "      <td>Waitlist</td>\n",
       "    </tr>\n",
       "    <tr>\n",
       "      <td>2</td>\n",
       "      <td>3708400</td>\n",
       "      <td>Statistics</td>\n",
       "      <td>0</td>\n",
       "      <td>0</td>\n",
       "      <td>Yes</td>\n",
       "      <td>UNITED STATES</td>\n",
       "      <td>35.8</td>\n",
       "      <td>Male</td>\n",
       "      <td>Unspecified</td>\n",
       "      <td>Unspecified</td>\n",
       "      <td>...</td>\n",
       "      <td>20.0</td>\n",
       "      <td>20.0</td>\n",
       "      <td>20.0</td>\n",
       "      <td>16.7</td>\n",
       "      <td>20.0</td>\n",
       "      <td>16.7</td>\n",
       "      <td>16.7</td>\n",
       "      <td>26.7</td>\n",
       "      <td>3.25</td>\n",
       "      <td>Reject</td>\n",
       "    </tr>\n",
       "    <tr>\n",
       "      <td>3</td>\n",
       "      <td>3755025</td>\n",
       "      <td>Geometry/Topology</td>\n",
       "      <td>Algebraic Geometry</td>\n",
       "      <td>Representation Theory</td>\n",
       "      <td>Yes</td>\n",
       "      <td>UNITED STATES</td>\n",
       "      <td>30.2</td>\n",
       "      <td>Male</td>\n",
       "      <td>Not Sure</td>\n",
       "      <td>Unspecified</td>\n",
       "      <td>...</td>\n",
       "      <td>6.7</td>\n",
       "      <td>6.7</td>\n",
       "      <td>6.7</td>\n",
       "      <td>6.7</td>\n",
       "      <td>6.7</td>\n",
       "      <td>6.7</td>\n",
       "      <td>6.7</td>\n",
       "      <td>26.7</td>\n",
       "      <td>4.10</td>\n",
       "      <td>Reject</td>\n",
       "    </tr>\n",
       "  </tbody>\n",
       "</table>\n",
       "<p>4 rows × 36 columns</p>\n",
       "</div>"
      ],
      "text/plain": [
       "   Applicant_Client_ID         Emphasis Area       Emphasis Area 2  \\\n",
       "0              3554048           Probability  Mathematical Biology   \n",
       "1              3698974  Mathematical Biology     Geometry/Topology   \n",
       "2              3708400            Statistics                     0   \n",
       "3              3755025     Geometry/Topology    Algebraic Geometry   \n",
       "\n",
       "         Emphasis Area 3 UU_APPL_CITIZEN        CTZNSHP   AGE     SEX  \\\n",
       "0    Applied Mathematics             Yes  UNITED STATES  28.7    Male   \n",
       "1                      0             Yes  UNITED STATES  42.4  Female   \n",
       "2                      0             Yes  UNITED STATES  35.8    Male   \n",
       "3  Representation Theory             Yes  UNITED STATES  30.2    Male   \n",
       "\n",
       "    LOW_INCOME  UU_FIRSTGEN  ... R_AVG_ORAL R_AVG_WRITTEN  R_AVG_ACADEMIC  \\\n",
       "0           No  Unspecified  ...       12.5          11.3            15.0   \n",
       "1          Yes            Y  ...       20.0          13.3            16.7   \n",
       "2  Unspecified  Unspecified  ...       20.0          20.0            20.0   \n",
       "3     Not Sure  Unspecified  ...        6.7           6.7             6.7   \n",
       "\n",
       "   R_AVG_KNOWLEDGE  R_AVG_EMOT  R_AVG_MOT R_AVG_RES  R_AVG_RATING  RATING  \\\n",
       "0             15.0        20.0       15.0      12.5          20.0    3.67   \n",
       "1             13.3        16.7       16.7      10.0          20.0    4.50   \n",
       "2             16.7        20.0       16.7      16.7          26.7    3.25   \n",
       "3              6.7         6.7        6.7       6.7          26.7    4.10   \n",
       "\n",
       "   DECISION  \n",
       "0    Reject  \n",
       "1  Waitlist  \n",
       "2    Reject  \n",
       "3    Reject  \n",
       "\n",
       "[4 rows x 36 columns]"
      ]
     },
     "execution_count": 171,
     "metadata": {},
     "output_type": "execute_result"
    }
   ],
   "source": [
    "students =  pd.read_csv('Sergazy_last.csv')\n",
    "students.head(4)"
   ]
  },
  {
   "cell_type": "markdown",
   "metadata": {},
   "source": [
    "Let us have an idea about the data. See the information about it. We will see what kind of variables we have."
   ]
  },
  {
   "cell_type": "code",
   "execution_count": 172,
   "metadata": {},
   "outputs": [
    {
     "name": "stdout",
     "output_type": "stream",
     "text": [
      "<class 'pandas.core.frame.DataFrame'>\n",
      "RangeIndex: 759 entries, 0 to 758\n",
      "Data columns (total 36 columns):\n",
      "Applicant_Client_ID    759 non-null int64\n",
      "Emphasis Area          759 non-null object\n",
      "Emphasis Area 2        759 non-null object\n",
      "Emphasis Area 3        759 non-null object\n",
      "UU_APPL_CITIZEN        759 non-null object\n",
      "CTZNSHP                759 non-null object\n",
      "AGE                    759 non-null float64\n",
      "SEX                    759 non-null object\n",
      "LOW_INCOME             759 non-null object\n",
      "UU_FIRSTGEN            759 non-null object\n",
      "UU_APPL_NTV_LANG       759 non-null object\n",
      "HAS_LANGUAGE_TEST      759 non-null object\n",
      "TEST_READ              272 non-null float64\n",
      "TEST_SPEAK             272 non-null float64\n",
      "TEST_WRITE             272 non-null float64\n",
      "TEST_LISTEN            272 non-null float64\n",
      "MAJOR                  759 non-null object\n",
      "GPA                    759 non-null float64\n",
      "NUM_PREV_INSTS         759 non-null int64\n",
      "HAS_GRE_GEN            759 non-null object\n",
      "GRE_VERB               647 non-null float64\n",
      "GRE_QUANT              647 non-null float64\n",
      "GRE_AW                 647 non-null float64\n",
      "HAS_GRE_SUBJECT        759 non-null object\n",
      "GRE_SUB                554 non-null float64\n",
      "NUM_RECOMMENDS         759 non-null int64\n",
      "R_AVG_ORAL             759 non-null float64\n",
      "R_AVG_WRITTEN          759 non-null float64\n",
      "R_AVG_ACADEMIC         759 non-null float64\n",
      "R_AVG_KNOWLEDGE        759 non-null float64\n",
      "R_AVG_EMOT             759 non-null float64\n",
      "R_AVG_MOT              759 non-null float64\n",
      "R_AVG_RES              759 non-null float64\n",
      "R_AVG_RATING           759 non-null float64\n",
      "RATING                 759 non-null float64\n",
      "DECISION               759 non-null object\n",
      "dtypes: float64(19), int64(3), object(14)\n",
      "memory usage: 213.6+ KB\n"
     ]
    }
   ],
   "source": [
    "students.info()"
   ]
  },
  {
   "cell_type": "markdown",
   "metadata": {},
   "source": [
    "There 759 number of observations with 36 columns."
   ]
  },
  {
   "cell_type": "markdown",
   "metadata": {},
   "source": [
    "Let us the number of the missing values for each variable."
   ]
  },
  {
   "cell_type": "code",
   "execution_count": 173,
   "metadata": {},
   "outputs": [
    {
     "data": {
      "text/plain": [
       "Applicant_Client_ID      0\n",
       "Emphasis Area            0\n",
       "Emphasis Area 2          0\n",
       "Emphasis Area 3          0\n",
       "UU_APPL_CITIZEN          0\n",
       "CTZNSHP                  0\n",
       "AGE                      0\n",
       "SEX                      0\n",
       "LOW_INCOME               0\n",
       "UU_FIRSTGEN              0\n",
       "UU_APPL_NTV_LANG         0\n",
       "HAS_LANGUAGE_TEST        0\n",
       "TEST_READ              487\n",
       "TEST_SPEAK             487\n",
       "TEST_WRITE             487\n",
       "TEST_LISTEN            487\n",
       "MAJOR                    0\n",
       "GPA                      0\n",
       "NUM_PREV_INSTS           0\n",
       "HAS_GRE_GEN              0\n",
       "GRE_VERB               112\n",
       "GRE_QUANT              112\n",
       "GRE_AW                 112\n",
       "HAS_GRE_SUBJECT          0\n",
       "GRE_SUB                205\n",
       "NUM_RECOMMENDS           0\n",
       "R_AVG_ORAL               0\n",
       "R_AVG_WRITTEN            0\n",
       "R_AVG_ACADEMIC           0\n",
       "R_AVG_KNOWLEDGE          0\n",
       "R_AVG_EMOT               0\n",
       "R_AVG_MOT                0\n",
       "R_AVG_RES                0\n",
       "R_AVG_RATING             0\n",
       "RATING                   0\n",
       "DECISION                 0\n",
       "dtype: int64"
      ]
     },
     "execution_count": 173,
     "metadata": {},
     "output_type": "execute_result"
    }
   ],
   "source": [
    "students.isnull().sum()"
   ]
  },
  {
   "cell_type": "markdown",
   "metadata": {},
   "source": [
    "## Data Visualization"
   ]
  },
  {
   "cell_type": "markdown",
   "metadata": {},
   "source": [
    "Right now let us see the relations between variables via visualization."
   ]
  },
  {
   "cell_type": "code",
   "execution_count": 174,
   "metadata": {},
   "outputs": [],
   "source": [
    "# to make this notebook's output identical at every run\n",
    "np.random.seed(42)"
   ]
  },
  {
   "cell_type": "code",
   "execution_count": 175,
   "metadata": {},
   "outputs": [
    {
     "data": {
      "text/plain": [
       "Reject      403\n",
       "Waitlist    242\n",
       "Admit       114\n",
       "Name: DECISION, dtype: int64"
      ]
     },
     "execution_count": 175,
     "metadata": {},
     "output_type": "execute_result"
    }
   ],
   "source": [
    "students['DECISION'].value_counts()"
   ]
  },
  {
   "cell_type": "code",
   "execution_count": 176,
   "metadata": {},
   "outputs": [
    {
     "data": {
      "text/plain": [
       "<matplotlib.axes._subplots.AxesSubplot at 0x1a29c8da90>"
      ]
     },
     "execution_count": 176,
     "metadata": {},
     "output_type": "execute_result"
    },
    {
     "data": {
      "image/png": "[encoded data removed]",
      "text/plain": [
       "<Figure size 432x288 with 1 Axes>"
      ]
     },
     "metadata": {
      "needs_background": "light"
     },
     "output_type": "display_data"
    }
   ],
   "source": [
    "students['AGE'].plot(kind = 'hist')"
   ]
  },
  {
   "cell_type": "code",
   "execution_count": 177,
   "metadata": {},
   "outputs": [
    {
     "data": {
      "text/plain": [
       "<matplotlib.axes._subplots.AxesSubplot at 0x1a2add5588>"
      ]
     },
     "execution_count": 177,
     "metadata": {},
     "output_type": "execute_result"
    },
    {
     "data": {
      "image/png": "[encoded data removed]",
      "text/plain": [
       "<Figure size 432x288 with 1 Axes>"
      ]
     },
     "metadata": {
      "needs_background": "light"
     },
     "output_type": "display_data"
    }
   ],
   "source": [
    "students.plot(kind = 'scatter',x = 'GPA',y = 'RATING')"
   ]
  },
  {
   "cell_type": "code",
   "execution_count": 178,
   "metadata": {},
   "outputs": [
    {
     "name": "stdout",
     "output_type": "stream",
     "text": [
      "Saving figure students_rating_GPA_scatterplot\n"
     ]
    },
    {
     "data": {
      "image/png": "[encoded data removed]",
      "text/plain": [
       "<Figure size 720x504 with 2 Axes>"
      ]
     },
     "metadata": {
      "needs_background": "light"
     },
     "output_type": "display_data"
    }
   ],
   "source": [
    "students.plot(kind=\"scatter\", x=\"GPA\", y=\"RATING\", alpha=0.4,\n",
    "    s=students[\"AGE\"], label=\"AGE\", figsize=(10,7),\n",
    "    c=\"R_AVG_RATING\", cmap=plt.get_cmap(\"jet\"), colorbar=True,\n",
    "    sharex=False)\n",
    "plt.legend()\n",
    "save_fig(\"students_rating_GPA_scatterplot\")"
   ]
  },
  {
   "cell_type": "markdown",
   "metadata": {},
   "source": [
    "Let us see survival according to the who variable."
   ]
  },
  {
   "cell_type": "code",
   "execution_count": 179,
   "metadata": {},
   "outputs": [
    {
     "data": {
      "text/plain": [
       "<matplotlib.axes._subplots.AxesSubplot at 0x1a299ac908>"
      ]
     },
     "execution_count": 179,
     "metadata": {},
     "output_type": "execute_result"
    },
    {
     "data": {
      "image/png": "[encoded data removed]",
      "text/plain": [
       "<Figure size 432x288 with 1 Axes>"
      ]
     },
     "metadata": {
      "needs_background": "light"
     },
     "output_type": "display_data"
    }
   ],
   "source": [
    "sns.countplot(data = students, x = 'DECISION', hue = 'SEX')"
   ]
  },
  {
   "cell_type": "code",
   "execution_count": 180,
   "metadata": {},
   "outputs": [],
   "source": [
    "#sns.countplot(data = students, x = 'DECISION', hue = 'MAJOR')"
   ]
  },
  {
   "cell_type": "code",
   "execution_count": 181,
   "metadata": {},
   "outputs": [
    {
     "data": {
      "text/plain": [
       "<seaborn.axisgrid.FacetGrid at 0x1a29b9eda0>"
      ]
     },
     "execution_count": 181,
     "metadata": {},
     "output_type": "execute_result"
    },
    {
     "data": {
      "image/png": "[encoded data removed]",
      "text/plain": [
       "<Figure size 1221.12x360 with 3 Axes>"
      ]
     },
     "metadata": {
      "needs_background": "light"
     },
     "output_type": "display_data"
    }
   ],
   "source": [
    "sns.catplot(data = students, x = 'DECISION', hue = 'MAJOR', kind = 'count', col = 'SEX')"
   ]
  },
  {
   "cell_type": "markdown",
   "metadata": {},
   "source": [
    "These histogram does not tell you much except if unspecified sex has equal number of being accepted,rejected, or waitlisted. "
   ]
  },
  {
   "cell_type": "markdown",
   "metadata": {},
   "source": [
    "## Decision according to AGE and GPA"
   ]
  },
  {
   "cell_type": "code",
   "execution_count": 182,
   "metadata": {},
   "outputs": [
    {
     "data": {
      "text/plain": [
       "<matplotlib.axes._subplots.AxesSubplot at 0x1a299ff208>"
      ]
     },
     "execution_count": 182,
     "metadata": {},
     "output_type": "execute_result"
    },
    {
     "data": {
      "image/png": "[encoded data removed]",
      "text/plain": [
       "<Figure size 432x288 with 1 Axes>"
      ]
     },
     "metadata": {
      "needs_background": "light"
     },
     "output_type": "display_data"
    }
   ],
   "source": [
    "sns.scatterplot(x = 'AGE',y = 'GPA', data =students,hue = 'DECISION')"
   ]
  },
  {
   "cell_type": "code",
   "execution_count": 183,
   "metadata": {},
   "outputs": [
    {
     "data": {
      "text/plain": [
       "<matplotlib.axes._subplots.AxesSubplot at 0x1a2821f780>"
      ]
     },
     "execution_count": 183,
     "metadata": {},
     "output_type": "execute_result"
    },
    {
     "data": {
      "image/png": "[encoded data removed]",
      "text/plain": [
       "<Figure size 432x288 with 1 Axes>"
      ]
     },
     "metadata": {
      "needs_background": "light"
     },
     "output_type": "display_data"
    }
   ],
   "source": [
    "sns.barplot(y = 'R_AVG_RATING',x = 'DECISION', data = students)"
   ]
  },
  {
   "cell_type": "code",
   "execution_count": 184,
   "metadata": {},
   "outputs": [
    {
     "data": {
      "text/plain": [
       "<matplotlib.axes._subplots.AxesSubplot at 0x1a29840c18>"
      ]
     },
     "execution_count": 184,
     "metadata": {},
     "output_type": "execute_result"
    },
    {
     "data": {
      "image/png": "[encoded data removed]",
      "text/plain": [
       "<Figure size 432x288 with 1 Axes>"
      ]
     },
     "metadata": {
      "needs_background": "light"
     },
     "output_type": "display_data"
    }
   ],
   "source": [
    "sns.countplot(data = students, x = 'DECISION', hue = 'LOW_INCOME')\n",
    "#UU_FIRSTGEN            \n",
    "#UU_APPL_NTV_LANG "
   ]
  },
  {
   "cell_type": "code",
   "execution_count": 185,
   "metadata": {},
   "outputs": [
    {
     "data": {
      "text/plain": [
       "<matplotlib.axes._subplots.AxesSubplot at 0x1a2987cda0>"
      ]
     },
     "execution_count": 185,
     "metadata": {},
     "output_type": "execute_result"
    },
    {
     "data": {
      "image/png": "[encoded data removed]",
      "text/plain": [
       "<Figure size 432x288 with 1 Axes>"
      ]
     },
     "metadata": {
      "needs_background": "light"
     },
     "output_type": "display_data"
    }
   ],
   "source": [
    "sns.countplot(data = students, x = 'DECISION', hue = 'UU_FIRSTGEN')"
   ]
  },
  {
   "cell_type": "code",
   "execution_count": 186,
   "metadata": {},
   "outputs": [
    {
     "data": {
      "text/plain": [
       "<matplotlib.axes._subplots.AxesSubplot at 0x1a2bb36320>"
      ]
     },
     "execution_count": 186,
     "metadata": {},
     "output_type": "execute_result"
    },
    {
     "data": {
      "image/png": "[encoded data removed]",
      "text/plain": [
       "<Figure size 432x288 with 1 Axes>"
      ]
     },
     "metadata": {
      "needs_background": "light"
     },
     "output_type": "display_data"
    }
   ],
   "source": [
    "sns.countplot(data = students, x = 'DECISION', hue = 'NUM_PREV_INSTS')"
   ]
  },
  {
   "cell_type": "markdown",
   "metadata": {},
   "source": [
    "These histograms show that low income, being first generation in your family coming to grad school or number of previous institutions you studied is not much of relavent to get accepted. "
   ]
  },
  {
   "cell_type": "code",
   "execution_count": 187,
   "metadata": {},
   "outputs": [
    {
     "data": {
      "image/png": "[encoded data removed]",
      "text/plain": [
       "<Figure size 786.425x648 with 9 Axes>"
      ]
     },
     "metadata": {
      "needs_background": "light"
     },
     "output_type": "display_data"
    }
   ],
   "source": [
    "bins = np.arange(0, 80, 5)\n",
    "g = sns.FacetGrid(students, row='SEX', col='UU_FIRSTGEN', hue='DECISION', margin_titles=True, height=3, aspect=1.1)\n",
    "g.map(sns.distplot, 'AGE', kde=False, bins=bins, hist_kws=dict(alpha=0.7))\n",
    "g.add_legend()  \n",
    "plt.show()  "
   ]
  },
  {
   "cell_type": "markdown",
   "metadata": {},
   "source": [
    "Here, We do not any see any blue color in left bottom corner.  We see that unspecified first generation and unspecified sex helped to increase the chance of getting admitted. "
   ]
  },
  {
   "cell_type": "markdown",
   "metadata": {},
   "source": [
    "This shows that waitlisted people have higher average than being admitted."
   ]
  },
  {
   "cell_type": "code",
   "execution_count": 188,
   "metadata": {},
   "outputs": [
    {
     "data": {
      "text/plain": [
       "<seaborn.axisgrid.FacetGrid at 0x1a28700978>"
      ]
     },
     "execution_count": 188,
     "metadata": {},
     "output_type": "execute_result"
    },
    {
     "data": {
      "image/png": "[encoded data removed]",
      "text/plain": [
       "<Figure size 720x360 with 1 Axes>"
      ]
     },
     "metadata": {
      "needs_background": "light"
     },
     "output_type": "display_data"
    }
   ],
   "source": [
    "sns.catplot('GPA','DECISION',data = students, aspect = 2.0, kind = 'point' )"
   ]
  },
  {
   "cell_type": "markdown",
   "metadata": {},
   "source": [
    "Below we see that higher number of previous instutions is better to get admitted."
   ]
  },
  {
   "cell_type": "code",
   "execution_count": 189,
   "metadata": {},
   "outputs": [
    {
     "data": {
      "text/plain": [
       "<seaborn.axisgrid.FacetGrid at 0x1a2df30c88>"
      ]
     },
     "execution_count": 189,
     "metadata": {},
     "output_type": "execute_result"
    },
    {
     "data": {
      "image/png": "[encoded data removed]",
      "text/plain": [
       "<Figure size 720x360 with 1 Axes>"
      ]
     },
     "metadata": {
      "needs_background": "light"
     },
     "output_type": "display_data"
    }
   ],
   "source": [
    "sns.catplot('NUM_PREV_INSTS','DECISION',data = students, aspect = 2.0, kind = 'point' )"
   ]
  },
  {
   "cell_type": "markdown",
   "metadata": {},
   "source": [
    "### Using groupby to see the relations"
   ]
  },
  {
   "cell_type": "code",
   "execution_count": 190,
   "metadata": {},
   "outputs": [
    {
     "name": "stdout",
     "output_type": "stream",
     "text": [
      "<class 'pandas.core.frame.DataFrame'>\n"
     ]
    },
    {
     "data": {
      "text/html": [
       "<div>\n",
       "<style scoped>\n",
       "    .dataframe tbody tr th:only-of-type {\n",
       "        vertical-align: middle;\n",
       "    }\n",
       "\n",
       "    .dataframe tbody tr th {\n",
       "        vertical-align: top;\n",
       "    }\n",
       "\n",
       "    .dataframe thead th {\n",
       "        text-align: right;\n",
       "    }\n",
       "</style>\n",
       "<table border=\"1\" class=\"dataframe\">\n",
       "  <thead>\n",
       "    <tr style=\"text-align: right;\">\n",
       "      <th></th>\n",
       "      <th>Applicant_Client_ID</th>\n",
       "      <th>AGE</th>\n",
       "      <th>TEST_READ</th>\n",
       "      <th>TEST_SPEAK</th>\n",
       "      <th>TEST_WRITE</th>\n",
       "      <th>TEST_LISTEN</th>\n",
       "      <th>GPA</th>\n",
       "      <th>NUM_PREV_INSTS</th>\n",
       "      <th>GRE_VERB</th>\n",
       "      <th>GRE_QUANT</th>\n",
       "      <th>...</th>\n",
       "      <th>NUM_RECOMMENDS</th>\n",
       "      <th>R_AVG_ORAL</th>\n",
       "      <th>R_AVG_WRITTEN</th>\n",
       "      <th>R_AVG_ACADEMIC</th>\n",
       "      <th>R_AVG_KNOWLEDGE</th>\n",
       "      <th>R_AVG_EMOT</th>\n",
       "      <th>R_AVG_MOT</th>\n",
       "      <th>R_AVG_RES</th>\n",
       "      <th>R_AVG_RATING</th>\n",
       "      <th>RATING</th>\n",
       "    </tr>\n",
       "    <tr>\n",
       "      <th>SEX</th>\n",
       "      <th></th>\n",
       "      <th></th>\n",
       "      <th></th>\n",
       "      <th></th>\n",
       "      <th></th>\n",
       "      <th></th>\n",
       "      <th></th>\n",
       "      <th></th>\n",
       "      <th></th>\n",
       "      <th></th>\n",
       "      <th></th>\n",
       "      <th></th>\n",
       "      <th></th>\n",
       "      <th></th>\n",
       "      <th></th>\n",
       "      <th></th>\n",
       "      <th></th>\n",
       "      <th></th>\n",
       "      <th></th>\n",
       "      <th></th>\n",
       "      <th></th>\n",
       "    </tr>\n",
       "  </thead>\n",
       "  <tbody>\n",
       "    <tr>\n",
       "      <td>Female</td>\n",
       "      <td>3.927072e+06</td>\n",
       "      <td>23.865241</td>\n",
       "      <td>26.148936</td>\n",
       "      <td>22.308511</td>\n",
       "      <td>23.744681</td>\n",
       "      <td>25.680851</td>\n",
       "      <td>3.493529</td>\n",
       "      <td>1.877005</td>\n",
       "      <td>155.368750</td>\n",
       "      <td>163.937500</td>\n",
       "      <td>...</td>\n",
       "      <td>3.197861</td>\n",
       "      <td>14.771658</td>\n",
       "      <td>14.660428</td>\n",
       "      <td>16.567914</td>\n",
       "      <td>16.156150</td>\n",
       "      <td>16.290374</td>\n",
       "      <td>17.993048</td>\n",
       "      <td>14.368984</td>\n",
       "      <td>22.209091</td>\n",
       "      <td>3.754545</td>\n",
       "    </tr>\n",
       "    <tr>\n",
       "      <td>Male</td>\n",
       "      <td>3.916641e+06</td>\n",
       "      <td>24.333816</td>\n",
       "      <td>27.418981</td>\n",
       "      <td>21.875000</td>\n",
       "      <td>24.476852</td>\n",
       "      <td>26.037037</td>\n",
       "      <td>3.328879</td>\n",
       "      <td>1.853526</td>\n",
       "      <td>156.038217</td>\n",
       "      <td>166.065817</td>\n",
       "      <td>...</td>\n",
       "      <td>3.160940</td>\n",
       "      <td>14.212477</td>\n",
       "      <td>14.263291</td>\n",
       "      <td>16.847920</td>\n",
       "      <td>16.963834</td>\n",
       "      <td>15.775769</td>\n",
       "      <td>17.888969</td>\n",
       "      <td>14.633635</td>\n",
       "      <td>22.992043</td>\n",
       "      <td>3.649747</td>\n",
       "    </tr>\n",
       "    <tr>\n",
       "      <td>Unspecified</td>\n",
       "      <td>3.906575e+06</td>\n",
       "      <td>24.073684</td>\n",
       "      <td>27.333333</td>\n",
       "      <td>20.166667</td>\n",
       "      <td>24.222222</td>\n",
       "      <td>22.666667</td>\n",
       "      <td>3.595789</td>\n",
       "      <td>1.789474</td>\n",
       "      <td>153.187500</td>\n",
       "      <td>166.437500</td>\n",
       "      <td>...</td>\n",
       "      <td>3.421053</td>\n",
       "      <td>12.584211</td>\n",
       "      <td>12.963158</td>\n",
       "      <td>16.300000</td>\n",
       "      <td>15.752632</td>\n",
       "      <td>15.005263</td>\n",
       "      <td>16.542105</td>\n",
       "      <td>13.442105</td>\n",
       "      <td>20.826316</td>\n",
       "      <td>4.089474</td>\n",
       "    </tr>\n",
       "  </tbody>\n",
       "</table>\n",
       "<p>3 rows × 22 columns</p>\n",
       "</div>"
      ],
      "text/plain": [
       "             Applicant_Client_ID        AGE  TEST_READ  TEST_SPEAK  \\\n",
       "SEX                                                                  \n",
       "Female              3.927072e+06  23.865241  26.148936   22.308511   \n",
       "Male                3.916641e+06  24.333816  27.418981   21.875000   \n",
       "Unspecified         3.906575e+06  24.073684  27.333333   20.166667   \n",
       "\n",
       "             TEST_WRITE  TEST_LISTEN       GPA  NUM_PREV_INSTS    GRE_VERB  \\\n",
       "SEX                                                                          \n",
       "Female        23.744681    25.680851  3.493529        1.877005  155.368750   \n",
       "Male          24.476852    26.037037  3.328879        1.853526  156.038217   \n",
       "Unspecified   24.222222    22.666667  3.595789        1.789474  153.187500   \n",
       "\n",
       "              GRE_QUANT  ...  NUM_RECOMMENDS  R_AVG_ORAL  R_AVG_WRITTEN  \\\n",
       "SEX                      ...                                              \n",
       "Female       163.937500  ...        3.197861   14.771658      14.660428   \n",
       "Male         166.065817  ...        3.160940   14.212477      14.263291   \n",
       "Unspecified  166.437500  ...        3.421053   12.584211      12.963158   \n",
       "\n",
       "             R_AVG_ACADEMIC  R_AVG_KNOWLEDGE  R_AVG_EMOT  R_AVG_MOT  \\\n",
       "SEX                                                                   \n",
       "Female            16.567914        16.156150   16.290374  17.993048   \n",
       "Male              16.847920        16.963834   15.775769  17.888969   \n",
       "Unspecified       16.300000        15.752632   15.005263  16.542105   \n",
       "\n",
       "             R_AVG_RES  R_AVG_RATING    RATING  \n",
       "SEX                                             \n",
       "Female       14.368984     22.209091  3.754545  \n",
       "Male         14.633635     22.992043  3.649747  \n",
       "Unspecified  13.442105     20.826316  4.089474  \n",
       "\n",
       "[3 rows x 22 columns]"
      ]
     },
     "execution_count": 190,
     "metadata": {},
     "output_type": "execute_result"
    }
   ],
   "source": [
    "print(type(students.groupby('SEX').mean()))\n",
    "students.groupby('SEX').mean()"
   ]
  },
  {
   "cell_type": "code",
   "execution_count": 191,
   "metadata": {},
   "outputs": [
    {
     "data": {
      "image/png": "[encoded data removed]",
      "text/plain": [
       "<Figure size 576x432 with 1 Axes>"
      ]
     },
     "metadata": {
      "needs_background": "light"
     },
     "output_type": "display_data"
    }
   ],
   "source": [
    "#students.groupby('SEX').sum().plot(kind='bar');\n",
    "students.groupby(['SEX', 'DECISION'] )['DECISION'].count().plot.bar(figsize=(8, 6));"
   ]
  },
  {
   "cell_type": "code",
   "execution_count": 192,
   "metadata": {},
   "outputs": [
    {
     "data": {
      "text/html": [
       "<div>\n",
       "<style scoped>\n",
       "    .dataframe tbody tr th:only-of-type {\n",
       "        vertical-align: middle;\n",
       "    }\n",
       "\n",
       "    .dataframe tbody tr th {\n",
       "        vertical-align: top;\n",
       "    }\n",
       "\n",
       "    .dataframe thead th {\n",
       "        text-align: right;\n",
       "    }\n",
       "</style>\n",
       "<table border=\"1\" class=\"dataframe\">\n",
       "  <thead>\n",
       "    <tr style=\"text-align: right;\">\n",
       "      <th>SEX</th>\n",
       "      <th>Female</th>\n",
       "      <th>Male</th>\n",
       "      <th>Unspecified</th>\n",
       "    </tr>\n",
       "    <tr>\n",
       "      <th>DECISION</th>\n",
       "      <th></th>\n",
       "      <th></th>\n",
       "      <th></th>\n",
       "    </tr>\n",
       "  </thead>\n",
       "  <tbody>\n",
       "    <tr>\n",
       "      <td>Admit</td>\n",
       "      <td>33</td>\n",
       "      <td>76</td>\n",
       "      <td>5</td>\n",
       "    </tr>\n",
       "    <tr>\n",
       "      <td>Reject</td>\n",
       "      <td>92</td>\n",
       "      <td>305</td>\n",
       "      <td>6</td>\n",
       "    </tr>\n",
       "    <tr>\n",
       "      <td>Waitlist</td>\n",
       "      <td>62</td>\n",
       "      <td>172</td>\n",
       "      <td>8</td>\n",
       "    </tr>\n",
       "  </tbody>\n",
       "</table>\n",
       "</div>"
      ],
      "text/plain": [
       "SEX       Female  Male  Unspecified\n",
       "DECISION                           \n",
       "Admit         33    76            5\n",
       "Reject        92   305            6\n",
       "Waitlist      62   172            8"
      ]
     },
     "execution_count": 192,
     "metadata": {},
     "output_type": "execute_result"
    }
   ],
   "source": [
    "students.groupby(['SEX', 'DECISION'] )['DECISION'].count().unstack('SEX')"
   ]
  },
  {
   "cell_type": "code",
   "execution_count": 193,
   "metadata": {},
   "outputs": [
    {
     "data": {
      "text/html": [
       "<div>\n",
       "<style scoped>\n",
       "    .dataframe tbody tr th:only-of-type {\n",
       "        vertical-align: middle;\n",
       "    }\n",
       "\n",
       "    .dataframe tbody tr th {\n",
       "        vertical-align: top;\n",
       "    }\n",
       "\n",
       "    .dataframe thead th {\n",
       "        text-align: right;\n",
       "    }\n",
       "</style>\n",
       "<table border=\"1\" class=\"dataframe\">\n",
       "  <thead>\n",
       "    <tr style=\"text-align: right;\">\n",
       "      <th></th>\n",
       "      <th>SEX</th>\n",
       "      <th>Female</th>\n",
       "      <th>Male</th>\n",
       "      <th>Unspecified</th>\n",
       "    </tr>\n",
       "    <tr>\n",
       "      <th>DECISION</th>\n",
       "      <th>UU_FIRSTGEN</th>\n",
       "      <th></th>\n",
       "      <th></th>\n",
       "      <th></th>\n",
       "    </tr>\n",
       "  </thead>\n",
       "  <tbody>\n",
       "    <tr>\n",
       "      <td rowspan=\"3\" valign=\"top\">Admit</td>\n",
       "      <td>N</td>\n",
       "      <td>12.0</td>\n",
       "      <td>11.0</td>\n",
       "      <td>NaN</td>\n",
       "    </tr>\n",
       "    <tr>\n",
       "      <td>Unspecified</td>\n",
       "      <td>20.0</td>\n",
       "      <td>62.0</td>\n",
       "      <td>5.0</td>\n",
       "    </tr>\n",
       "    <tr>\n",
       "      <td>Y</td>\n",
       "      <td>1.0</td>\n",
       "      <td>3.0</td>\n",
       "      <td>NaN</td>\n",
       "    </tr>\n",
       "    <tr>\n",
       "      <td rowspan=\"3\" valign=\"top\">Reject</td>\n",
       "      <td>N</td>\n",
       "      <td>22.0</td>\n",
       "      <td>61.0</td>\n",
       "      <td>NaN</td>\n",
       "    </tr>\n",
       "    <tr>\n",
       "      <td>Unspecified</td>\n",
       "      <td>62.0</td>\n",
       "      <td>223.0</td>\n",
       "      <td>5.0</td>\n",
       "    </tr>\n",
       "    <tr>\n",
       "      <td>Y</td>\n",
       "      <td>8.0</td>\n",
       "      <td>21.0</td>\n",
       "      <td>1.0</td>\n",
       "    </tr>\n",
       "    <tr>\n",
       "      <td rowspan=\"3\" valign=\"top\">Waitlist</td>\n",
       "      <td>N</td>\n",
       "      <td>11.0</td>\n",
       "      <td>36.0</td>\n",
       "      <td>1.0</td>\n",
       "    </tr>\n",
       "    <tr>\n",
       "      <td>Unspecified</td>\n",
       "      <td>46.0</td>\n",
       "      <td>123.0</td>\n",
       "      <td>7.0</td>\n",
       "    </tr>\n",
       "    <tr>\n",
       "      <td>Y</td>\n",
       "      <td>5.0</td>\n",
       "      <td>13.0</td>\n",
       "      <td>NaN</td>\n",
       "    </tr>\n",
       "  </tbody>\n",
       "</table>\n",
       "</div>"
      ],
      "text/plain": [
       "SEX                   Female   Male  Unspecified\n",
       "DECISION UU_FIRSTGEN                            \n",
       "Admit    N              12.0   11.0          NaN\n",
       "         Unspecified    20.0   62.0          5.0\n",
       "         Y               1.0    3.0          NaN\n",
       "Reject   N              22.0   61.0          NaN\n",
       "         Unspecified    62.0  223.0          5.0\n",
       "         Y               8.0   21.0          1.0\n",
       "Waitlist N              11.0   36.0          1.0\n",
       "         Unspecified    46.0  123.0          7.0\n",
       "         Y               5.0   13.0          NaN"
      ]
     },
     "execution_count": 193,
     "metadata": {},
     "output_type": "execute_result"
    }
   ],
   "source": [
    "students.groupby(['SEX', 'DECISION','UU_FIRSTGEN'] )['DECISION'].count().unstack('SEX')"
   ]
  },
  {
   "cell_type": "code",
   "execution_count": 194,
   "metadata": {},
   "outputs": [],
   "source": [
    "#students.groupby(['SEX', 'DECISION','UU_FIRSTGEN'] )['DECISION'].count().unstack(1).plot.bar(figsize=(8, 6));"
   ]
  },
  {
   "cell_type": "markdown",
   "metadata": {},
   "source": [
    "## Data Prepocessing"
   ]
  },
  {
   "cell_type": "markdown",
   "metadata": {},
   "source": [
    "###  Handling Missing values"
   ]
  },
  {
   "cell_type": "code",
   "execution_count": 195,
   "metadata": {},
   "outputs": [
    {
     "data": {
      "text/plain": [
       "Applicant_Client_ID      0\n",
       "Emphasis Area            0\n",
       "Emphasis Area 2          0\n",
       "Emphasis Area 3          0\n",
       "UU_APPL_CITIZEN          0\n",
       "CTZNSHP                  0\n",
       "AGE                      0\n",
       "SEX                      0\n",
       "LOW_INCOME               0\n",
       "UU_FIRSTGEN              0\n",
       "UU_APPL_NTV_LANG         0\n",
       "HAS_LANGUAGE_TEST        0\n",
       "TEST_READ              487\n",
       "TEST_SPEAK             487\n",
       "TEST_WRITE             487\n",
       "TEST_LISTEN            487\n",
       "MAJOR                    0\n",
       "GPA                      0\n",
       "NUM_PREV_INSTS           0\n",
       "HAS_GRE_GEN              0\n",
       "GRE_VERB               112\n",
       "GRE_QUANT              112\n",
       "GRE_AW                 112\n",
       "HAS_GRE_SUBJECT          0\n",
       "GRE_SUB                205\n",
       "NUM_RECOMMENDS           0\n",
       "R_AVG_ORAL               0\n",
       "R_AVG_WRITTEN            0\n",
       "R_AVG_ACADEMIC           0\n",
       "R_AVG_KNOWLEDGE          0\n",
       "R_AVG_EMOT               0\n",
       "R_AVG_MOT                0\n",
       "R_AVG_RES                0\n",
       "R_AVG_RATING             0\n",
       "RATING                   0\n",
       "DECISION                 0\n",
       "dtype: int64"
      ]
     },
     "execution_count": 195,
     "metadata": {},
     "output_type": "execute_result"
    }
   ],
   "source": [
    "students.isnull().sum()"
   ]
  },
  {
   "cell_type": "code",
   "execution_count": 196,
   "metadata": {},
   "outputs": [
    {
     "data": {
      "image/png": "[encoded data removed]",
      "text/plain": [
       "<Figure size 1728x720 with 3 Axes>"
      ]
     },
     "metadata": {
      "needs_background": "light"
     },
     "output_type": "display_data"
    }
   ],
   "source": [
    "import missingno as msno\n",
    "fig = plt.figure()\n",
    "msno.bar(students)\n",
    "fig.savefig('missing_data.png')"
   ]
  },
  {
   "cell_type": "markdown",
   "metadata": {},
   "source": [
    "First we drop Applicant_Client_ID."
   ]
  },
  {
   "cell_type": "code",
   "execution_count": 197,
   "metadata": {},
   "outputs": [],
   "source": [
    "students = students.drop('Applicant_Client_ID',axis =1)"
   ]
  },
  {
   "cell_type": "markdown",
   "metadata": {},
   "source": [
    "By looking here, either we can get rid off 8 variables that have missing values or we can fill them mean, median or common values."
   ]
  },
  {
   "cell_type": "markdown",
   "metadata": {},
   "source": [
    "First, let us take a look of GPA. We know GPA should not be higher than 4. Let us see if there is GPA higher than 4."
   ]
  },
  {
   "cell_type": "code",
   "execution_count": 198,
   "metadata": {},
   "outputs": [
    {
     "data": {
      "text/plain": [
       "733    4.08\n",
       "105    4.05\n",
       "34     4.00\n",
       "36     4.00\n",
       "69     4.00\n",
       "114    4.00\n",
       "Name: GPA, dtype: float64"
      ]
     },
     "execution_count": 198,
     "metadata": {},
     "output_type": "execute_result"
    }
   ],
   "source": [
    "students['GPA'].nlargest(6)"
   ]
  },
  {
   "cell_type": "markdown",
   "metadata": {},
   "source": [
    "These tell us we have two student entered their GPA higher than 4. We will equal them to 4.00 to be consistent. Let us make them equal to 4.00."
   ]
  },
  {
   "cell_type": "code",
   "execution_count": 199,
   "metadata": {},
   "outputs": [],
   "source": [
    "students.loc[733,'GPA'] = 4.00\n",
    "students.loc[105,'GPA'] = 4.00"
   ]
  },
  {
   "cell_type": "code",
   "execution_count": 200,
   "metadata": {},
   "outputs": [
    {
     "data": {
      "text/plain": [
       "Index(['Emphasis Area', 'Emphasis Area 2', 'Emphasis Area 3',\n",
       "       'UU_APPL_CITIZEN', 'CTZNSHP', 'AGE', 'SEX', 'LOW_INCOME', 'UU_FIRSTGEN',\n",
       "       'UU_APPL_NTV_LANG', 'HAS_LANGUAGE_TEST', 'TEST_READ', 'TEST_SPEAK',\n",
       "       'TEST_WRITE', 'TEST_LISTEN', 'MAJOR', 'GPA', 'NUM_PREV_INSTS',\n",
       "       'HAS_GRE_GEN', 'GRE_VERB', 'GRE_QUANT', 'GRE_AW', 'HAS_GRE_SUBJECT',\n",
       "       'GRE_SUB', 'NUM_RECOMMENDS', 'R_AVG_ORAL', 'R_AVG_WRITTEN',\n",
       "       'R_AVG_ACADEMIC', 'R_AVG_KNOWLEDGE', 'R_AVG_EMOT', 'R_AVG_MOT',\n",
       "       'R_AVG_RES', 'R_AVG_RATING', 'RATING', 'DECISION'],\n",
       "      dtype='object')"
      ]
     },
     "execution_count": 200,
     "metadata": {},
     "output_type": "execute_result"
    }
   ],
   "source": [
    "students.columns"
   ]
  },
  {
   "cell_type": "markdown",
   "metadata": {},
   "source": [
    "According to these website, https://www.prepscholar.com/toefl/blog/what-is-the-average-toefl-score/\n",
    "\n",
    "According to this website, United States's average TOEFL score is for Reading 21, for Listening 23, for Speaking 23, and for Writing 22. Total of these scores is 89. We will see first average scores other students average TOEFL score for each section."
   ]
  },
  {
   "cell_type": "code",
   "execution_count": 201,
   "metadata": {},
   "outputs": [],
   "source": [
    "# with pd.option_context('display.max_rows', None, 'display.max_columns', None):\n",
    "#       print(students.head())"
   ]
  },
  {
   "cell_type": "code",
   "execution_count": 202,
   "metadata": {},
   "outputs": [
    {
     "data": {
      "text/html": [
       "<div>\n",
       "<style scoped>\n",
       "    .dataframe tbody tr th:only-of-type {\n",
       "        vertical-align: middle;\n",
       "    }\n",
       "\n",
       "    .dataframe tbody tr th {\n",
       "        vertical-align: top;\n",
       "    }\n",
       "\n",
       "    .dataframe thead th {\n",
       "        text-align: right;\n",
       "    }\n",
       "</style>\n",
       "<table border=\"1\" class=\"dataframe\">\n",
       "  <thead>\n",
       "    <tr style=\"text-align: right;\">\n",
       "      <th></th>\n",
       "      <th>AGE</th>\n",
       "      <th>TEST_READ</th>\n",
       "      <th>TEST_SPEAK</th>\n",
       "      <th>TEST_WRITE</th>\n",
       "      <th>TEST_LISTEN</th>\n",
       "      <th>GPA</th>\n",
       "      <th>NUM_PREV_INSTS</th>\n",
       "      <th>GRE_VERB</th>\n",
       "      <th>GRE_QUANT</th>\n",
       "      <th>GRE_AW</th>\n",
       "      <th>...</th>\n",
       "      <th>NUM_RECOMMENDS</th>\n",
       "      <th>R_AVG_ORAL</th>\n",
       "      <th>R_AVG_WRITTEN</th>\n",
       "      <th>R_AVG_ACADEMIC</th>\n",
       "      <th>R_AVG_KNOWLEDGE</th>\n",
       "      <th>R_AVG_EMOT</th>\n",
       "      <th>R_AVG_MOT</th>\n",
       "      <th>R_AVG_RES</th>\n",
       "      <th>R_AVG_RATING</th>\n",
       "      <th>RATING</th>\n",
       "    </tr>\n",
       "    <tr>\n",
       "      <th>SEX</th>\n",
       "      <th></th>\n",
       "      <th></th>\n",
       "      <th></th>\n",
       "      <th></th>\n",
       "      <th></th>\n",
       "      <th></th>\n",
       "      <th></th>\n",
       "      <th></th>\n",
       "      <th></th>\n",
       "      <th></th>\n",
       "      <th></th>\n",
       "      <th></th>\n",
       "      <th></th>\n",
       "      <th></th>\n",
       "      <th></th>\n",
       "      <th></th>\n",
       "      <th></th>\n",
       "      <th></th>\n",
       "      <th></th>\n",
       "      <th></th>\n",
       "      <th></th>\n",
       "    </tr>\n",
       "  </thead>\n",
       "  <tbody>\n",
       "    <tr>\n",
       "      <td>Female</td>\n",
       "      <td>23.865241</td>\n",
       "      <td>26.148936</td>\n",
       "      <td>22.308511</td>\n",
       "      <td>23.744681</td>\n",
       "      <td>25.680851</td>\n",
       "      <td>3.493102</td>\n",
       "      <td>1.877005</td>\n",
       "      <td>155.368750</td>\n",
       "      <td>163.937500</td>\n",
       "      <td>3.868750</td>\n",
       "      <td>...</td>\n",
       "      <td>3.197861</td>\n",
       "      <td>14.771658</td>\n",
       "      <td>14.660428</td>\n",
       "      <td>16.567914</td>\n",
       "      <td>16.156150</td>\n",
       "      <td>16.290374</td>\n",
       "      <td>17.993048</td>\n",
       "      <td>14.368984</td>\n",
       "      <td>22.209091</td>\n",
       "      <td>3.754545</td>\n",
       "    </tr>\n",
       "    <tr>\n",
       "      <td>Male</td>\n",
       "      <td>24.333816</td>\n",
       "      <td>27.418981</td>\n",
       "      <td>21.875000</td>\n",
       "      <td>24.476852</td>\n",
       "      <td>26.037037</td>\n",
       "      <td>3.328788</td>\n",
       "      <td>1.853526</td>\n",
       "      <td>156.038217</td>\n",
       "      <td>166.065817</td>\n",
       "      <td>3.757962</td>\n",
       "      <td>...</td>\n",
       "      <td>3.160940</td>\n",
       "      <td>14.212477</td>\n",
       "      <td>14.263291</td>\n",
       "      <td>16.847920</td>\n",
       "      <td>16.963834</td>\n",
       "      <td>15.775769</td>\n",
       "      <td>17.888969</td>\n",
       "      <td>14.633635</td>\n",
       "      <td>22.992043</td>\n",
       "      <td>3.649747</td>\n",
       "    </tr>\n",
       "    <tr>\n",
       "      <td>Unspecified</td>\n",
       "      <td>24.073684</td>\n",
       "      <td>27.333333</td>\n",
       "      <td>20.166667</td>\n",
       "      <td>24.222222</td>\n",
       "      <td>22.666667</td>\n",
       "      <td>3.595789</td>\n",
       "      <td>1.789474</td>\n",
       "      <td>153.187500</td>\n",
       "      <td>166.437500</td>\n",
       "      <td>3.468750</td>\n",
       "      <td>...</td>\n",
       "      <td>3.421053</td>\n",
       "      <td>12.584211</td>\n",
       "      <td>12.963158</td>\n",
       "      <td>16.300000</td>\n",
       "      <td>15.752632</td>\n",
       "      <td>15.005263</td>\n",
       "      <td>16.542105</td>\n",
       "      <td>13.442105</td>\n",
       "      <td>20.826316</td>\n",
       "      <td>4.089474</td>\n",
       "    </tr>\n",
       "  </tbody>\n",
       "</table>\n",
       "<p>3 rows × 21 columns</p>\n",
       "</div>"
      ],
      "text/plain": [
       "                   AGE  TEST_READ  TEST_SPEAK  TEST_WRITE  TEST_LISTEN  \\\n",
       "SEX                                                                      \n",
       "Female       23.865241  26.148936   22.308511   23.744681    25.680851   \n",
       "Male         24.333816  27.418981   21.875000   24.476852    26.037037   \n",
       "Unspecified  24.073684  27.333333   20.166667   24.222222    22.666667   \n",
       "\n",
       "                  GPA  NUM_PREV_INSTS    GRE_VERB   GRE_QUANT    GRE_AW  ...  \\\n",
       "SEX                                                                      ...   \n",
       "Female       3.493102        1.877005  155.368750  163.937500  3.868750  ...   \n",
       "Male         3.328788        1.853526  156.038217  166.065817  3.757962  ...   \n",
       "Unspecified  3.595789        1.789474  153.187500  166.437500  3.468750  ...   \n",
       "\n",
       "             NUM_RECOMMENDS  R_AVG_ORAL  R_AVG_WRITTEN  R_AVG_ACADEMIC  \\\n",
       "SEX                                                                      \n",
       "Female             3.197861   14.771658      14.660428       16.567914   \n",
       "Male               3.160940   14.212477      14.263291       16.847920   \n",
       "Unspecified        3.421053   12.584211      12.963158       16.300000   \n",
       "\n",
       "             R_AVG_KNOWLEDGE  R_AVG_EMOT  R_AVG_MOT  R_AVG_RES  R_AVG_RATING  \\\n",
       "SEX                                                                            \n",
       "Female             16.156150   16.290374  17.993048  14.368984     22.209091   \n",
       "Male               16.963834   15.775769  17.888969  14.633635     22.992043   \n",
       "Unspecified        15.752632   15.005263  16.542105  13.442105     20.826316   \n",
       "\n",
       "               RATING  \n",
       "SEX                    \n",
       "Female       3.754545  \n",
       "Male         3.649747  \n",
       "Unspecified  4.089474  \n",
       "\n",
       "[3 rows x 21 columns]"
      ]
     },
     "execution_count": 202,
     "metadata": {},
     "output_type": "execute_result"
    }
   ],
   "source": [
    "students.groupby('SEX').mean()"
   ]
  },
  {
   "cell_type": "markdown",
   "metadata": {},
   "source": [
    "## Imputing the Missing Values"
   ]
  },
  {
   "cell_type": "code",
   "execution_count": 203,
   "metadata": {},
   "outputs": [],
   "source": [
    "g_mean = students.groupby('SEX').mean()\n",
    "#df.loc[df.Age.isnull() & (df.Sex == 'female'),'Age'] = g_mean['Age']['female']\n",
    "#df.loc[df.Age.isnull() & (df.Sex == 'male'), 'Age'] = g_mean['Age']['male']\n",
    "\n",
    "# Fill the TEST_READ\n",
    "students.loc[students.TEST_READ.isnull() & (students.SEX == 'Male'),'TEST_READ'] = g_mean['TEST_READ']['Male'] \n",
    "students.loc[students.TEST_READ.isnull() & (students.SEX == 'Female'),'TEST_READ'] = g_mean['TEST_READ']['Female']\n",
    "students.loc[students.TEST_READ.isnull() & (students.SEX == 'Unspecified'),'TEST_READ'] = g_mean['TEST_READ']['Unspecified']\n",
    "\n",
    "# Fill the TEST_SPEAK\n",
    "students.loc[students.TEST_SPEAK.isnull() & (students.SEX == 'Male'),'TEST_SPEAK'] = g_mean['TEST_SPEAK']['Male'] \n",
    "students.loc[students.TEST_SPEAK.isnull() & (students.SEX == 'Female'),'TEST_SPEAK'] = g_mean['TEST_SPEAK']['Female']\n",
    "students.loc[students.TEST_SPEAK.isnull() & (students.SEX == 'Unspecified'),'TEST_SPEAK'] = g_mean['TEST_SPEAK']['Unspecified']\n",
    "\n",
    "# Fill the TEST_LISTEN\n",
    "students.loc[students.TEST_LISTEN.isnull() & (students.SEX == 'Male'),'TEST_LISTEN'] = g_mean['TEST_LISTEN']['Male'] \n",
    "students.loc[students.TEST_LISTEN.isnull() & (students.SEX == 'Female'),'TEST_LISTEN'] = g_mean['TEST_LISTEN']['Female']\n",
    "students.loc[students.TEST_LISTEN.isnull() & (students.SEX == 'Unspecified'),'TEST_LISTEN'] = g_mean['TEST_LISTEN']['Unspecified']\n",
    "\n",
    "# Fill the TEST_WRITE\n",
    "students.loc[students.TEST_WRITE.isnull() & (students.SEX == 'Male'),'TEST_WRITE'] = g_mean['TEST_WRITE']['Male'] \n",
    "students.loc[students.TEST_WRITE.isnull() & (students.SEX == 'Female'),'TEST_WRITE'] = g_mean['TEST_WRITE']['Female']\n",
    "students.loc[students.TEST_WRITE.isnull() & (students.SEX == 'Unspecified'),'TEST_WRITE'] = g_mean['TEST_WRITE']['Unspecified']\n",
    "\n",
    "# Fill the GRE_VERB\n",
    "students.loc[students.GRE_VERB.isnull() & (students.SEX == 'Male'),'GRE_VERB'] = g_mean['GRE_VERB']['Male'] \n",
    "students.loc[students.GRE_VERB.isnull() & (students.SEX == 'Female'),'GRE_VERB'] = g_mean['GRE_VERB']['Female']\n",
    "students.loc[students.GRE_VERB.isnull() & (students.SEX == 'Unspecified'),'GRE_VERB'] = g_mean['GRE_VERB']['Unspecified']\n",
    "\n",
    "# Fill the GRE_QUANT\n",
    "students.loc[students.GRE_QUANT.isnull() & (students.SEX == 'Male'),'GRE_QUANT'] = g_mean['GRE_QUANT']['Male'] \n",
    "students.loc[students.GRE_QUANT.isnull() & (students.SEX == 'Female'),'GRE_QUANT'] = g_mean['GRE_QUANT']['Female']\n",
    "students.loc[students.GRE_QUANT.isnull() & (students.SEX == 'Unspecified'),'GRE_QUANT'] = g_mean['GRE_QUANT']['Unspecified']\n",
    "\n",
    "# Fill the GRE_AW\n",
    "students.loc[students.GRE_AW.isnull() & (students.SEX == 'Male'),'GRE_AW'] = g_mean['GRE_AW']['Male'] \n",
    "students.loc[students.GRE_AW.isnull() & (students.SEX == 'Female'),'GRE_AW'] = g_mean['GRE_AW']['Female']\n",
    "students.loc[students.GRE_AW.isnull() & (students.SEX == 'Unspecified'),'GRE_AW'] = g_mean['GRE_AW']['Unspecified']\n",
    "\n",
    "\n",
    "# Fill the GRE_SUB\n",
    "students.loc[students.GRE_SUB.isnull() & (students.SEX == 'Male'),'GRE_SUB'] = g_mean['GRE_SUB']['Male'] \n",
    "students.loc[students.GRE_SUB.isnull() & (students.SEX == 'Female'),'GRE_SUB'] = g_mean['GRE_SUB']['Female']\n",
    "students.loc[students.GRE_SUB.isnull() & (students.SEX == 'Unspecified'),'GRE_SUB'] = g_mean['GRE_SUB']['Unspecified']\n",
    "\n",
    "\n",
    "\n",
    "\n",
    "#students.loc[students.TEST_LISTEN.isnull() & (students.CTZNSHP == 'UNITED STATES'),'TEST_LISTEN'] = listen_mean \n",
    "#students.loc[students.TEST_WRITE.isnull() & (students.CTZNSHP == 'UNITED STATES'),'TEST_WRITE'] = write_mean"
   ]
  },
  {
   "cell_type": "markdown",
   "metadata": {},
   "source": [
    "We will replaces the missing values of any variables with the mean of other observations for particular variable."
   ]
  },
  {
   "cell_type": "code",
   "execution_count": 204,
   "metadata": {},
   "outputs": [
    {
     "data": {
      "text/plain": [
       "Emphasis Area        0\n",
       "Emphasis Area 2      0\n",
       "Emphasis Area 3      0\n",
       "UU_APPL_CITIZEN      0\n",
       "CTZNSHP              0\n",
       "AGE                  0\n",
       "SEX                  0\n",
       "LOW_INCOME           0\n",
       "UU_FIRSTGEN          0\n",
       "UU_APPL_NTV_LANG     0\n",
       "HAS_LANGUAGE_TEST    0\n",
       "TEST_READ            0\n",
       "TEST_SPEAK           0\n",
       "TEST_WRITE           0\n",
       "TEST_LISTEN          0\n",
       "MAJOR                0\n",
       "GPA                  0\n",
       "NUM_PREV_INSTS       0\n",
       "HAS_GRE_GEN          0\n",
       "GRE_VERB             0\n",
       "GRE_QUANT            0\n",
       "GRE_AW               0\n",
       "HAS_GRE_SUBJECT      0\n",
       "GRE_SUB              0\n",
       "NUM_RECOMMENDS       0\n",
       "R_AVG_ORAL           0\n",
       "R_AVG_WRITTEN        0\n",
       "R_AVG_ACADEMIC       0\n",
       "R_AVG_KNOWLEDGE      0\n",
       "R_AVG_EMOT           0\n",
       "R_AVG_MOT            0\n",
       "R_AVG_RES            0\n",
       "R_AVG_RATING         0\n",
       "RATING               0\n",
       "DECISION             0\n",
       "dtype: int64"
      ]
     },
     "execution_count": 204,
     "metadata": {},
     "output_type": "execute_result"
    }
   ],
   "source": [
    "students.isnull().sum()"
   ]
  },
  {
   "cell_type": "code",
   "execution_count": 205,
   "metadata": {},
   "outputs": [],
   "source": [
    "#with pd.option_context('display.max_rows', None, 'display.max_columns', None):\n",
    " #    print(citizenship.get_group('UNITED STATES'))"
   ]
  },
  {
   "cell_type": "code",
   "execution_count": 206,
   "metadata": {},
   "outputs": [],
   "source": [
    "#students.info()"
   ]
  },
  {
   "cell_type": "markdown",
   "metadata": {},
   "source": [
    "Let us see the histograms of each variables now."
   ]
  },
  {
   "cell_type": "code",
   "execution_count": 207,
   "metadata": {},
   "outputs": [
    {
     "name": "stdout",
     "output_type": "stream",
     "text": [
      "Saving figure attribute_histogram_plots\n"
     ]
    },
    {
     "data": {
      "image/png": "[encoded data removed]",
      "text/plain": [
       "<Figure size 1728x1368 with 25 Axes>"
      ]
     },
     "metadata": {
      "needs_background": "light"
     },
     "output_type": "display_data"
    }
   ],
   "source": [
    "%matplotlib inline\n",
    "import matplotlib.pyplot as plt\n",
    "students.hist(bins=50, figsize=(24,19))\n",
    "save_fig(\"attribute_histogram_plots\")\n",
    "plt.show()"
   ]
  },
  {
   "cell_type": "markdown",
   "metadata": {},
   "source": [
    "## Target Variable"
   ]
  },
  {
   "cell_type": "code",
   "execution_count": 208,
   "metadata": {},
   "outputs": [
    {
     "name": "stdout",
     "output_type": "stream",
     "text": [
      "\n",
      " mu = 3.69 and sigma = 0.78\n",
      "\n"
     ]
    },
    {
     "data": {
      "image/png": "[encoded data removed]",
      "text/plain": [
       "<Figure size 432x288 with 1 Axes>"
      ]
     },
     "metadata": {
      "needs_background": "light"
     },
     "output_type": "display_data"
    },
    {
     "data": {
      "image/png": "[encoded data removed]",
      "text/plain": [
       "<Figure size 432x288 with 1 Axes>"
      ]
     },
     "metadata": {
      "needs_background": "light"
     },
     "output_type": "display_data"
    }
   ],
   "source": [
    "from scipy import stats\n",
    "from scipy.stats import norm, skew #for some statistics\n",
    "sns.distplot(students['RATING'] , fit=norm);\n",
    "\n",
    "# Get the fitted parameters used by the function\n",
    "(mu, sigma) = norm.fit(students['RATING'])\n",
    "print( '\\n mu = {:.2f} and sigma = {:.2f}\\n'.format(mu, sigma))\n",
    "\n",
    "#Now plot the distribution\n",
    "plt.legend(['Normal dist. ($\\mu=$ {:.2f} and $\\sigma=$ {:.2f} )'.format(mu, sigma)],\n",
    "            loc='best')\n",
    "plt.ylabel('Frequency')\n",
    "plt.title('Rating distribution')\n",
    "\n",
    "#Get also the QQ-plot\n",
    "fig = plt.figure()\n",
    "res = stats.probplot(students['RATING'], plot=plt)\n",
    "plt.show()"
   ]
  },
  {
   "cell_type": "markdown",
   "metadata": {},
   "source": [
    "This is slightly left-skewed. But we will keep it this way. "
   ]
  },
  {
   "cell_type": "markdown",
   "metadata": {},
   "source": [
    "Now the data almost ready. We would like to convert categorical variables to numeric variables. "
   ]
  },
  {
   "cell_type": "markdown",
   "metadata": {},
   "source": [
    "### Converting categorical variables to numeric variables."
   ]
  },
  {
   "cell_type": "code",
   "execution_count": 209,
   "metadata": {},
   "outputs": [],
   "source": [
    "#students.head(12)"
   ]
  },
  {
   "cell_type": "code",
   "execution_count": 210,
   "metadata": {},
   "outputs": [],
   "source": [
    "students_ce = students.copy()\n",
    "\n",
    "import category_encoders as ce\n",
    "\n",
    "\n",
    "encoder = ce.BinaryEncoder(cols=['Emphasis Area','Emphasis Area 2','Emphasis Area 3','UU_APPL_CITIZEN',\n",
    "                                 'CTZNSHP','SEX','LOW_INCOME','UU_FIRSTGEN','UU_APPL_NTV_LANG',\n",
    "                                 'HAS_LANGUAGE_TEST','HAS_GRE_GEN','HAS_GRE_SUBJECT','MAJOR'\n",
    "                                 \n",
    "                                ])\n",
    "df_binary = encoder.fit_transform(students_ce)\n",
    "\n",
    "df_binary.head()\n",
    "df = df_binary\n",
    "#df_binary.shape\n",
    "#df_binary.info()"
   ]
  },
  {
   "cell_type": "code",
   "execution_count": 211,
   "metadata": {},
   "outputs": [],
   "source": [
    "#df.info()"
   ]
  },
  {
   "cell_type": "code",
   "execution_count": null,
   "metadata": {},
   "outputs": [],
   "source": []
  },
  {
   "cell_type": "markdown",
   "metadata": {},
   "source": [
    "First, we will estimate DECISION using RATING variable. "
   ]
  },
  {
   "cell_type": "markdown",
   "metadata": {},
   "source": [
    "## Splitting Data Set"
   ]
  },
  {
   "cell_type": "code",
   "execution_count": 212,
   "metadata": {},
   "outputs": [],
   "source": [
    "# let us divide this into train and test data\n",
    "X_train, X_test, Y_train, Y_test = train_test_split(\n",
    "    df.loc[:, df.columns != 'DECISION'], \n",
    "    df['DECISION'], test_size = 0.2, random_state=0)"
   ]
  },
  {
   "cell_type": "code",
   "execution_count": 213,
   "metadata": {},
   "outputs": [
    {
     "name": "stdout",
     "output_type": "stream",
     "text": [
      "(607, 72)\n",
      "(607,)\n",
      "(152, 72)\n",
      "(152,)\n"
     ]
    }
   ],
   "source": [
    "print(X_train.shape)\n",
    "print(Y_train.shape)\n",
    "print(X_test.shape)\n",
    "print(Y_test.shape)"
   ]
  },
  {
   "cell_type": "code",
   "execution_count": null,
   "metadata": {},
   "outputs": [],
   "source": [
    "s"
   ]
  },
  {
   "cell_type": "code",
   "execution_count": 55,
   "metadata": {},
   "outputs": [],
   "source": [
    "#X_train.info()\n",
    "#Y_train"
   ]
  },
  {
   "cell_type": "code",
   "execution_count": 50,
   "metadata": {},
   "outputs": [],
   "source": [
    "#cleanup_nums = {\"DECISION\": {\"Admit\": 1, \"Waitlist\": 2, \"Reject\": 3 }}\n",
    "#df.replace(cleanup_nums, inplace=True)"
   ]
  },
  {
   "cell_type": "code",
   "execution_count": 51,
   "metadata": {},
   "outputs": [],
   "source": [
    "#df[\"DECISION\"] = df[\"DECISION\"].astype('category')"
   ]
  },
  {
   "cell_type": "code",
   "execution_count": 52,
   "metadata": {},
   "outputs": [],
   "source": [
    "#df.info()"
   ]
  },
  {
   "cell_type": "markdown",
   "metadata": {},
   "source": [
    "## Scaling"
   ]
  },
  {
   "cell_type": "code",
   "execution_count": 214,
   "metadata": {},
   "outputs": [],
   "source": [
    "#This is a crucial step in rescaling input data so that all the features are mean zero with a unit variance. \n",
    "sc = StandardScaler()\n",
    "X_train = sc.fit_transform(X_train)\n",
    "X_test = sc.transform(X_test)"
   ]
  },
  {
   "cell_type": "markdown",
   "metadata": {},
   "source": [
    "## Applying Machine Learning to predict DECISION using RATING"
   ]
  },
  {
   "cell_type": "markdown",
   "metadata": {},
   "source": [
    "## Adaptive Boosting"
   ]
  },
  {
   "cell_type": "code",
   "execution_count": 77,
   "metadata": {},
   "outputs": [
    {
     "name": "stdout",
     "output_type": "stream",
     "text": [
      "Accuracy on a train set:  0.7248764415156508\n",
      "[[ 8  5 10]\n",
      " [ 1 66 12]\n",
      " [ 5 11 34]]\n",
      "Accuracy on a test set:  0.7105263157894737\n"
     ]
    }
   ],
   "source": [
    "\n",
    "classifier = AdaBoostClassifier(base_estimator = None, \n",
    "                            algorithm = 'SAMME',n_estimators=100, learning_rate=1.0)\n",
    "classifier.fit(X_train, Y_train)\n",
    "print('Accuracy on a train set: ',classifier.score(X_train, Y_train))\n",
    "\n",
    "#how about on a test set\n",
    "Y_pred = classifier.predict(X_test)\n",
    "cm = confusion_matrix(Y_test, Y_pred)\n",
    "print(cm)\n",
    "adaboost = cm.trace()/cm.sum()\n",
    "print('Accuracy on a test set: ', adaboost)"
   ]
  },
  {
   "cell_type": "markdown",
   "metadata": {},
   "source": [
    "## Decision Tree"
   ]
  },
  {
   "cell_type": "code",
   "execution_count": 63,
   "metadata": {},
   "outputs": [
    {
     "name": "stdout",
     "output_type": "stream",
     "text": [
      "Accuracy on a train set:  1.0\n",
      "[[ 6  5 12]\n",
      " [ 2 59 18]\n",
      " [16 10 24]]\n",
      "Accuracy on a test set:  0.5855263157894737\n"
     ]
    }
   ],
   "source": [
    "classifier = DecisionTreeClassifier(criterion = 'entropy',random_state = 0)\n",
    "classifier.fit(X_train, Y_train)\n",
    "print('Accuracy on a train set: ',classifier.score(X_train, Y_train))\n",
    "\n",
    "#how about on a test set\n",
    "Y_pred = classifier.predict(X_test)\n",
    "cm = confusion_matrix(Y_test, Y_pred)\n",
    "print(cm)\n",
    "#print(accuracy_score(Y_test, Y_pred))\n",
    "d_tree = cm.trace()/cm.sum()\n",
    "print('Accuracy on a test set: ', d_tree)"
   ]
  },
  {
   "cell_type": "markdown",
   "metadata": {},
   "source": [
    "## Gaussian Naive Bayes"
   ]
  },
  {
   "cell_type": "code",
   "execution_count": 69,
   "metadata": {},
   "outputs": [],
   "source": [
    "# classifier = GaussianNB()\n",
    "# classifier.fit(X_train, Y_train)\n",
    "# print('Accuracy on a train set: ',classifier.score(X_train, Y_train))\n",
    "\n",
    "# #how about on a test set\n",
    "# Y_pred = classifier.predict(X_test)\n",
    "# cm = confusion_matrix(Y_test, Y_pred)\n",
    "# print(cm)\n",
    "# gnb=cm.trace()/cm.sum()\n",
    "# print('Accuracy on a test set: ', gnb)"
   ]
  },
  {
   "cell_type": "markdown",
   "metadata": {},
   "source": [
    "## K Nearest Neighbor"
   ]
  },
  {
   "cell_type": "code",
   "execution_count": 67,
   "metadata": {},
   "outputs": [
    {
     "name": "stdout",
     "output_type": "stream",
     "text": [
      "Accuracy on a train set:  0.7051070840197694\n",
      "[[ 5 11  7]\n",
      " [ 3 57 19]\n",
      " [ 6 29 15]]\n",
      "Accuracy on a test set:  0.506578947368421\n"
     ]
    }
   ],
   "source": [
    "classifier = KNeighborsClassifier(leaf_size = 100, p=2)\n",
    "classifier.fit(X_train, Y_train)\n",
    "print('Accuracy on a train set: ',classifier.score(X_train, Y_train))\n",
    "\n",
    "#how about on a test set\n",
    "Y_pred = classifier.predict(X_test)\n",
    "cm = confusion_matrix(Y_test, Y_pred)\n",
    "print(cm)\n",
    "knn = cm.trace()/cm.sum()\n",
    "print('Accuracy on a test set: ', knn)"
   ]
  },
  {
   "cell_type": "markdown",
   "metadata": {},
   "source": [
    "## Linear Support Vector Machine"
   ]
  },
  {
   "cell_type": "code",
   "execution_count": 75,
   "metadata": {},
   "outputs": [
    {
     "name": "stdout",
     "output_type": "stream",
     "text": [
      "Accuracy on a train set:  0.7413509060955519\n",
      "[[ 8  6  9]\n",
      " [ 3 60 16]\n",
      " [17 12 21]]\n",
      "Accuracy on a test set:  0.5855263157894737\n"
     ]
    }
   ],
   "source": [
    "classifier = LinearSVC(max_iter = 10000, class_weight = 'balanced', random_state = 0)\n",
    "classifier.fit(X_train, Y_train)\n",
    "print('Accuracy on a train set: ',classifier.score(X_train, Y_train))\n",
    "\n",
    "#how about on a test set\n",
    "Y_pred = classifier.predict(X_test)\n",
    "cm = confusion_matrix(Y_test, Y_pred)\n",
    "print(cm)\n",
    "lsvm = cm.trace()/cm.sum()\n",
    "print('Accuracy on a test set: ', lsvm)"
   ]
  },
  {
   "cell_type": "markdown",
   "metadata": {},
   "source": [
    "## Logistic Regression"
   ]
  },
  {
   "cell_type": "code",
   "execution_count": 64,
   "metadata": {},
   "outputs": [
    {
     "name": "stdout",
     "output_type": "stream",
     "text": [
      "Accuracy on a train set:  0.7380560131795717\n",
      "[[11  4  8]\n",
      " [ 3 57 19]\n",
      " [18  9 23]]\n",
      "Accuracy on a test set:  0.5986842105263158\n"
     ]
    }
   ],
   "source": [
    "classifier = LogisticRegression(C=0.65,random_state = 0, solver='lbfgs', \n",
    "                                multi_class='multinomial',class_weight='balanced', max_iter = 10000)\n",
    "classifier.fit(X_train, Y_train)\n",
    "print('Accuracy on a train set: ',classifier.score(X_train, Y_train))\n",
    "\n",
    "#how about on a test set\n",
    "Y_pred = classifier.predict(X_test)\n",
    "cm = confusion_matrix(Y_test, Y_pred)\n",
    "print(cm)\n",
    "log_regr= cm.trace()/cm.sum()\n",
    "print('Accuracy on a test set: ', log_regr)"
   ]
  },
  {
   "cell_type": "markdown",
   "metadata": {},
   "source": [
    "## Random Forest"
   ]
  },
  {
   "cell_type": "code",
   "execution_count": 65,
   "metadata": {},
   "outputs": [
    {
     "name": "stdout",
     "output_type": "stream",
     "text": [
      "Accuracy on a train set:  1.0\n",
      "[[ 3  7 13]\n",
      " [ 1 66 12]\n",
      " [ 6 17 27]]\n",
      "Accuracy on a test set:  0.631578947368421\n"
     ]
    }
   ],
   "source": [
    "#classifier = RandomForestClassifier(n_estimators = 100, criterion = 'gini', random_state = 0)\n",
    "classifier = RandomForestClassifier(n_estimators = 100, criterion = 'entropy', \n",
    "                                    class_weight='balanced',random_state = 0,\n",
    "                                     bootstrap=True)\n",
    "classifier.fit(X_train, Y_train)\n",
    "print('Accuracy on a train set: ',classifier.score(X_train, Y_train))\n",
    "\n",
    "#how about on a test set\n",
    "Y_pred = classifier.predict(X_test)\n",
    "cm = confusion_matrix(Y_test, Y_pred)\n",
    "print(cm)\n",
    "rf = cm.trace()/cm.sum()\n",
    "print('Accuracy on a test set: ', rf)"
   ]
  },
  {
   "cell_type": "markdown",
   "metadata": {},
   "source": [
    "## Perceptron"
   ]
  },
  {
   "cell_type": "code",
   "execution_count": 71,
   "metadata": {},
   "outputs": [
    {
     "name": "stdout",
     "output_type": "stream",
     "text": [
      "Accuracy on a train set:  0.6985172981878089\n",
      "[[11  5  7]\n",
      " [ 7 56 16]\n",
      " [20 10 20]]\n",
      "Accuracy on a test set:  0.5723684210526315\n"
     ]
    }
   ],
   "source": [
    "classifier = Perceptron(random_state = 0, class_weight = 'balanced')\n",
    "classifier.fit(X_train, Y_train)\n",
    "print('Accuracy on a train set: ',classifier.score(X_train, Y_train))\n",
    "\n",
    "#how about on a test set\n",
    "Y_pred = classifier.predict(X_test)\n",
    "cm = confusion_matrix(Y_test, Y_pred)\n",
    "print(cm)\n",
    "perc = cm.trace()/cm.sum()\n",
    "print('Accuracy on a test set: ', perc)"
   ]
  },
  {
   "cell_type": "markdown",
   "metadata": {},
   "source": [
    "## Stochastic Gradient Descent "
   ]
  },
  {
   "cell_type": "code",
   "execution_count": 66,
   "metadata": {},
   "outputs": [
    {
     "name": "stdout",
     "output_type": "stream",
     "text": [
      "Accuracy on a train set:  0.7116968698517299\n",
      "[[10  5  8]\n",
      " [ 3 64 12]\n",
      " [17 12 21]]\n",
      "Accuracy on a test set:  0.625\n"
     ]
    }
   ],
   "source": [
    "classifier = linear_model.SGDClassifier(max_iter=5, tol=None,random_state = 0, \n",
    "                                        alpha=0.0001, average=True,class_weight = 'balanced')\n",
    "classifier.fit(X_train, Y_train)\n",
    "print('Accuracy on a train set: ',classifier.score(X_train, Y_train))\n",
    "\n",
    "#how about on a test set\n",
    "Y_pred = classifier.predict(X_test)\n",
    "cm = confusion_matrix(Y_test, Y_pred)\n",
    "print(cm)\n",
    "sgd = cm.trace()/cm.sum()\n",
    "print('Accuracy on a test set: ', sgd)"
   ]
  },
  {
   "cell_type": "markdown",
   "metadata": {},
   "source": [
    "## Support Vector Machine"
   ]
  },
  {
   "cell_type": "code",
   "execution_count": 73,
   "metadata": {},
   "outputs": [
    {
     "name": "stdout",
     "output_type": "stream",
     "text": [
      "Accuracy on a train set:  0.8154859967051071\n",
      "[[ 0  9 14]\n",
      " [ 1 64 14]\n",
      " [ 2 26 22]]\n",
      "Accuracy on a test set:  0.5657894736842105\n"
     ]
    }
   ],
   "source": [
    "classifier = SVC(max_iter = 10000, random_state = 0, gamma = 'auto')\n",
    "classifier.fit(X_train, Y_train)\n",
    "print('Accuracy on a train set: ',classifier.score(X_train, Y_train))\n",
    "\n",
    "#how about on a test set\n",
    "Y_pred = classifier.predict(X_test)\n",
    "cm = confusion_matrix(Y_test, Y_pred)\n",
    "print(cm)\n",
    "svm = cm.trace()/cm.sum()\n",
    "print('Accuracy on a test set: ', svm)"
   ]
  },
  {
   "cell_type": "markdown",
   "metadata": {},
   "source": [
    "## XG Boost Classifier"
   ]
  },
  {
   "cell_type": "code",
   "execution_count": 78,
   "metadata": {},
   "outputs": [
    {
     "name": "stdout",
     "output_type": "stream",
     "text": [
      "1.0\n",
      "[[ 9  3 11]\n",
      " [ 1 61 17]\n",
      " [ 4 10 36]]\n"
     ]
    },
    {
     "data": {
      "text/plain": [
       "0.6973684210526315"
      ]
     },
     "execution_count": 78,
     "metadata": {},
     "output_type": "execute_result"
    }
   ],
   "source": [
    "classifier = XGBClassifier(learning_rate =0.1, n_estimators=1000, max_depth=5, min_child_weight=1, gamma=0,\n",
    "                           subsample=0.8, colsample_bytree=0.8, \n",
    "                           nthread=4, scale_pos_weight=1, seed=27)\n",
    "classifier.fit(X_train, Y_train)\n",
    "print(classifier.score(X_train, Y_train))\n",
    "\n",
    "#how about on a test set\n",
    "Y_pred = classifier.predict(X_test)\n",
    "cm = confusion_matrix(Y_test, Y_pred)\n",
    "print(cm)\n",
    "xgboost = cm.trace()/cm.sum()\n",
    "xgboost"
   ]
  },
  {
   "cell_type": "markdown",
   "metadata": {},
   "source": [
    "## Which is the best model?"
   ]
  },
  {
   "cell_type": "code",
   "execution_count": 79,
   "metadata": {},
   "outputs": [
    {
     "data": {
      "text/html": [
       "<div>\n",
       "<style scoped>\n",
       "    .dataframe tbody tr th:only-of-type {\n",
       "        vertical-align: middle;\n",
       "    }\n",
       "\n",
       "    .dataframe tbody tr th {\n",
       "        vertical-align: top;\n",
       "    }\n",
       "\n",
       "    .dataframe thead th {\n",
       "        text-align: right;\n",
       "    }\n",
       "</style>\n",
       "<table border=\"1\" class=\"dataframe\">\n",
       "  <thead>\n",
       "    <tr style=\"text-align: right;\">\n",
       "      <th></th>\n",
       "      <th>Score</th>\n",
       "    </tr>\n",
       "    <tr>\n",
       "      <th>Model</th>\n",
       "      <th></th>\n",
       "    </tr>\n",
       "  </thead>\n",
       "  <tbody>\n",
       "    <tr>\n",
       "      <td>Adaptive Boosting Classifier</td>\n",
       "      <td>0.710526</td>\n",
       "    </tr>\n",
       "    <tr>\n",
       "      <td>XG Boost Classifier</td>\n",
       "      <td>0.697368</td>\n",
       "    </tr>\n",
       "    <tr>\n",
       "      <td>Random Forest</td>\n",
       "      <td>0.631579</td>\n",
       "    </tr>\n",
       "    <tr>\n",
       "      <td>Stochastic Gradient Decent</td>\n",
       "      <td>0.625000</td>\n",
       "    </tr>\n",
       "    <tr>\n",
       "      <td>Logistic Regression</td>\n",
       "      <td>0.598684</td>\n",
       "    </tr>\n",
       "    <tr>\n",
       "      <td>Linear Support Vector Machines</td>\n",
       "      <td>0.585526</td>\n",
       "    </tr>\n",
       "    <tr>\n",
       "      <td>Decision Tree</td>\n",
       "      <td>0.585526</td>\n",
       "    </tr>\n",
       "    <tr>\n",
       "      <td>Perceptron</td>\n",
       "      <td>0.572368</td>\n",
       "    </tr>\n",
       "    <tr>\n",
       "      <td>Support Vector Machines</td>\n",
       "      <td>0.565789</td>\n",
       "    </tr>\n",
       "    <tr>\n",
       "      <td>KNN</td>\n",
       "      <td>0.506579</td>\n",
       "    </tr>\n",
       "    <tr>\n",
       "      <td>Naive Bayes</td>\n",
       "      <td>0.203947</td>\n",
       "    </tr>\n",
       "  </tbody>\n",
       "</table>\n",
       "</div>"
      ],
      "text/plain": [
       "                                   Score\n",
       "Model                                   \n",
       "Adaptive Boosting Classifier    0.710526\n",
       "XG Boost Classifier             0.697368\n",
       "Random Forest                   0.631579\n",
       "Stochastic Gradient Decent      0.625000\n",
       "Logistic Regression             0.598684\n",
       "Linear Support Vector Machines  0.585526\n",
       "Decision Tree                   0.585526\n",
       "Perceptron                      0.572368\n",
       "Support Vector Machines         0.565789\n",
       "KNN                             0.506579\n",
       "Naive Bayes                     0.203947"
      ]
     },
     "execution_count": 79,
     "metadata": {},
     "output_type": "execute_result"
    }
   ],
   "source": [
    "table = pd.DataFrame({\n",
    "    'Model': ['Support Vector Machines', 'Linear Support Vector Machines', 'KNN', 'Logistic Regression', \n",
    "              'Random Forest', 'Naive Bayes', 'Perceptron', 'Stochastic Gradient Decent', \n",
    "              'Decision Tree', 'Adaptive Boosting Classifier','XG Boost Classifier'],\n",
    "    'Score': [svm,lsvm, knn, log_regr, \n",
    "              rf, gnb, perc, sgd, \n",
    "              d_tree, adaboost, xgboost]})\n",
    "table_df = table.sort_values(by='Score', ascending=False)\n",
    "table_df = table_df.set_index('Model')\n",
    "table_df"
   ]
  },
  {
   "cell_type": "markdown",
   "metadata": {},
   "source": [
    "# All the models with Grid search"
   ]
  },
  {
   "cell_type": "code",
   "execution_count": 83,
   "metadata": {},
   "outputs": [],
   "source": [
    "## We willl use this function to see what parameters gives a best score\n",
    "def best_score(classifier):\n",
    "    \n",
    "    print('Accuracy on a train set: ', classifier.best_score_)    \n",
    "    print('Best parameters: ', classifier.best_params_)\n",
    "    print('Best Estimator:',classifier.best_estimator_)\n",
    "    \n",
    "    return classifier.best_score_"
   ]
  },
  {
   "cell_type": "markdown",
   "metadata": {},
   "source": [
    "## Ada Boost"
   ]
  },
  {
   "cell_type": "code",
   "execution_count": 88,
   "metadata": {},
   "outputs": [
    {
     "name": "stdout",
     "output_type": "stream",
     "text": [
      "Fitting 10 folds for each of 15 candidates, totalling 150 fits\n"
     ]
    },
    {
     "name": "stderr",
     "output_type": "stream",
     "text": [
      "[Parallel(n_jobs=1)]: Using backend SequentialBackend with 1 concurrent workers.\n"
     ]
    },
    {
     "name": "stdout",
     "output_type": "stream",
     "text": [
      "Accuracy on a train set:  0.6738056013179572\n",
      "Best parameters:  {'learning_rate': 0.1, 'n_estimators': 50}\n",
      "Best Estimator: AdaBoostClassifier(algorithm='SAMME', base_estimator=None, learning_rate=0.1,\n",
      "                   n_estimators=50, random_state=None)\n",
      "[[ 8  6  9]\n",
      " [ 1 73  5]\n",
      " [ 1 22 27]]\n",
      "Gridsearch accuracy on a test set is:  0.7105263157894737\n"
     ]
    },
    {
     "name": "stderr",
     "output_type": "stream",
     "text": [
      "[Parallel(n_jobs=1)]: Done 150 out of 150 | elapsed:   20.9s finished\n",
      "/Users/sergazy/anaconda3/lib/python3.7/site-packages/sklearn/model_selection/_search.py:814: DeprecationWarning: The default of the `iid` parameter will change from True to False in version 0.22 and will be removed in 0.24. This will change numeric results when test-set sizes are unequal.\n",
      "  DeprecationWarning)\n"
     ]
    }
   ],
   "source": [
    "param_grid = {'n_estimators': [30, 50, 100], 'learning_rate': [0.08, 0.1, 1, 5, 10]}\n",
    "ada_grid = GridSearchCV(AdaBoostClassifier(algorithm = 'SAMME'), param_grid, cv=10, refit=True, verbose=1)\n",
    "ada_grid.fit(X_train,Y_train)\n",
    "score_ada_grid = best_score(ada_grid)\n",
    "\n",
    "y_pred_grid = ada_grid.predict(X_test)\n",
    "cm_grid = confusion_matrix(Y_test, y_pred_grid)\n",
    "print(cm_grid)\n",
    "ada_grid_accuracy = cm_grid.trace()/cm_grid.sum()\n",
    "print('Gridsearch accuracy on a test set is: ', ada_grid_accuracy)"
   ]
  },
  {
   "cell_type": "markdown",
   "metadata": {},
   "source": [
    "## Decision Tree "
   ]
  },
  {
   "cell_type": "code",
   "execution_count": 90,
   "metadata": {},
   "outputs": [
    {
     "name": "stdout",
     "output_type": "stream",
     "text": [
      "Fitting 10 folds for each of 250 candidates, totalling 2500 fits\n"
     ]
    },
    {
     "name": "stderr",
     "output_type": "stream",
     "text": [
      "[Parallel(n_jobs=1)]: Using backend SequentialBackend with 1 concurrent workers.\n"
     ]
    },
    {
     "name": "stdout",
     "output_type": "stream",
     "text": [
      "Accuracy on a train set:  0.6754530477759473\n",
      "Best parameters:  {'max_depth': 3, 'min_samples_split': 70}\n",
      "Best Estimator: DecisionTreeClassifier(class_weight=None, criterion='gini', max_depth=3,\n",
      "                       max_features=None, max_leaf_nodes=None,\n",
      "                       min_impurity_decrease=0.0, min_impurity_split=None,\n",
      "                       min_samples_leaf=1, min_samples_split=70,\n",
      "                       min_weight_fraction_leaf=0.0, presort=False,\n",
      "                       random_state=0, splitter='best')\n",
      "[[ 8  4 11]\n",
      " [ 1 64 14]\n",
      " [ 2 13 35]]\n",
      "Gridsearch accuracy on a test set is:  0.7039473684210527\n"
     ]
    },
    {
     "name": "stderr",
     "output_type": "stream",
     "text": [
      "[Parallel(n_jobs=1)]: Done 2500 out of 2500 | elapsed:   12.4s finished\n"
     ]
    }
   ],
   "source": [
    "decs_tree = DecisionTreeClassifier(random_state = 0)\n",
    "#param_grid = {'min_samples_split': [4,7,10,12], criterion : ['entropy','gini']}\n",
    "param_grid = {'min_samples_split' : range(10,500,20),'max_depth': range(1,20,2)}\n",
    "decs_tree_grid = GridSearchCV(decs_tree, param_grid, cv=10, refit=True, verbose=1)\n",
    "decs_tree_grid.fit(X_train, Y_train)\n",
    "#print(decs_tree_grid.score(X_train_sc, Y_train))\n",
    "score_decs_tree_grid= best_score(decs_tree_grid)\n",
    "\n",
    "y_pred_grid = decs_tree_grid.predict(X_test)\n",
    "cm_grid = confusion_matrix(Y_test, y_pred_grid)\n",
    "print(cm_grid)\n",
    "decs_tree_grid_accuracy = cm_grid.trace()/cm_grid.sum()\n",
    "print('Gridsearch accuracy on a test set is: ', decs_tree_grid_accuracy)"
   ]
  },
  {
   "cell_type": "markdown",
   "metadata": {},
   "source": [
    "## KNN"
   ]
  },
  {
   "cell_type": "code",
   "execution_count": 91,
   "metadata": {},
   "outputs": [
    {
     "name": "stdout",
     "output_type": "stream",
     "text": [
      "Fitting 10 folds for each of 336 candidates, totalling 3360 fits\n"
     ]
    },
    {
     "name": "stderr",
     "output_type": "stream",
     "text": [
      "[Parallel(n_jobs=1)]: Using backend SequentialBackend with 1 concurrent workers.\n"
     ]
    },
    {
     "name": "stdout",
     "output_type": "stream",
     "text": [
      "Accuracy on a train set:  0.5700164744645799\n",
      "Best parameters:  {'leaf_size': 3, 'n_neighbors': 10, 'weights': 'uniform'}\n",
      "Best Estimator: KNeighborsClassifier(algorithm='auto', leaf_size=3, metric='minkowski',\n",
      "                     metric_params=None, n_jobs=None, n_neighbors=10, p=2,\n",
      "                     weights='uniform')\n",
      "[[ 1 14  8]\n",
      " [ 5 60 14]\n",
      " [ 3 30 17]]\n",
      "Gridsearch accuracy on a test set is:  0.5131578947368421\n"
     ]
    },
    {
     "name": "stderr",
     "output_type": "stream",
     "text": [
      "[Parallel(n_jobs=1)]: Done 3360 out of 3360 | elapsed:   43.1s finished\n"
     ]
    }
   ],
   "source": [
    "knn = KNeighborsClassifier()\n",
    "param_grid = {'leaf_size':list(range(3,15,1)), 'n_neighbors':list(range(1, 15, 1)), \n",
    "              'weights':['uniform', 'distance']}\n",
    "\n",
    "\n",
    "knn_grid = GridSearchCV(knn, param_grid, cv=10, verbose=1, scoring='accuracy')\n",
    "knn_grid.fit(X_train, Y_train)\n",
    "\n",
    "score_knn_grid = best_score(knn_grid)\n",
    "\n",
    "\n",
    "y_pred_grid = knn_grid.predict(X_test)\n",
    "cm_grid = confusion_matrix(Y_test, y_pred_grid)\n",
    "print(cm_grid)\n",
    "knn_grid_accuracy = cm_grid.trace()/cm_grid.sum()\n",
    "print('Gridsearch accuracy on a test set is: ', knn_grid_accuracy)"
   ]
  },
  {
   "cell_type": "markdown",
   "metadata": {},
   "source": [
    "## Light Gradient Boosting "
   ]
  },
  {
   "cell_type": "code",
   "execution_count": 135,
   "metadata": {},
   "outputs": [
    {
     "name": "stdout",
     "output_type": "stream",
     "text": [
      "Fitting 10 folds for each of 54 candidates, totalling 540 fits\n"
     ]
    },
    {
     "name": "stderr",
     "output_type": "stream",
     "text": [
      "[Parallel(n_jobs=1)]: Using backend SequentialBackend with 1 concurrent workers.\n",
      "[Parallel(n_jobs=1)]: Done 540 out of 540 | elapsed:  9.7min finished\n"
     ]
    },
    {
     "name": "stdout",
     "output_type": "stream",
     "text": [
      "Accuracy on a train set:  0.6721581548599671\n",
      "Best parameters:  {'learning_rate': 0.012, 'max_depth': 8, 'n_estimators': 250, 'num_leaves': 80}\n",
      "Best Estimator: LGBMClassifier(boosting_type='gbdt', class_weight=None, colsample_bytree=1.0,\n",
      "               importance_type='split', learning_rate=0.012, max_depth=8,\n",
      "               min_child_samples=20, min_child_weight=0.001, min_split_gain=0.0,\n",
      "               n_estimators=250, n_jobs=-1, num_leaves=80, objective=None,\n",
      "               random_state=None, reg_alpha=0.0, reg_lambda=0.0, silent=False,\n",
      "               subsample=1.0, subsample_for_bin=200000, subsample_freq=0)\n",
      "[[ 4  6 13]\n",
      " [ 1 62 16]\n",
      " [ 3 14 33]]\n",
      "Gridsearch accuracy is:  0.6513157894736842\n"
     ]
    }
   ],
   "source": [
    "param_grid = {\"max_depth\": [8,10,15], \"learning_rate\" : [0.008,0.01,0.012], \n",
    "              \"num_leaves\": [80,100,120], \"n_estimators\": [200,250]  }\n",
    "lgbm_grid = GridSearchCV(lgb.LGBMClassifier(silent=False), param_grid, cv=10, refit=True, verbose=1)\n",
    "lgbm_grid.fit(X_train,Y_train, verbose=True)\n",
    "score_lgbm_grid = best_score(lgbm_grid)\n",
    "\n",
    "\n",
    "y_pred_grid = lgbm_grid.predict(X_test)\n",
    "\n",
    "cm_grid = confusion_matrix(Y_test, y_pred_grid)\n",
    "print(cm_grid)\n",
    "lgbm_grid_accuracy = cm_grid.trace()/cm_grid.sum()\n",
    "print('Gridsearch accuracy is: ', lgbm_grid_accuracy)"
   ]
  },
  {
   "cell_type": "markdown",
   "metadata": {},
   "source": [
    "## Linear SVM"
   ]
  },
  {
   "cell_type": "code",
   "execution_count": 92,
   "metadata": {},
   "outputs": [
    {
     "name": "stdout",
     "output_type": "stream",
     "text": [
      "Fitting 10 folds for each of 5 candidates, totalling 50 fits\n"
     ]
    },
    {
     "name": "stderr",
     "output_type": "stream",
     "text": [
      "[Parallel(n_jobs=1)]: Using backend SequentialBackend with 1 concurrent workers.\n",
      "[Parallel(n_jobs=1)]: Done  50 out of  50 | elapsed:  1.4min finished\n"
     ]
    },
    {
     "name": "stdout",
     "output_type": "stream",
     "text": [
      "Accuracy on a train set:  0.6556836902800659\n",
      "Best parameters:  {'C': 10}\n",
      "Best Estimator: LinearSVC(C=10, class_weight=None, dual=True, fit_intercept=True,\n",
      "          intercept_scaling=1, loss='squared_hinge', max_iter=10000,\n",
      "          multi_class='ovr', penalty='l2', random_state=None, tol=0.0001,\n",
      "          verbose=0)\n",
      "[[ 7  6 10]\n",
      " [ 1 63 15]\n",
      " [ 9 13 28]]\n",
      "Gridsearch accuracy is:  0.6447368421052632\n"
     ]
    }
   ],
   "source": [
    "param_grid = {'C': [0.1,10, 100, 1000,5000]}\n",
    "lsvm_grid = GridSearchCV(LinearSVC(max_iter = 10000), param_grid, cv=10, refit=True, verbose=1)\n",
    "lsvm_grid.fit(X_train,Y_train)\n",
    "score_lsvm_grid= best_score(lsvm_grid)\n",
    "y_pred_grid = lsvm_grid.predict(X_test)\n",
    "\n",
    "\n",
    "cm_grid = confusion_matrix(Y_test, y_pred_grid)\n",
    "print(cm_grid)\n",
    "lsvm_grid_accuracy = cm_grid.trace()/cm_grid.sum()\n",
    "print('Gridsearch accuracy on a test set is: ', lsvm_grid_accuracy)"
   ]
  },
  {
   "cell_type": "code",
   "execution_count": null,
   "metadata": {},
   "outputs": [],
   "source": []
  },
  {
   "cell_type": "markdown",
   "metadata": {},
   "source": [
    "## Logistic Regression"
   ]
  },
  {
   "cell_type": "code",
   "execution_count": 105,
   "metadata": {},
   "outputs": [
    {
     "name": "stdout",
     "output_type": "stream",
     "text": [
      "Fitting 10 folds for each of 3 candidates, totalling 30 fits\n"
     ]
    },
    {
     "name": "stderr",
     "output_type": "stream",
     "text": [
      "[Parallel(n_jobs=1)]: Using backend SequentialBackend with 1 concurrent workers.\n"
     ]
    },
    {
     "name": "stdout",
     "output_type": "stream",
     "text": [
      "Accuracy on a train set:  0.6227347611202636\n",
      "Best parameters:  {'C': 1.0, 'multi_class': 'multinomial', 'penalty': 'l2'}\n",
      "Best Estimator: LogisticRegression(C=1.0, class_weight='balanced', dual=False,\n",
      "                   fit_intercept=True, intercept_scaling=1, l1_ratio=None,\n",
      "                   max_iter=10000, multi_class='multinomial', n_jobs=None,\n",
      "                   penalty='l2', random_state=42, solver='lbfgs', tol=0.0001,\n",
      "                   verbose=0, warm_start=False)\n",
      "[[11  4  8]\n",
      " [ 2 57 20]\n",
      " [19  9 22]]\n",
      "Gridsearch accuracy on a test set is:  0.5921052631578947\n"
     ]
    },
    {
     "name": "stderr",
     "output_type": "stream",
     "text": [
      "[Parallel(n_jobs=1)]: Done  30 out of  30 | elapsed:    1.8s finished\n"
     ]
    }
   ],
   "source": [
    "param_grid = {'C': np.logspace(0, 4, 1),   'penalty' : [ 'l2']\n",
    "              , 'multi_class':['multinomial','auto','ovr'] }\n",
    "log_reg = LogisticRegression(random_state = 42,class_weight='balanced',solver ='lbfgs', max_iter = 10000)\n",
    "\n",
    "\n",
    "log_reg_grid = GridSearchCV(log_reg, param_grid, cv=10, refit=True, verbose=1)\n",
    "log_reg_grid.fit(X_train,Y_train)\n",
    "score_log_reg_grid = best_score(log_reg_grid)\n",
    "\n",
    "y_pred_grid = log_reg_grid.predict(X_test)\n",
    "cm_grid = confusion_matrix(Y_test, y_pred_grid)\n",
    "print(cm_grid)\n",
    "log_reg_grid_accuracy = cm_grid.trace()/cm_grid.sum()\n",
    "print('Gridsearch accuracy on a test set is: ', log_reg_grid_accuracy)"
   ]
  },
  {
   "cell_type": "code",
   "execution_count": null,
   "metadata": {},
   "outputs": [],
   "source": []
  },
  {
   "cell_type": "markdown",
   "metadata": {},
   "source": [
    "## Random Forest"
   ]
  },
  {
   "cell_type": "code",
   "execution_count": 107,
   "metadata": {},
   "outputs": [
    {
     "name": "stdout",
     "output_type": "stream",
     "text": [
      "Fitting 10 folds for each of 300 candidates, totalling 3000 fits\n"
     ]
    },
    {
     "name": "stderr",
     "output_type": "stream",
     "text": [
      "[Parallel(n_jobs=1)]: Using backend SequentialBackend with 1 concurrent workers.\n"
     ]
    },
    {
     "name": "stdout",
     "output_type": "stream",
     "text": [
      "Accuracy on a train set:  0.6672158154859967\n",
      "Best parameters:  {'max_depth': 7, 'max_features': 10, 'min_samples_split': 7, 'n_estimators': 30}\n",
      "Best Estimator: RandomForestClassifier(bootstrap=True, class_weight=None, criterion='entropy',\n",
      "                       max_depth=7, max_features=10, max_leaf_nodes=None,\n",
      "                       min_impurity_decrease=0.0, min_impurity_split=None,\n",
      "                       min_samples_leaf=1, min_samples_split=7,\n",
      "                       min_weight_fraction_leaf=0.0, n_estimators=30,\n",
      "                       n_jobs=None, oob_score=False, random_state=None,\n",
      "                       verbose=0, warm_start=False)\n",
      "[[ 1  7 15]\n",
      " [ 0 69 10]\n",
      " [ 0 22 28]]\n",
      "Gridsearch accuracy on a test set is:  0.6447368421052632\n"
     ]
    },
    {
     "name": "stderr",
     "output_type": "stream",
     "text": [
      "[Parallel(n_jobs=1)]: Done 3000 out of 3000 | elapsed:  5.4min finished\n"
     ]
    }
   ],
   "source": [
    "param_grid = {'max_depth': [3, 5, 6, 7, 8], 'max_features': [6,7,8,9,10],  \n",
    "              'min_samples_split': [5, 6, 7, 8],'n_estimators':[30,50,100]}\n",
    "\n",
    "\n",
    "rf_grid = GridSearchCV(RandomForestClassifier(criterion = 'entropy',class_weight='balanced',bootstrap=True), param_grid, cv=10, refit=True, verbose=1)\n",
    "rf_grid.fit(X_train,Y_train)\n",
    "score_rf_grid = best_score(rf_grid)\n",
    "\n",
    "y_pred_grid = rf_grid.predict(X_test)\n",
    "cm_grid = confusion_matrix(Y_test, y_pred_grid)\n",
    "print(cm_grid)\n",
    "rf_grid_accuracy = cm_grid.trace()/cm_grid.sum()\n",
    "print('Gridsearch accuracy on a test set is: ', rf_grid_accuracy)"
   ]
  },
  {
   "cell_type": "code",
   "execution_count": null,
   "metadata": {},
   "outputs": [],
   "source": []
  },
  {
   "cell_type": "code",
   "execution_count": null,
   "metadata": {},
   "outputs": [],
   "source": [
    "classifier = linear_model.SGDClassifier(max_iter=5, tol=None,random_state = 0, \n",
    "                                        alpha=0.0001, average=True,class_weight = 'balanced')\n",
    "classifier.fit(X_train, Y_train)"
   ]
  },
  {
   "cell_type": "markdown",
   "metadata": {},
   "source": [
    "## SGD "
   ]
  },
  {
   "cell_type": "code",
   "execution_count": 132,
   "metadata": {},
   "outputs": [
    {
     "name": "stdout",
     "output_type": "stream",
     "text": [
      "Accuracy on a train set:  0.6952224052718287\n",
      "Best parameters:  {'alpha': 0.1, 'l1_ratio': 0.5, 'loss': 'log', 'penalty': 'elasticnet'}\n",
      "Best Estimator: SGDClassifier(alpha=0.1, average=False, class_weight='balanced',\n",
      "              early_stopping=False, epsilon=0.1, eta0=0.0, fit_intercept=True,\n",
      "              l1_ratio=0.5, learning_rate='optimal', loss='log', max_iter=1000,\n",
      "              n_iter_no_change=5, n_jobs=None, penalty='elasticnet',\n",
      "              power_t=0.5, random_state=0, shuffle=True, tol=0.001,\n",
      "              validation_fraction=0.1, verbose=0, warm_start=False)\n",
      "[[ 8  4 11]\n",
      " [ 2 67 10]\n",
      " [ 2 10 38]]\n",
      "Gridsearch accuracy on a test set is:  0.743421052631579\n"
     ]
    }
   ],
   "source": [
    "param_grid = {\n",
    "    'loss': ['log'],\n",
    "    'penalty': ['elasticnet'],\n",
    "    'alpha': [10 ** x for x in range(-5, 1)],\n",
    "    'l1_ratio': [0, 0.05, 0.1,  0.5, 0.8, 0.9,  1],\n",
    "}\n",
    "sgd = linear_model.SGDClassifier(random_state=0, class_weight='balanced')\n",
    "\n",
    "sgd_grid = GridSearchCV(sgd, param_grid=param_grid,\n",
    "                                    n_jobs=1 )\n",
    "sgd_grid.fit(X_train, Y_train)\n",
    "score_sgd_grid = best_score(sgd_grid)\n",
    "\n",
    "y_pred_grid = sgd_grid.predict(X_test)\n",
    "cm_grid = confusion_matrix(Y_test, y_pred_grid)\n",
    "print(cm_grid)\n",
    "sgd_grid_accuracy = cm_grid.trace()/cm_grid.sum()\n",
    "print('Gridsearch accuracy on a test set is: ', sgd_grid_accuracy)"
   ]
  },
  {
   "cell_type": "markdown",
   "metadata": {},
   "source": [
    "## Support Vector Machines"
   ]
  },
  {
   "cell_type": "code",
   "execution_count": 137,
   "metadata": {},
   "outputs": [
    {
     "name": "stdout",
     "output_type": "stream",
     "text": [
      "Fitting 10 folds for each of 5 candidates, totalling 50 fits\n"
     ]
    },
    {
     "name": "stderr",
     "output_type": "stream",
     "text": [
      "[Parallel(n_jobs=1)]: Using backend SequentialBackend with 1 concurrent workers.\n"
     ]
    },
    {
     "name": "stdout",
     "output_type": "stream",
     "text": [
      "Accuracy on a train set:  0.6013179571663921\n",
      "Best parameters:  {'C': 10}\n",
      "Best Estimator: SVC(C=10, cache_size=200, class_weight=None, coef0=0.0,\n",
      "    decision_function_shape='ovr', degree=3, gamma='auto_deprecated',\n",
      "    kernel='rbf', max_iter=10000, probability=False, random_state=None,\n",
      "    shrinking=True, tol=0.001, verbose=False)\n",
      "[[ 9  4 10]\n",
      " [ 4 57 18]\n",
      " [ 8 13 29]]\n",
      "Gridsearch accuracy on a test set is:  0.625\n"
     ]
    },
    {
     "name": "stderr",
     "output_type": "stream",
     "text": [
      "[Parallel(n_jobs=1)]: Done  50 out of  50 | elapsed:    2.4s finished\n"
     ]
    }
   ],
   "source": [
    "param_grid = {'C': [0.1,10, 100, 1000,5000]}\n",
    "svm_grid = GridSearchCV(SVC(max_iter = 10000), param_grid, cv=10, refit=True, verbose=1)\n",
    "svm_grid.fit(X_train,Y_train)\n",
    "score_lsvm_grid= best_score(svm_grid)\n",
    "y_pred_grid = svm_grid.predict(X_test)\n",
    "\n",
    "\n",
    "cm_grid = confusion_matrix(Y_test, y_pred_grid)\n",
    "print(cm_grid)\n",
    "svm_grid_accuracy = cm_grid.trace()/cm_grid.sum()\n",
    "print('Gridsearch accuracy on a test set is: ', svm_grid_accuracy)"
   ]
  },
  {
   "cell_type": "markdown",
   "metadata": {},
   "source": [
    "## XGB Classifier"
   ]
  },
  {
   "cell_type": "code",
   "execution_count": 134,
   "metadata": {},
   "outputs": [
    {
     "name": "stdout",
     "output_type": "stream",
     "text": [
      "Fitting 10 folds for each of 60 candidates, totalling 600 fits\n"
     ]
    },
    {
     "name": "stderr",
     "output_type": "stream",
     "text": [
      "[Parallel(n_jobs=1)]: Using backend SequentialBackend with 1 concurrent workers.\n",
      "[Parallel(n_jobs=1)]: Done 600 out of 600 | elapsed:  9.7min finished\n"
     ]
    },
    {
     "name": "stdout",
     "output_type": "stream",
     "text": [
      "Accuracy on a train set:  0.6738056013179572\n",
      "Best parameters:  {'max_depth': 5, 'min_samples_split': 3, 'n_estimators': 100}\n",
      "Best Estimator: XGBClassifier(b_pos_weight=1, base_score=0.5, booster='gbtree',\n",
      "              colsample_bylevel=1, colsample_bynode=1, colsample_bytree=0.8,\n",
      "              gamma=0, learning_rate=0.1, max_delta_step=0, max_depth=5,\n",
      "              min_child_weight=1, min_samples_split=3, missing=None,\n",
      "              n_estimators=100, n_jobs=1, nthread=4, objective='multi:softprob',\n",
      "              random_state=0, reg_alpha=0, reg_lambda=1, scale_pos_weight=1,\n",
      "              seed=27, silent=None, subsample=0.8, verbosity=1)\n",
      "[[ 5  4 14]\n",
      " [ 1 65 13]\n",
      " [ 3 12 35]]\n",
      "Gridsearch accuracy is:  0.6907894736842105\n"
     ]
    }
   ],
   "source": [
    "xgb = XGBClassifier(learning_rate = 0.1,min_child_weight=1, \n",
    "                           subsample=0.8, colsample_bytree=0.8, objective= 'binary:logistic',\n",
    "                           nthread=4, b_pos_weight=1, seed=27)\n",
    "#gbc = GradientBoostingClassifier()\n",
    "param_grid = {'n_estimators': [50, 100,500], \n",
    "              'min_samples_split': [3, 4, 5, 6, 7],\n",
    "              'max_depth': [3, 4, 5, 6]}\n",
    "\n",
    "xgb_grid = GridSearchCV(xgb, param_grid, cv=10, refit=True, verbose=1)\n",
    "xgb_grid.fit(X_train, Y_train)\n",
    "score_xgb_grid = best_score(xgb_grid)\n",
    "\n",
    "\n",
    "y_pred_grid = xgb_grid.predict(X_test)\n",
    "cm_grid = confusion_matrix(Y_test, y_pred_grid)\n",
    "print(cm_grid)\n",
    "xgb_grid_accuracy = cm_grid.trace()/cm_grid.sum()\n",
    "print('Gridsearch accuracy on a test set is: ', xgb_grid_accuracy)"
   ]
  },
  {
   "cell_type": "code",
   "execution_count": null,
   "metadata": {},
   "outputs": [],
   "source": []
  },
  {
   "cell_type": "markdown",
   "metadata": {},
   "source": [
    "## Which one is the best model with GridSearch?"
   ]
  },
  {
   "cell_type": "code",
   "execution_count": 140,
   "metadata": {},
   "outputs": [
    {
     "data": {
      "text/html": [
       "<div>\n",
       "<style scoped>\n",
       "    .dataframe tbody tr th:only-of-type {\n",
       "        vertical-align: middle;\n",
       "    }\n",
       "\n",
       "    .dataframe tbody tr th {\n",
       "        vertical-align: top;\n",
       "    }\n",
       "\n",
       "    .dataframe thead th {\n",
       "        text-align: right;\n",
       "    }\n",
       "</style>\n",
       "<table border=\"1\" class=\"dataframe\">\n",
       "  <thead>\n",
       "    <tr style=\"text-align: right;\">\n",
       "      <th></th>\n",
       "      <th>Score</th>\n",
       "    </tr>\n",
       "    <tr>\n",
       "      <th>Model</th>\n",
       "      <th></th>\n",
       "    </tr>\n",
       "  </thead>\n",
       "  <tbody>\n",
       "    <tr>\n",
       "      <td>Stochastic Gradient Decent</td>\n",
       "      <td>0.743421</td>\n",
       "    </tr>\n",
       "    <tr>\n",
       "      <td>Adaptive Boosting Classifier</td>\n",
       "      <td>0.710526</td>\n",
       "    </tr>\n",
       "    <tr>\n",
       "      <td>Decision Tree</td>\n",
       "      <td>0.703947</td>\n",
       "    </tr>\n",
       "    <tr>\n",
       "      <td>XG Boost Classifier</td>\n",
       "      <td>0.690789</td>\n",
       "    </tr>\n",
       "    <tr>\n",
       "      <td>Light GBM</td>\n",
       "      <td>0.651316</td>\n",
       "    </tr>\n",
       "    <tr>\n",
       "      <td>Linear Support Vector Machines</td>\n",
       "      <td>0.644737</td>\n",
       "    </tr>\n",
       "    <tr>\n",
       "      <td>Random Forest</td>\n",
       "      <td>0.644737</td>\n",
       "    </tr>\n",
       "    <tr>\n",
       "      <td>Support Vector Machines</td>\n",
       "      <td>0.625000</td>\n",
       "    </tr>\n",
       "    <tr>\n",
       "      <td>Logistic Regression</td>\n",
       "      <td>0.592105</td>\n",
       "    </tr>\n",
       "    <tr>\n",
       "      <td>KNN</td>\n",
       "      <td>0.513158</td>\n",
       "    </tr>\n",
       "  </tbody>\n",
       "</table>\n",
       "</div>"
      ],
      "text/plain": [
       "                                   Score\n",
       "Model                                   \n",
       "Stochastic Gradient Decent      0.743421\n",
       "Adaptive Boosting Classifier    0.710526\n",
       "Decision Tree                   0.703947\n",
       "XG Boost Classifier             0.690789\n",
       "Light GBM                       0.651316\n",
       "Linear Support Vector Machines  0.644737\n",
       "Random Forest                   0.644737\n",
       "Support Vector Machines         0.625000\n",
       "Logistic Regression             0.592105\n",
       "KNN                             0.513158"
      ]
     },
     "execution_count": 140,
     "metadata": {},
     "output_type": "execute_result"
    }
   ],
   "source": [
    "table2 = pd.DataFrame({\n",
    "    'Model': ['Support Vector Machines', 'Linear Support Vector Machines', 'KNN', 'Logistic Regression', \n",
    "              'Random Forest',  'Stochastic Gradient Decent', 'Decision Tree', \n",
    "              'Adaptive Boosting Classifier','XG Boost Classifier','Light GBM'],\n",
    "    'Score': [svm_grid_accuracy,lsvm_grid_accuracy, knn_grid_accuracy, log_reg_grid_accuracy, \n",
    "              rf_grid_accuracy, sgd_grid_accuracy, decs_tree_grid_accuracy, \n",
    "              ada_grid_accuracy, xgb_grid_accuracy,lgbm_grid_accuracy]})\n",
    "table_df2 = table2.sort_values(by='Score', ascending=False)\n",
    "table_df2 = table_df2.set_index('Model')\n",
    "table_df2\n",
    "#type(table_df2)\n",
    "#table_df2.shape\n",
    "#table_df.shape"
   ]
  },
  {
   "cell_type": "markdown",
   "metadata": {},
   "source": [
    "Let us combine these two table."
   ]
  },
  {
   "cell_type": "code",
   "execution_count": 142,
   "metadata": {},
   "outputs": [
    {
     "data": {
      "text/html": [
       "<div>\n",
       "<style scoped>\n",
       "    .dataframe tbody tr th:only-of-type {\n",
       "        vertical-align: middle;\n",
       "    }\n",
       "\n",
       "    .dataframe tbody tr th {\n",
       "        vertical-align: top;\n",
       "    }\n",
       "\n",
       "    .dataframe thead tr th {\n",
       "        text-align: left;\n",
       "    }\n",
       "</style>\n",
       "<table border=\"1\" class=\"dataframe\">\n",
       "  <thead>\n",
       "    <tr>\n",
       "      <th></th>\n",
       "      <th>Score</th>\n",
       "      <th>Score with grid search</th>\n",
       "    </tr>\n",
       "    <tr>\n",
       "      <th></th>\n",
       "      <th>Score</th>\n",
       "      <th>Score</th>\n",
       "    </tr>\n",
       "  </thead>\n",
       "  <tbody>\n",
       "    <tr>\n",
       "      <td>Adaptive Boosting Classifier</td>\n",
       "      <td>0.710526</td>\n",
       "      <td>0.710526</td>\n",
       "    </tr>\n",
       "    <tr>\n",
       "      <td>XG Boost Classifier</td>\n",
       "      <td>0.697368</td>\n",
       "      <td>0.690789</td>\n",
       "    </tr>\n",
       "    <tr>\n",
       "      <td>Random Forest</td>\n",
       "      <td>0.631579</td>\n",
       "      <td>0.644737</td>\n",
       "    </tr>\n",
       "    <tr>\n",
       "      <td>Stochastic Gradient Decent</td>\n",
       "      <td>0.625000</td>\n",
       "      <td>0.743421</td>\n",
       "    </tr>\n",
       "    <tr>\n",
       "      <td>Logistic Regression</td>\n",
       "      <td>0.598684</td>\n",
       "      <td>0.592105</td>\n",
       "    </tr>\n",
       "    <tr>\n",
       "      <td>Linear Support Vector Machines</td>\n",
       "      <td>0.585526</td>\n",
       "      <td>0.644737</td>\n",
       "    </tr>\n",
       "    <tr>\n",
       "      <td>Decision Tree</td>\n",
       "      <td>0.585526</td>\n",
       "      <td>0.703947</td>\n",
       "    </tr>\n",
       "    <tr>\n",
       "      <td>Perceptron</td>\n",
       "      <td>0.572368</td>\n",
       "      <td>NaN</td>\n",
       "    </tr>\n",
       "    <tr>\n",
       "      <td>Support Vector Machines</td>\n",
       "      <td>0.565789</td>\n",
       "      <td>0.625000</td>\n",
       "    </tr>\n",
       "    <tr>\n",
       "      <td>KNN</td>\n",
       "      <td>0.506579</td>\n",
       "      <td>0.513158</td>\n",
       "    </tr>\n",
       "    <tr>\n",
       "      <td>Naive Bayes</td>\n",
       "      <td>0.203947</td>\n",
       "      <td>NaN</td>\n",
       "    </tr>\n",
       "    <tr>\n",
       "      <td>Light GBM</td>\n",
       "      <td>NaN</td>\n",
       "      <td>0.651316</td>\n",
       "    </tr>\n",
       "  </tbody>\n",
       "</table>\n",
       "</div>"
      ],
      "text/plain": [
       "                                   Score Score with grid search\n",
       "                                   Score                  Score\n",
       "Adaptive Boosting Classifier    0.710526               0.710526\n",
       "XG Boost Classifier             0.697368               0.690789\n",
       "Random Forest                   0.631579               0.644737\n",
       "Stochastic Gradient Decent      0.625000               0.743421\n",
       "Logistic Regression             0.598684               0.592105\n",
       "Linear Support Vector Machines  0.585526               0.644737\n",
       "Decision Tree                   0.585526               0.703947\n",
       "Perceptron                      0.572368                    NaN\n",
       "Support Vector Machines         0.565789               0.625000\n",
       "KNN                             0.506579               0.513158\n",
       "Naive Bayes                     0.203947                    NaN\n",
       "Light GBM                            NaN               0.651316"
      ]
     },
     "execution_count": 142,
     "metadata": {},
     "output_type": "execute_result"
    }
   ],
   "source": [
    "pd.concat([table_df, table_df2],axis =1, sort=False, keys = ['Score','Score with grid search']) # concat dataframes"
   ]
  },
  {
   "cell_type": "code",
   "execution_count": null,
   "metadata": {},
   "outputs": [],
   "source": []
  },
  {
   "cell_type": "code",
   "execution_count": null,
   "metadata": {},
   "outputs": [],
   "source": []
  },
  {
   "cell_type": "markdown",
   "metadata": {},
   "source": [
    "## Using h2o AutoML packages"
   ]
  },
  {
   "cell_type": "code",
   "execution_count": 215,
   "metadata": {},
   "outputs": [
    {
     "name": "stdout",
     "output_type": "stream",
     "text": [
      "Checking whether there is an H2O instance running at http://localhost:54321 . connected.\n"
     ]
    },
    {
     "data": {
      "text/html": [
       "<div style=\"overflow:auto\"><table style=\"width:50%\"><tr><td>H2O cluster uptime:</td>\n",
       "<td>4 days 6 hours 43 mins</td></tr>\n",
       "<tr><td>H2O cluster timezone:</td>\n",
       "<td>America/Denver</td></tr>\n",
       "<tr><td>H2O data parsing timezone:</td>\n",
       "<td>UTC</td></tr>\n",
       "<tr><td>H2O cluster version:</td>\n",
       "<td>3.26.0.6</td></tr>\n",
       "<tr><td>H2O cluster version age:</td>\n",
       "<td>20 days </td></tr>\n",
       "<tr><td>H2O cluster name:</td>\n",
       "<td>H2O_from_python_sergazy_cln5zt</td></tr>\n",
       "<tr><td>H2O cluster total nodes:</td>\n",
       "<td>1</td></tr>\n",
       "<tr><td>H2O cluster free memory:</td>\n",
       "<td>1.861 Gb</td></tr>\n",
       "<tr><td>H2O cluster total cores:</td>\n",
       "<td>4</td></tr>\n",
       "<tr><td>H2O cluster allowed cores:</td>\n",
       "<td>4</td></tr>\n",
       "<tr><td>H2O cluster status:</td>\n",
       "<td>locked, healthy</td></tr>\n",
       "<tr><td>H2O connection url:</td>\n",
       "<td>http://localhost:54321</td></tr>\n",
       "<tr><td>H2O connection proxy:</td>\n",
       "<td>None</td></tr>\n",
       "<tr><td>H2O internal security:</td>\n",
       "<td>False</td></tr>\n",
       "<tr><td>H2O API Extensions:</td>\n",
       "<td>Amazon S3, XGBoost, Algos, AutoML, Core V3, TargetEncoder, Core V4</td></tr>\n",
       "<tr><td>Python version:</td>\n",
       "<td>3.7.3 final</td></tr></table></div>"
      ],
      "text/plain": [
       "--------------------------  ------------------------------------------------------------------\n",
       "H2O cluster uptime:         4 days 6 hours 43 mins\n",
       "H2O cluster timezone:       America/Denver\n",
       "H2O data parsing timezone:  UTC\n",
       "H2O cluster version:        3.26.0.6\n",
       "H2O cluster version age:    20 days\n",
       "H2O cluster name:           H2O_from_python_sergazy_cln5zt\n",
       "H2O cluster total nodes:    1\n",
       "H2O cluster free memory:    1.861 Gb\n",
       "H2O cluster total cores:    4\n",
       "H2O cluster allowed cores:  4\n",
       "H2O cluster status:         locked, healthy\n",
       "H2O connection url:         http://localhost:54321\n",
       "H2O connection proxy:\n",
       "H2O internal security:      False\n",
       "H2O API Extensions:         Amazon S3, XGBoost, Algos, AutoML, Core V3, TargetEncoder, Core V4\n",
       "Python version:             3.7.3 final\n",
       "--------------------------  ------------------------------------------------------------------"
      ]
     },
     "metadata": {},
     "output_type": "display_data"
    }
   ],
   "source": [
    "import h2o\n",
    "from h2o.automl import H2OAutoML\n",
    "h2o.init()"
   ]
  },
  {
   "cell_type": "code",
   "execution_count": 216,
   "metadata": {},
   "outputs": [],
   "source": [
    "import os\n",
    "import h2o\n",
    "import pandas as pd"
   ]
  },
  {
   "cell_type": "code",
   "execution_count": 217,
   "metadata": {},
   "outputs": [
    {
     "name": "stdout",
     "output_type": "stream",
     "text": [
      "Parse progress: |█████████████████████████████████████████████████████████| 100%\n"
     ]
    }
   ],
   "source": [
    "type(df)\n",
    "X_train_hf = h2o.H2OFrame(X_train)\n",
    "#X_train.head()"
   ]
  },
  {
   "cell_type": "code",
   "execution_count": 220,
   "metadata": {},
   "outputs": [
    {
     "name": "stdout",
     "output_type": "stream",
     "text": [
      "Parse progress: |█████████████████████████████████████████████████████████| 100%\n"
     ]
    },
    {
     "data": {
      "text/html": [
       "<table>\n",
       "<thead>\n",
       "<tr><th>DECISION  </th></tr>\n",
       "</thead>\n",
       "<tbody>\n",
       "<tr><td>Reject    </td></tr>\n",
       "<tr><td>Reject    </td></tr>\n",
       "<tr><td>Reject    </td></tr>\n",
       "<tr><td>Admit     </td></tr>\n",
       "<tr><td>Reject    </td></tr>\n",
       "<tr><td>Waitlist  </td></tr>\n",
       "<tr><td>Reject    </td></tr>\n",
       "<tr><td>Waitlist  </td></tr>\n",
       "<tr><td>Waitlist  </td></tr>\n",
       "<tr><td>Waitlist  </td></tr>\n",
       "</tbody>\n",
       "</table>"
      ]
     },
     "metadata": {},
     "output_type": "display_data"
    },
    {
     "data": {
      "text/plain": []
     },
     "execution_count": 220,
     "metadata": {},
     "output_type": "execute_result"
    }
   ],
   "source": [
    "Y_train_df =  Y_train.to_frame()\n",
    "Y_train_hf = h2o.H2OFrame(Y_train_df)\n",
    "Y_train_hf.head()"
   ]
  },
  {
   "cell_type": "code",
   "execution_count": 221,
   "metadata": {},
   "outputs": [
    {
     "name": "stdout",
     "output_type": "stream",
     "text": [
      "Parse progress: |█████████████████████████████████████████████████████████| 100%\n",
      "Parse progress: |█████████████████████████████████████████████████████████| 100%\n"
     ]
    }
   ],
   "source": [
    "X_test_hf = h2o.H2OFrame(X_test)\n",
    "Y_test_df =  Y_test.to_frame()\n",
    "Y_test_hf = h2o.H2OFrame(Y_test_df)"
   ]
  },
  {
   "cell_type": "code",
   "execution_count": 224,
   "metadata": {},
   "outputs": [
    {
     "data": {
      "text/plain": [
       "h2o.frame.H2OFrame"
      ]
     },
     "execution_count": 224,
     "metadata": {},
     "output_type": "execute_result"
    }
   ],
   "source": [
    "type(Y_test_hf)"
   ]
  },
  {
   "cell_type": "code",
   "execution_count": 230,
   "metadata": {},
   "outputs": [],
   "source": [
    "train = X_train_hf.cbind(Y_train_hf)"
   ]
  },
  {
   "cell_type": "code",
   "execution_count": 228,
   "metadata": {},
   "outputs": [],
   "source": [
    "test = X_test_hf.cbind(Y_test_hf)"
   ]
  },
  {
   "cell_type": "code",
   "execution_count": null,
   "metadata": {},
   "outputs": [],
   "source": []
  },
  {
   "cell_type": "code",
   "execution_count": 231,
   "metadata": {},
   "outputs": [],
   "source": [
    "y = \"DECISION\"\n",
    "x = X_train_hf.columns"
   ]
  },
  {
   "cell_type": "code",
   "execution_count": 148,
   "metadata": {},
   "outputs": [],
   "source": [
    "#train, test = df_hf.split_frame(ratios=[.8], seed=1)"
   ]
  },
  {
   "cell_type": "code",
   "execution_count": null,
   "metadata": {},
   "outputs": [],
   "source": [
    "# For binary classification, response should be a factor\n",
    "#train[y] = train[y].asfactor()\n",
    "#test[y] = test[y].asfactor()"
   ]
  },
  {
   "cell_type": "code",
   "execution_count": 232,
   "metadata": {},
   "outputs": [
    {
     "name": "stdout",
     "output_type": "stream",
     "text": [
      "AutoML progress: |████████████████████████████████████████████████████████| 100%\n"
     ]
    },
    {
     "data": {
      "text/html": [
       "<table>\n",
       "<thead>\n",
       "<tr><th>model_id                                           </th><th style=\"text-align: right;\">  mean_per_class_error</th><th style=\"text-align: right;\">  logloss</th><th style=\"text-align: right;\">    rmse</th><th style=\"text-align: right;\">     mse</th></tr>\n",
       "</thead>\n",
       "<tbody>\n",
       "<tr><td>GBM_grid_1_AutoML_20191022_183452_model_2          </td><td style=\"text-align: right;\">              0.407229</td><td style=\"text-align: right;\"> 1.31798 </td><td style=\"text-align: right;\">0.530878</td><td style=\"text-align: right;\">0.281831</td></tr>\n",
       "<tr><td>StackedEnsemble_BestOfFamily_AutoML_20191022_183452</td><td style=\"text-align: right;\">              0.410817</td><td style=\"text-align: right;\"> 0.710018</td><td style=\"text-align: right;\">0.493615</td><td style=\"text-align: right;\">0.243656</td></tr>\n",
       "<tr><td>XGBoost_grid_1_AutoML_20191022_183452_model_1      </td><td style=\"text-align: right;\">              0.417118</td><td style=\"text-align: right;\"> 0.725838</td><td style=\"text-align: right;\">0.50669 </td><td style=\"text-align: right;\">0.256735</td></tr>\n",
       "<tr><td>XGBoost_grid_1_AutoML_20191022_183452_model_4      </td><td style=\"text-align: right;\">              0.418664</td><td style=\"text-align: right;\"> 0.7241  </td><td style=\"text-align: right;\">0.503248</td><td style=\"text-align: right;\">0.253259</td></tr>\n",
       "<tr><td>XGBoost_grid_1_AutoML_20191022_183452_model_2      </td><td style=\"text-align: right;\">              0.41918 </td><td style=\"text-align: right;\"> 0.707062</td><td style=\"text-align: right;\">0.497744</td><td style=\"text-align: right;\">0.247749</td></tr>\n",
       "<tr><td>XGBoost_2_AutoML_20191022_183452                   </td><td style=\"text-align: right;\">              0.427726</td><td style=\"text-align: right;\"> 0.726326</td><td style=\"text-align: right;\">0.507059</td><td style=\"text-align: right;\">0.257109</td></tr>\n",
       "<tr><td>XGBoost_grid_1_AutoML_20191022_183452_model_7      </td><td style=\"text-align: right;\">              0.433316</td><td style=\"text-align: right;\"> 0.74956 </td><td style=\"text-align: right;\">0.518527</td><td style=\"text-align: right;\">0.26887 </td></tr>\n",
       "<tr><td>XGBoost_grid_1_AutoML_20191022_183452_model_3      </td><td style=\"text-align: right;\">              0.433455</td><td style=\"text-align: right;\"> 0.745136</td><td style=\"text-align: right;\">0.512005</td><td style=\"text-align: right;\">0.262149</td></tr>\n",
       "<tr><td>XGBoost_1_AutoML_20191022_183452                   </td><td style=\"text-align: right;\">              0.436663</td><td style=\"text-align: right;\"> 0.7117  </td><td style=\"text-align: right;\">0.496419</td><td style=\"text-align: right;\">0.246431</td></tr>\n",
       "<tr><td>GBM_1_AutoML_20191022_183452                       </td><td style=\"text-align: right;\">              0.436918</td><td style=\"text-align: right;\"> 0.779571</td><td style=\"text-align: right;\">0.504564</td><td style=\"text-align: right;\">0.254585</td></tr>\n",
       "<tr><td>XGBoost_grid_1_AutoML_20191022_183452_model_5      </td><td style=\"text-align: right;\">              0.440391</td><td style=\"text-align: right;\"> 0.726495</td><td style=\"text-align: right;\">0.506408</td><td style=\"text-align: right;\">0.256449</td></tr>\n",
       "<tr><td>GBM_grid_1_AutoML_20191022_183452_model_6          </td><td style=\"text-align: right;\">              0.442086</td><td style=\"text-align: right;\"> 1.21654 </td><td style=\"text-align: right;\">0.554101</td><td style=\"text-align: right;\">0.307028</td></tr>\n",
       "<tr><td>GBM_2_AutoML_20191022_183452                       </td><td style=\"text-align: right;\">              0.442774</td><td style=\"text-align: right;\"> 0.749957</td><td style=\"text-align: right;\">0.502952</td><td style=\"text-align: right;\">0.25296 </td></tr>\n",
       "<tr><td>XGBoost_3_AutoML_20191022_183452                   </td><td style=\"text-align: right;\">              0.450932</td><td style=\"text-align: right;\"> 0.73926 </td><td style=\"text-align: right;\">0.510653</td><td style=\"text-align: right;\">0.260766</td></tr>\n",
       "<tr><td>GBM_3_AutoML_20191022_183452                       </td><td style=\"text-align: right;\">              0.453381</td><td style=\"text-align: right;\"> 0.756119</td><td style=\"text-align: right;\">0.505735</td><td style=\"text-align: right;\">0.255768</td></tr>\n",
       "<tr><td>GBM_4_AutoML_20191022_183452                       </td><td style=\"text-align: right;\">              0.456076</td><td style=\"text-align: right;\"> 0.750642</td><td style=\"text-align: right;\">0.503771</td><td style=\"text-align: right;\">0.253785</td></tr>\n",
       "<tr><td>XRT_1_AutoML_20191022_183452                       </td><td style=\"text-align: right;\">              0.459927</td><td style=\"text-align: right;\"> 0.843471</td><td style=\"text-align: right;\">0.52977 </td><td style=\"text-align: right;\">0.280656</td></tr>\n",
       "<tr><td>GBM_grid_1_AutoML_20191022_183452_model_3          </td><td style=\"text-align: right;\">              0.460444</td><td style=\"text-align: right;\"> 1.01794 </td><td style=\"text-align: right;\">0.637946</td><td style=\"text-align: right;\">0.406976</td></tr>\n",
       "<tr><td>GBM_grid_1_AutoML_20191022_183452_model_1          </td><td style=\"text-align: right;\">              0.462628</td><td style=\"text-align: right;\"> 0.947521</td><td style=\"text-align: right;\">0.610042</td><td style=\"text-align: right;\">0.372151</td></tr>\n",
       "<tr><td>GBM_5_AutoML_20191022_183452                       </td><td style=\"text-align: right;\">              0.465264</td><td style=\"text-align: right;\"> 0.721056</td><td style=\"text-align: right;\">0.501283</td><td style=\"text-align: right;\">0.251284</td></tr>\n",
       "<tr><td>GBM_grid_1_AutoML_20191022_183452_model_4          </td><td style=\"text-align: right;\">              0.467391</td><td style=\"text-align: right;\"> 1.07952 </td><td style=\"text-align: right;\">0.660196</td><td style=\"text-align: right;\">0.435859</td></tr>\n",
       "<tr><td>XGBoost_grid_1_AutoML_20191022_183452_model_6      </td><td style=\"text-align: right;\">              0.469558</td><td style=\"text-align: right;\"> 0.816473</td><td style=\"text-align: right;\">0.550162</td><td style=\"text-align: right;\">0.302678</td></tr>\n",
       "<tr><td>DeepLearning_grid_1_AutoML_20191022_183452_model_3 </td><td style=\"text-align: right;\">              0.472929</td><td style=\"text-align: right;\"> 1.98212 </td><td style=\"text-align: right;\">0.58641 </td><td style=\"text-align: right;\">0.343876</td></tr>\n",
       "<tr><td>StackedEnsemble_AllModels_AutoML_20191022_183452   </td><td style=\"text-align: right;\">              0.473463</td><td style=\"text-align: right;\"> 0.717211</td><td style=\"text-align: right;\">0.505376</td><td style=\"text-align: right;\">0.255405</td></tr>\n",
       "<tr><td>DeepLearning_grid_1_AutoML_20191022_183452_model_2 </td><td style=\"text-align: right;\">              0.474294</td><td style=\"text-align: right;\"> 1.51642 </td><td style=\"text-align: right;\">0.579799</td><td style=\"text-align: right;\">0.336167</td></tr>\n",
       "<tr><td>GLM_grid_1_AutoML_20191022_183452_model_1          </td><td style=\"text-align: right;\">              0.479269</td><td style=\"text-align: right;\"> 0.754825</td><td style=\"text-align: right;\">0.517565</td><td style=\"text-align: right;\">0.267873</td></tr>\n",
       "<tr><td>DeepLearning_grid_1_AutoML_20191022_183452_model_1 </td><td style=\"text-align: right;\">              0.479434</td><td style=\"text-align: right;\"> 2.31433 </td><td style=\"text-align: right;\">0.595608</td><td style=\"text-align: right;\">0.354749</td></tr>\n",
       "<tr><td>DeepLearning_grid_1_AutoML_20191022_183452_model_4 </td><td style=\"text-align: right;\">              0.490815</td><td style=\"text-align: right;\"> 2.8132  </td><td style=\"text-align: right;\">0.625195</td><td style=\"text-align: right;\">0.390868</td></tr>\n",
       "<tr><td>GBM_grid_1_AutoML_20191022_183452_model_5          </td><td style=\"text-align: right;\">              0.499633</td><td style=\"text-align: right;\"> 0.975227</td><td style=\"text-align: right;\">0.621206</td><td style=\"text-align: right;\">0.385896</td></tr>\n",
       "<tr><td>DRF_1_AutoML_20191022_183452                       </td><td style=\"text-align: right;\">              0.504342</td><td style=\"text-align: right;\"> 0.911802</td><td style=\"text-align: right;\">0.538692</td><td style=\"text-align: right;\">0.290189</td></tr>\n",
       "<tr><td>DeepLearning_grid_1_AutoML_20191022_183452_model_5 </td><td style=\"text-align: right;\">              0.507188</td><td style=\"text-align: right;\"> 1.59306 </td><td style=\"text-align: right;\">0.589659</td><td style=\"text-align: right;\">0.347698</td></tr>\n",
       "<tr><td>DeepLearning_1_AutoML_20191022_183452              </td><td style=\"text-align: right;\">              0.534555</td><td style=\"text-align: right;\"> 1.02311 </td><td style=\"text-align: right;\">0.574215</td><td style=\"text-align: right;\">0.329723</td></tr>\n",
       "</tbody>\n",
       "</table>"
      ]
     },
     "metadata": {},
     "output_type": "display_data"
    },
    {
     "data": {
      "text/plain": []
     },
     "execution_count": 232,
     "metadata": {},
     "output_type": "execute_result"
    }
   ],
   "source": [
    "aml_first = H2OAutoML(max_models = 30, max_runtime_secs=300, seed = 1)\n",
    "aml_first.train(x = x, y = y, training_frame = train)\n",
    "lb = aml_first.leaderboard\n",
    "lb.head()\n",
    "lb.head(rows=lb.nrows) # Entire leaderboard"
   ]
  },
  {
   "cell_type": "code",
   "execution_count": 234,
   "metadata": {},
   "outputs": [
    {
     "name": "stdout",
     "output_type": "stream",
     "text": [
      "gbm prediction progress: |████████████████████████████████████████████████| 100%\n",
      "Rows:152\n",
      "Cols:4\n",
      "\n",
      "\n"
     ]
    },
    {
     "data": {
      "text/html": [
       "<table>\n",
       "<thead>\n",
       "<tr><th>       </th><th>predict  </th><th>Admit                </th><th>Reject               </th><th>Waitlist              </th></tr>\n",
       "</thead>\n",
       "<tbody>\n",
       "<tr><td>type   </td><td>enum     </td><td>real                 </td><td>real                 </td><td>real                  </td></tr>\n",
       "<tr><td>mins   </td><td>         </td><td>5.209438295227014e-07</td><td>7.788663860572825e-05</td><td>4.030894069031509e-06 </td></tr>\n",
       "<tr><td>mean   </td><td>         </td><td>0.0894543802504499   </td><td>0.5430801441875348   </td><td>0.3674654755620154    </td></tr>\n",
       "<tr><td>maxs   </td><td>         </td><td>0.9989826928502821   </td><td>0.9999940195863029   </td><td>0.9998790114674498    </td></tr>\n",
       "<tr><td>sigma  </td><td>         </td><td>0.23210418898047652  </td><td>0.4541262415953114   </td><td>0.41652984678224486   </td></tr>\n",
       "<tr><td>zeros  </td><td>         </td><td>0                    </td><td>0                    </td><td>0                     </td></tr>\n",
       "<tr><td>missing</td><td>0        </td><td>0                    </td><td>0                    </td><td>0                     </td></tr>\n",
       "<tr><td>0      </td><td>Waitlist </td><td>0.05679192739664471  </td><td>0.4480436880052786   </td><td>0.4951643845980767    </td></tr>\n",
       "<tr><td>1      </td><td>Waitlist </td><td>0.03619576290528703  </td><td>0.06348535268099545  </td><td>0.9003188844137174    </td></tr>\n",
       "<tr><td>2      </td><td>Reject   </td><td>0.007500718061633539 </td><td>0.7485192076192061   </td><td>0.2439800743191604    </td></tr>\n",
       "<tr><td>3      </td><td>Reject   </td><td>3.618287029661471e-06</td><td>0.9997149406330772   </td><td>0.00028144107989308824</td></tr>\n",
       "<tr><td>4      </td><td>Reject   </td><td>7.983239844384858e-05</td><td>0.9989953284207064   </td><td>0.0009248391808497036 </td></tr>\n",
       "<tr><td>5      </td><td>Waitlist </td><td>0.007682258284996146 </td><td>0.4039500282703496   </td><td>0.5883677134446543    </td></tr>\n",
       "<tr><td>6      </td><td>Waitlist </td><td>0.0034006394350013223</td><td>0.16439528560115582  </td><td>0.8322040749638427    </td></tr>\n",
       "<tr><td>7      </td><td>Waitlist </td><td>0.3277703961710042   </td><td>0.0005130472390521145</td><td>0.6717165565899437    </td></tr>\n",
       "<tr><td>8      </td><td>Reject   </td><td>0.001140537974717637 </td><td>0.8326599185445787   </td><td>0.16619954348070373   </td></tr>\n",
       "<tr><td>9      </td><td>Waitlist </td><td>0.061813918816480816 </td><td>0.0070155513926360834</td><td>0.9311705297908832    </td></tr>\n",
       "</tbody>\n",
       "</table>"
      ]
     },
     "metadata": {},
     "output_type": "display_data"
    }
   ],
   "source": [
    "preds_first_train = aml_first.predict(test)\n",
    "preds_first_train.describe()"
   ]
  },
  {
   "cell_type": "code",
   "execution_count": 235,
   "metadata": {},
   "outputs": [
    {
     "name": "stdout",
     "output_type": "stream",
     "text": [
      "\n",
      "ModelMetricsMultinomial: gbm\n",
      "** Reported on test data. **\n",
      "\n",
      "MSE: 0.27305611997075074\n",
      "RMSE: 0.5225477202808857\n",
      "LogLoss: 1.365883168606446\n",
      "Mean Per-Class Error: 0.3831297009722987\n",
      "\n",
      "Confusion Matrix: Row labels: Actual class; Column labels: Predicted class\n"
     ]
    },
    {
     "data": {
      "text/html": [
       "<div>\n",
       "<style scoped>\n",
       "    .dataframe tbody tr th:only-of-type {\n",
       "        vertical-align: middle;\n",
       "    }\n",
       "\n",
       "    .dataframe tbody tr th {\n",
       "        vertical-align: top;\n",
       "    }\n",
       "\n",
       "    .dataframe thead th {\n",
       "        text-align: right;\n",
       "    }\n",
       "</style>\n",
       "<table border=\"1\" class=\"dataframe\">\n",
       "  <thead>\n",
       "    <tr style=\"text-align: right;\">\n",
       "      <th></th>\n",
       "      <th>Admit</th>\n",
       "      <th>Reject</th>\n",
       "      <th>Waitlist</th>\n",
       "      <th>Error</th>\n",
       "      <th>Rate</th>\n",
       "    </tr>\n",
       "  </thead>\n",
       "  <tbody>\n",
       "    <tr>\n",
       "      <td>0</td>\n",
       "      <td>8.0</td>\n",
       "      <td>3.0</td>\n",
       "      <td>12.0</td>\n",
       "      <td>0.652174</td>\n",
       "      <td>15 / 23</td>\n",
       "    </tr>\n",
       "    <tr>\n",
       "      <td>1</td>\n",
       "      <td>2.0</td>\n",
       "      <td>65.0</td>\n",
       "      <td>12.0</td>\n",
       "      <td>0.177215</td>\n",
       "      <td>14 / 79</td>\n",
       "    </tr>\n",
       "    <tr>\n",
       "      <td>2</td>\n",
       "      <td>3.0</td>\n",
       "      <td>13.0</td>\n",
       "      <td>34.0</td>\n",
       "      <td>0.320000</td>\n",
       "      <td>16 / 50</td>\n",
       "    </tr>\n",
       "    <tr>\n",
       "      <td>3</td>\n",
       "      <td>13.0</td>\n",
       "      <td>81.0</td>\n",
       "      <td>58.0</td>\n",
       "      <td>0.296053</td>\n",
       "      <td>45 / 152</td>\n",
       "    </tr>\n",
       "  </tbody>\n",
       "</table>\n",
       "</div>"
      ],
      "text/plain": [
       "   Admit  Reject  Waitlist     Error      Rate\n",
       "0    8.0     3.0      12.0  0.652174   15 / 23\n",
       "1    2.0    65.0      12.0  0.177215   14 / 79\n",
       "2    3.0    13.0      34.0  0.320000   16 / 50\n",
       "3   13.0    81.0      58.0  0.296053  45 / 152"
      ]
     },
     "metadata": {},
     "output_type": "display_data"
    },
    {
     "name": "stdout",
     "output_type": "stream",
     "text": [
      "\n",
      "Top-3 Hit Ratios: \n"
     ]
    },
    {
     "data": {
      "text/html": [
       "<div>\n",
       "<style scoped>\n",
       "    .dataframe tbody tr th:only-of-type {\n",
       "        vertical-align: middle;\n",
       "    }\n",
       "\n",
       "    .dataframe tbody tr th {\n",
       "        vertical-align: top;\n",
       "    }\n",
       "\n",
       "    .dataframe thead th {\n",
       "        text-align: right;\n",
       "    }\n",
       "</style>\n",
       "<table border=\"1\" class=\"dataframe\">\n",
       "  <thead>\n",
       "    <tr style=\"text-align: right;\">\n",
       "      <th></th>\n",
       "      <th>k</th>\n",
       "      <th>hit_ratio</th>\n",
       "    </tr>\n",
       "  </thead>\n",
       "  <tbody>\n",
       "    <tr>\n",
       "      <td>0</td>\n",
       "      <td>1</td>\n",
       "      <td>0.703947</td>\n",
       "    </tr>\n",
       "    <tr>\n",
       "      <td>1</td>\n",
       "      <td>2</td>\n",
       "      <td>0.907895</td>\n",
       "    </tr>\n",
       "    <tr>\n",
       "      <td>2</td>\n",
       "      <td>3</td>\n",
       "      <td>1.000000</td>\n",
       "    </tr>\n",
       "  </tbody>\n",
       "</table>\n",
       "</div>"
      ],
      "text/plain": [
       "   k  hit_ratio\n",
       "0  1   0.703947\n",
       "1  2   0.907895\n",
       "2  3   1.000000"
      ]
     },
     "metadata": {},
     "output_type": "display_data"
    }
   ],
   "source": [
    "\n",
    "performance = aml_first.leader.model_performance(test)\n",
    "performance.show()"
   ]
  },
  {
   "cell_type": "code",
   "execution_count": null,
   "metadata": {},
   "outputs": [],
   "source": [
    "# #aml_first.leader.confusion_matrix(test = True) # confusion matrix for max true positive rate\n",
    "\n",
    "# aml_first.leader.train(x = x, y = y, training_frame = train, validation_frame = test)\n",
    "# aml_first.leader.confusion_matrix()"
   ]
  },
  {
   "cell_type": "code",
   "execution_count": 244,
   "metadata": {},
   "outputs": [
    {
     "name": "stdout",
     "output_type": "stream",
     "text": [
      "\n",
      "Confusion Matrix: Row labels: Actual class; Column labels: Predicted class\n"
     ]
    },
    {
     "data": {
      "text/html": [
       "<div>\n",
       "<style scoped>\n",
       "    .dataframe tbody tr th:only-of-type {\n",
       "        vertical-align: middle;\n",
       "    }\n",
       "\n",
       "    .dataframe tbody tr th {\n",
       "        vertical-align: top;\n",
       "    }\n",
       "\n",
       "    .dataframe thead th {\n",
       "        text-align: right;\n",
       "    }\n",
       "</style>\n",
       "<table border=\"1\" class=\"dataframe\">\n",
       "  <thead>\n",
       "    <tr style=\"text-align: right;\">\n",
       "      <th></th>\n",
       "      <th>Admit</th>\n",
       "      <th>Reject</th>\n",
       "      <th>Waitlist</th>\n",
       "      <th>Error</th>\n",
       "      <th>Rate</th>\n",
       "    </tr>\n",
       "  </thead>\n",
       "  <tbody>\n",
       "    <tr>\n",
       "      <td>0</td>\n",
       "      <td>8.0</td>\n",
       "      <td>3.0</td>\n",
       "      <td>12.0</td>\n",
       "      <td>0.652174</td>\n",
       "      <td>15 / 23</td>\n",
       "    </tr>\n",
       "    <tr>\n",
       "      <td>1</td>\n",
       "      <td>2.0</td>\n",
       "      <td>65.0</td>\n",
       "      <td>12.0</td>\n",
       "      <td>0.177215</td>\n",
       "      <td>14 / 79</td>\n",
       "    </tr>\n",
       "    <tr>\n",
       "      <td>2</td>\n",
       "      <td>3.0</td>\n",
       "      <td>13.0</td>\n",
       "      <td>34.0</td>\n",
       "      <td>0.320000</td>\n",
       "      <td>16 / 50</td>\n",
       "    </tr>\n",
       "    <tr>\n",
       "      <td>3</td>\n",
       "      <td>13.0</td>\n",
       "      <td>81.0</td>\n",
       "      <td>58.0</td>\n",
       "      <td>0.296053</td>\n",
       "      <td>45 / 152</td>\n",
       "    </tr>\n",
       "  </tbody>\n",
       "</table>\n",
       "</div>"
      ],
      "text/plain": [
       "   Admit  Reject  Waitlist     Error      Rate\n",
       "0    8.0     3.0      12.0  0.652174   15 / 23\n",
       "1    2.0    65.0      12.0  0.177215   14 / 79\n",
       "2    3.0    13.0      34.0  0.320000   16 / 50\n",
       "3   13.0    81.0      58.0  0.296053  45 / 152"
      ]
     },
     "metadata": {},
     "output_type": "display_data"
    },
    {
     "data": {
      "text/plain": []
     },
     "execution_count": 244,
     "metadata": {},
     "output_type": "execute_result"
    }
   ],
   "source": [
    "performance.confusion_matrix()"
   ]
  },
  {
   "cell_type": "code",
   "execution_count": null,
   "metadata": {},
   "outputs": [],
   "source": []
  },
  {
   "cell_type": "code",
   "execution_count": 245,
   "metadata": {},
   "outputs": [],
   "source": [
    "# y_pred_grid = aml_first.leader.predict(test)\n",
    "# y_pred_grid.confusion_matrix(Y_test_hf)\n",
    "# print(cm_grid)\n",
    "# gbm_grid_AutoML_accuracy = cm_grid.trace()/cm_grid.sum()\n",
    "# print('Gridsearch accuracy is: ', gbm_grid_AutoML_accuracy)"
   ]
  },
  {
   "cell_type": "markdown",
   "metadata": {},
   "source": [
    "For the first part, we will estimate rating. With estimated rating column we will estimate DECISION column."
   ]
  },
  {
   "cell_type": "code",
   "execution_count": null,
   "metadata": {},
   "outputs": [],
   "source": [
    "y1_decision = students['DECISION']\n",
    "df = df.drop('DECISION', axis =1)\n",
    "#df.info()"
   ]
  },
  {
   "cell_type": "code",
   "execution_count": null,
   "metadata": {},
   "outputs": [],
   "source": [
    "# df_NA = df_NA.drop('DECISION', axis =1)\n",
    "#df_NA.info()"
   ]
  },
  {
   "cell_type": "code",
   "execution_count": null,
   "metadata": {},
   "outputs": [],
   "source": [
    "#df_NA.info()"
   ]
  },
  {
   "cell_type": "code",
   "execution_count": null,
   "metadata": {},
   "outputs": [],
   "source": [
    "# let us divide this into train and test data\n",
    "X_train, X_test, Y_train, Y_test = train_test_split(\n",
    "    df.loc[:, df.columns != 'RATING'], \n",
    "    df['RATING'], test_size = 0.2, random_state=0)"
   ]
  },
  {
   "cell_type": "code",
   "execution_count": null,
   "metadata": {},
   "outputs": [],
   "source": [
    "\n"
   ]
  },
  {
   "cell_type": "markdown",
   "metadata": {},
   "source": [
    "We use the cross_val_score function of sklearn."
   ]
  },
  {
   "cell_type": "code",
   "execution_count": null,
   "metadata": {},
   "outputs": [],
   "source": [
    "kfolds = KFold(n_splits=10, shuffle=True, random_state=42)\n",
    "\n",
    "def rmse(y, y_pred):\n",
    "    return np.sqrt(mean_squared_error(y, y_pred))\n",
    "\n",
    "def cv_rmse(model, X=X_train, y=Y_train):\n",
    "    rmse = np.sqrt(-cross_val_score(model, X, y, scoring=\"neg_mean_squared_error\", cv=kfolds))\n",
    "    return (rmse)"
   ]
  },
  {
   "cell_type": "code",
   "execution_count": null,
   "metadata": {},
   "outputs": [],
   "source": [
    "alphas_ridge = [14.5, 14.6, 14.7, 14.8, 14.9, 15, 15.1, 15.2, 15.3, 15.4, 15.5]\n",
    "alphas_lasso = [5e-05, 0.0001, 0.0002, 0.0003, 0.0004, 0.0005, 0.0006, 0.0007, 0.0008]\n",
    "alphas_elastic = [0.0001, 0.0002, 0.0003, 0.0004, 0.0005, 0.0006, 0.0007]\n",
    "elastic_l1ratio = [0.8, 0.85, 0.9, 0.95, 0.99, 1]\n",
    "alphas_krr = [0.6, 0.65,0.7, 0.75,0.7, 0.75,0.8, 0.85, 0.9, 0.95, 0.99, 1]"
   ]
  },
  {
   "cell_type": "code",
   "execution_count": null,
   "metadata": {},
   "outputs": [],
   "source": [
    "ridge = make_pipeline(RobustScaler(), RidgeCV(alphas=alphas_alt, cv=kfolds)) #This model may be very sensitive to outliers. \n",
    "lasso = make_pipeline(RobustScaler(), LassoCV(max_iter=1e7, alphas=alphas2, random_state=42, cv=kfolds))\n",
    "#ENet = make_pipeline(RobustScaler(), ElasticNet(alpha=0.0005, l1_ratio=.9, random_state=3))\n",
    "elasticnet = make_pipeline(RobustScaler(), ElasticNetCV(max_iter=1e7, alphas=alphas_elastic, cv=kfolds, l1_ratio=elastic_l1ratio))                                \n",
    "krr = KernelRidge(alpha=alphas_krr, kernel='polynomial', degree=2, coef0=2.5)\n",
    "svr = make_pipeline(RobustScaler(), SVR(C= 20, epsilon= 0.008, gamma=0.0003,))\n",
    "\n",
    "gbr = GradientBoostingRegressor(n_estimators=3000, learning_rate=0.05, max_depth=4, \n",
    "                                max_features='sqrt', min_samples_leaf=15, min_samples_split=10, \n",
    "                                loss='huber', random_state =42) \n",
    "\n",
    "\n",
    "lightgbm = LGBMRegressor(objective='regression', \n",
    "                                       num_leaves=4,\n",
    "                                       learning_rate=0.01, \n",
    "                                       n_estimators=5000,\n",
    "                                       max_bin=200, \n",
    "                                       bagging_fraction=0.75,\n",
    "                                       bagging_freq=5, \n",
    "                                       bagging_seed=7,\n",
    "                                       feature_fraction=0.2,\n",
    "                                       feature_fraction_seed=7,\n",
    "                                       verbose=-1,\n",
    "                                       )\n",
    "\n",
    "\n",
    "xgboost = XGBRegressor(learning_rate=0.01,n_estimators=3460,\n",
    "                                     max_depth=3, min_child_weight=0.05,\n",
    "                                     gamma=0.04, subsample=0.7,\n",
    "                                     colsample_bytree=0.7,\n",
    "                                     objective='reg:squarederror', nthread=-1,\n",
    "                                     scale_pos_weight=1, random_state =42,\n",
    "                                     reg_alpha=0.06, reg_lambda=0.8571)\n",
    "\n",
    "tsr = TheilSenRegressor(random_state=42)\n",
    "rnsc = RANSACRegressor(random_state=42)\n",
    "huber = HuberRegressor()\n",
    "forest_reg = RandomForestRegressor(n_estimators=10, random_state=42)\n",
    "lin_reg = LinearRegression()\n",
    "tree_reg = DecisionTreeRegressor(criterion = 'mse',random_state = 0)\n",
    "sgd_reg = linear_model.SGDRegressor(max_iter=1000, random_state = 42, eta0=0.000001, average=True)"
   ]
  },
  {
   "cell_type": "code",
   "execution_count": null,
   "metadata": {},
   "outputs": [],
   "source": [
    "\n",
    "\n",
    "\n"
   ]
  },
  {
   "cell_type": "code",
   "execution_count": null,
   "metadata": {},
   "outputs": [],
   "source": [
    "\n"
   ]
  },
  {
   "cell_type": "code",
   "execution_count": null,
   "metadata": {},
   "outputs": [],
   "source": [
    "\n"
   ]
  },
  {
   "cell_type": "code",
   "execution_count": null,
   "metadata": {},
   "outputs": [],
   "source": [
    "score = cv_rmse(ridge)\n",
    "print(\"Ridge Regression score: {:.4f} ({:.4f})\\n\".format(score.mean(), score.std()) )\n",
    "ridge_score= score.mean()\n",
    "\n",
    "score = cv_rmse(lasso)\n",
    "print(\"LASSO: {:.4f} ({:.4f})\\n\".format(score.mean(), score.std()) )\n",
    "lasso_score=score.mean()\n",
    "\n",
    "score = cv_rmse(elasticnet)\n",
    "print(\"Elasticnet: {:.4f} ({:.4f})\\n\".format(score.mean(), score.std()) )\n",
    "elasticnet_score=score.mean()\n",
    "\n",
    "score = cv_rmse(rnsc)\n",
    "print(\"RNSC: {:.4f} ({:.4f})\\n\".format(score.mean(), score.std()) )\n",
    "ransac_score = score.mean()\n",
    "\n",
    "score = cv_rmse(tsr)\n",
    "print(\"TSR: {:.4f} ({:.4f})\\n\".format(score.mean(), score.std()) )\n",
    "theilsen_score = score.mean()\n",
    "\n",
    "score = cv_rmse(huber)\n",
    "print(\"Huber: {:.4f} ({:.4f})\\n\".format(score.mean(), score.std()) )\n",
    "huber_score = score.mean()\n",
    "\n",
    "score = cv_rmse(krr)\n",
    "print(\"Kernel Ridge Regression: {:.4f} ({:.4f})\\n\".format(score.mean(), score.std()) )\n",
    "krr_score = score.mean()\n",
    "\n",
    "score = cv_rmse(svr)\n",
    "print(\"SVR: {:.4f} ({:.4f})\\n\".format(score.mean(), score.std()) )\n",
    "svr_score = score.mean()\n",
    "\n",
    "score = cv_rmse(lightgbm)\n",
    "print(\"Light GBM: {:.4f} ({:.4f})\\n\".format(score.mean(), score.std()) )\n",
    "lightgm_score = score.mean()\n",
    "\n",
    "score = cv_rmse(sgd_reg)\n",
    "print(\"SGD  : {:.4f} ({:.4f})\\n\".format(score.mean(), score.std()) )\n",
    "sgd_score = score.mean()\n",
    "\n",
    "score = cv_rmse(lin_reg)\n",
    "print(\"Linear Regression: {:.4f} ({:.4f})\\n\".format(score.mean(), score.std()) )\n",
    "lin_score =score.mean()\n",
    "\n",
    "score = cv_rmse(tree_reg)\n",
    "print(\"Decision Tree : {:.4f} ({:.4f})\\n\".format(score.mean(), score.std()) )\n",
    "tree_score =score.mean()\n",
    "\n",
    "score = cv_rmse(forest_reg)\n",
    "print(\"Random Forest : {:.4f} ({:.4f})\\n\".format(score.mean(), score.std()) )\n",
    "forest = score.mean()\n",
    "\n",
    "score = cv_rmse(gbr)\n",
    "print(\"Gradient Boosting: {:.4f} ({:.4f})\\n\".format(score.mean(), score.std()) )\n",
    "gbr_score =score.mean()\n",
    "\n",
    "score = cv_rmse(xgboost)\n",
    "print(\"XG boost: {:.4f} ({:.4f})\\n\".format(score.mean(), score.std()) )\n",
    "xgb_score =score.mean()"
   ]
  },
  {
   "cell_type": "code",
   "execution_count": null,
   "metadata": {},
   "outputs": [],
   "source": [
    "table = pd.DataFrame({\n",
    "    'Model': ['Ridge Regression', 'LASSO Regression', 'Elastic Net', 'Ransac Regression', \n",
    "              'Thielsen Regressor', 'Huber Regressor', 'Kernel Ridge Regression', 'Epsilon-Support Vector Regression', \n",
    "              'Light GBM', 'SGD','Linear Regression', 'Decision Tree Regressor',\n",
    "             'Random Forest regressor', 'Gradient Boosting','XGBoost Regressor'],\n",
    "    'Score': [ridge_score,lasso_score, elasticnet_score, ransac_score, \n",
    "              theilsen_score, huber_score, krr_score, svr_score, \n",
    "              lightgm_score, sgd_score, lin_score,tree_score,\n",
    "             forest, gbr_score, xgb_score]})\n",
    "table_df = table.sort_values(by='Score', ascending=True)\n",
    "table_df = table_df.set_index('Model')\n",
    "table_df"
   ]
  },
  {
   "cell_type": "raw",
   "metadata": {},
   "source": []
  },
  {
   "cell_type": "markdown",
   "metadata": {},
   "source": [
    "## Simplest Stacking approach : Averaging base models"
   ]
  },
  {
   "cell_type": "markdown",
   "metadata": {},
   "source": [
    "### Averaged base models class"
   ]
  },
  {
   "cell_type": "code",
   "execution_count": null,
   "metadata": {},
   "outputs": [],
   "source": []
  },
  {
   "cell_type": "code",
   "execution_count": null,
   "metadata": {},
   "outputs": [],
   "source": [
    "stack_gen = StackingCVRegressor(regressors=(svr,huber, ridge, sgd_reg, lasso, elasticnet, lin_reg,\n",
    "                                            tsr,forest_reg,lightgbm,xgboost),\n",
    "                                meta_regressor=svr,\n",
    "                                use_features_in_secondary=True)"
   ]
  },
  {
   "cell_type": "code",
   "execution_count": null,
   "metadata": {},
   "outputs": [],
   "source": [
    "X = X_train\n",
    "y = Y_train\n",
    "\n",
    "stack_gen_model = stack_gen.fit(np.array(X), np.array(y))\n",
    "svr_model_full_data = svr.fit(X, y)\n",
    "huber_model_full_data = huber.fit(X, y)\n",
    "ridge_model_full_data = ridge.fit(X, y)\n",
    "sgd_model_full_data = sgd_reg.fit(X, y)\n",
    "lasso_model_full_data = lasso.fit(X, y)\n",
    "elastic_model_full_data = elasticnet.fit(X, y)\n",
    "lin_model_full_data = lin_reg.fit(X,y)\n",
    "tsr_model_full_data = tsr.fit(X, y)\n",
    "rf_model_full_data = forest_reg.fit(X, y)\n",
    "xgb_model_full_data = xgboost.fit(X, y)\n",
    "lgb_model_full_data = lightgbm.fit(X, y)"
   ]
  },
  {
   "cell_type": "code",
   "execution_count": null,
   "metadata": {},
   "outputs": [],
   "source": []
  },
  {
   "cell_type": "code",
   "execution_count": null,
   "metadata": {},
   "outputs": [],
   "source": [
    "def mixed_models_predict(X):\n",
    "    return (\n",
    "            (0.01 * xgb_model_full_data.predict(X)) + \\\n",
    "            (0.01 * lgb_model_full_data.predict(X)) + \\\n",
    "            (0.05 * rf_model_full_data.predict(X)) + \\\n",
    "            (0.05 * tsr_model_full_data.predict(X)) + \\\n",
    "            (0.05 * lin_model_full_data.predict(X)) + \\\n",
    "            (0.05 * elastic_model_full_data.predict(X)) + \\\n",
    "            (0.05 * lasso_model_full_data.predict(X)) + \\\n",
    "            (0.05 * sgd_model_full_data.predict(X)) + \\\n",
    "            (0.1 * ridge_model_full_data.predict(X)) + \\\n",
    "            (0.1 * huber_model_full_data.predict(X)) + \\\n",
    "            (0.18 * svr_model_full_data.predict(X)) + \\\n",
    "            (0.29 * stack_gen_model.predict(np.array(X))))"
   ]
  },
  {
   "cell_type": "code",
   "execution_count": null,
   "metadata": {},
   "outputs": [],
   "source": [
    "print('RMSE score on train data:')\n",
    "print(rmse(y, mixed_models_predict(X)))"
   ]
  },
  {
   "cell_type": "code",
   "execution_count": null,
   "metadata": {},
   "outputs": [],
   "source": [
    "print('RMSE score on test data:')\n",
    "print(rmse(Y_test, mixed_models_predict(X_test)))"
   ]
  },
  {
   "cell_type": "code",
   "execution_count": null,
   "metadata": {},
   "outputs": [],
   "source": []
  },
  {
   "cell_type": "markdown",
   "metadata": {},
   "source": [
    "## Scaling"
   ]
  },
  {
   "cell_type": "code",
   "execution_count": null,
   "metadata": {},
   "outputs": [],
   "source": [
    "# This is the whole data set with imputing.\n",
    "X_train, X_test, Y_train, Y_test = train_test_split(\n",
    "    df.loc[:, df.columns != 'RATING'], \n",
    "    df['RATING'], test_size = 0.2, random_state=0)\n",
    "# let us divide this into train and test data\n",
    "from sklearn.model_selection import train_test_split\n",
    "\n",
    "from sklearn.model_selection import train_test_split\n",
    "\n"
   ]
  },
  {
   "cell_type": "markdown",
   "metadata": {},
   "source": [
    "## Decisiont Tree with Scaling"
   ]
  },
  {
   "cell_type": "code",
   "execution_count": null,
   "metadata": {},
   "outputs": [],
   "source": [
    "classifier2 = DecisionTreeClassifier(criterion = 'entropy',random_state = 0)\n",
    "classifier2.fit(X_train_sc, Y_train)\n",
    "print(classifier2.score(X_train_sc, Y_train))\n",
    "\n",
    "#how about on a test set\n",
    "Y_pred = classifier2.predict(X_test_sc)\n",
    "cm = confusion_matrix(Y_test, Y_pred)\n",
    "print(cm)\n",
    "#print(accuracy_score(Y_test, Y_pred))\n",
    "d_tree2 = cm.trace()/cm.sum()\n",
    "d_tree2"
   ]
  },
  {
   "cell_type": "markdown",
   "metadata": {},
   "source": [
    "## Logistic Regression with Scaling"
   ]
  },
  {
   "cell_type": "code",
   "execution_count": null,
   "metadata": {},
   "outputs": [],
   "source": [
    "classifier2 =LogisticRegression(C=0.65,random_state = 0, solver='lbfgs', \n",
    "                                multi_class='multinomial',class_weight='balanced',max_iter = 10000)\n",
    "classifier2.fit(X_train_sc, Y_train)\n",
    "print(classifier2.score(X_train_sc, Y_train))\n",
    "\n",
    "#how about on a test set\n",
    "Y_pred = classifier2.predict(X_test_sc)\n",
    "cm = confusion_matrix(Y_test, Y_pred)\n",
    "print(cm)\n",
    "#print(accuracy_score(Y_test, Y_pred))\n",
    "log_regr2 = cm.trace()/cm.sum()\n",
    "log_regr2"
   ]
  },
  {
   "cell_type": "markdown",
   "metadata": {},
   "source": [
    "## Random Forest with Scaling"
   ]
  },
  {
   "cell_type": "code",
   "execution_count": null,
   "metadata": {},
   "outputs": [],
   "source": [
    "#classifier = RandomForestClassifier(n_estimators = 100, criterion = 'gini', random_state = 0)\n",
    "classifier2 = RandomForestClassifier(n_estimators = 100, criterion = 'entropy', \n",
    "                                    class_weight='balanced',random_state = 0,\n",
    "                                     bootstrap=True)\n",
    "classifier2.fit(X_train_sc, Y_train)\n",
    "print(classifier2.score(X_train_sc, Y_train))\n",
    "\n",
    "#how about on a test set\n",
    "Y_pred = classifier2.predict(X_test_sc)\n",
    "cm = confusion_matrix(Y_test, Y_pred)\n",
    "print(cm)\n",
    "rf2 = cm.trace()/cm.sum()\n",
    "rf2\n",
    "\n",
    "#print(classifier2.feature_importances_)"
   ]
  },
  {
   "cell_type": "markdown",
   "metadata": {},
   "source": [
    "## SGD wth Scaling "
   ]
  },
  {
   "cell_type": "code",
   "execution_count": null,
   "metadata": {},
   "outputs": [],
   "source": [
    "classifier2 = linear_model.SGDClassifier(max_iter=5, tol=None,random_state = 0, \n",
    "                                        alpha=0.0001, average=True,class_weight = 'balanced')\n",
    "classifier2.fit(X_train, Y_train)\n",
    "print(classifier2.score(X_train, Y_train))\n",
    "\n",
    "#how about on a test set\n",
    "Y_pred = classifier2.predict(X_test)\n",
    "cm = confusion_matrix(Y_test, Y_pred)\n",
    "print(cm)\n",
    "sgd2 = cm.trace()/cm.sum()\n",
    "sgd2"
   ]
  },
  {
   "cell_type": "markdown",
   "metadata": {},
   "source": [
    "## KNN with scaling"
   ]
  },
  {
   "cell_type": "code",
   "execution_count": null,
   "metadata": {},
   "outputs": [],
   "source": [
    "classifier2 = KNeighborsClassifier(leaf_size = 100, p=2)\n",
    "classifier2.fit(X_train_sc, Y_train)\n",
    "print(classifier2.score(X_train_sc, Y_train))\n",
    "\n",
    "#how about on a test set\n",
    "Y_pred = classifier2.predict(X_test_sc)\n",
    "cm = confusion_matrix(Y_test, Y_pred)\n",
    "print(cm)\n",
    "knn2 = cm.trace()/cm.sum()\n",
    "knn2"
   ]
  },
  {
   "cell_type": "markdown",
   "metadata": {},
   "source": [
    "## Gaussian Naive Bayes with Scaling"
   ]
  },
  {
   "cell_type": "code",
   "execution_count": null,
   "metadata": {},
   "outputs": [],
   "source": [
    "classifier2 = GaussianNB()\n",
    "classifier2.fit(X_train_sc, Y_train)\n",
    "print(classifier2.score(X_train_sc, Y_train))\n",
    "\n",
    "#how about on a test set\n",
    "Y_pred = classifier2.predict(X_test_sc)\n",
    "cm = confusion_matrix(Y_test, Y_pred)\n",
    "print(cm)\n",
    "gnb2=cm.trace()/cm.sum()\n",
    "gnb2"
   ]
  },
  {
   "cell_type": "markdown",
   "metadata": {},
   "source": [
    "## Perceptron with Scaling"
   ]
  },
  {
   "cell_type": "code",
   "execution_count": null,
   "metadata": {},
   "outputs": [],
   "source": [
    "classifier2 =  Perceptron(random_state = 0, class_weight = 'balanced')\n",
    "classifier2.fit(X_train_sc, Y_train)\n",
    "print(classifier2.score(X_train_sc, Y_train))\n",
    "\n",
    "#how about on a test set\n",
    "Y_pred = classifier2.predict(X_test_sc)\n",
    "cm = confusion_matrix(Y_test, Y_pred)\n",
    "print(cm)\n",
    "perc2=cm.trace()/cm.sum()\n",
    "perc2\n"
   ]
  },
  {
   "cell_type": "markdown",
   "metadata": {},
   "source": [
    "## SVM with scaling"
   ]
  },
  {
   "cell_type": "code",
   "execution_count": null,
   "metadata": {},
   "outputs": [],
   "source": [
    "classifier2 =  SVC(max_iter = 10000, random_state = 0, gamma = 'auto')\n",
    "classifier2.fit(X_train_sc, Y_train)\n",
    "print(classifier2.score(X_train_sc, Y_train))\n",
    "\n",
    "#how about on a test set\n",
    "Y_pred = classifier2.predict(X_test_sc)\n",
    "cm = confusion_matrix(Y_test, Y_pred)\n",
    "print(cm)\n",
    "svm2=cm.trace()/cm.sum()\n",
    "svm2\n"
   ]
  },
  {
   "cell_type": "markdown",
   "metadata": {},
   "source": [
    "## Linear SVM with scaling"
   ]
  },
  {
   "cell_type": "code",
   "execution_count": null,
   "metadata": {},
   "outputs": [],
   "source": [
    "classifier2 = LinearSVC(max_iter = 10000, class_weight = 'balanced', random_state = 0)\n",
    "classifier2.fit(X_train_sc, Y_train)\n",
    "print(classifier2.score(X_train_sc, Y_train))\n",
    "\n",
    "#how about on a test set\n",
    "Y_pred = classifier2.predict(X_test_sc)\n",
    "cm = confusion_matrix(Y_test, Y_pred)\n",
    "print(cm)\n",
    "lsvm2=cm.trace()/cm.sum()\n",
    "lsvm2\n",
    "\n"
   ]
  },
  {
   "cell_type": "markdown",
   "metadata": {},
   "source": [
    "## Ada Boost with scaling"
   ]
  },
  {
   "cell_type": "code",
   "execution_count": null,
   "metadata": {},
   "outputs": [],
   "source": [
    "classifier2 = AdaBoostClassifier(base_estimator = None, \n",
    "                            algorithm = 'SAMME',n_estimators=100, learning_rate=1.0)\n",
    "classifier2.fit(X_train_sc, Y_train)\n",
    "print(classifier2.score(X_train_sc, Y_train))\n",
    "\n",
    "#how about on a test set\n",
    "Y_pred = classifier2.predict(X_test_sc)\n",
    "cm = confusion_matrix(Y_test, Y_pred)\n",
    "print(cm)\n",
    "\n",
    "adaboost2 = cm.trace()/cm.sum()\n",
    "adaboost2"
   ]
  },
  {
   "cell_type": "markdown",
   "metadata": {},
   "source": [
    "## XG Boost with Scaling"
   ]
  },
  {
   "cell_type": "code",
   "execution_count": null,
   "metadata": {},
   "outputs": [],
   "source": [
    "classifier2 = XGBClassifier(learning_rate =0.1, n_estimators=1000, max_depth=5, min_child_weight=1, gamma=0,\n",
    "                           subsample=0.8, colsample_bytree=0.8, objective= 'binary:logistic',\n",
    "                           nthread=4, scale_pos_weight=1, seed=27)\n",
    "classifier2.fit(X_train_sc, Y_train)\n",
    "print(classifier2.score(X_train_sc, Y_train))\n",
    "\n",
    "#how about on a test set\n",
    "Y_pred = classifier2.predict(X_test_sc)\n",
    "cm = confusion_matrix(Y_test, Y_pred)\n",
    "print(cm)\n",
    "xgboost2 = cm.trace()/cm.sum()\n",
    "xgboost2"
   ]
  },
  {
   "cell_type": "markdown",
   "metadata": {},
   "source": [
    "## Which is the best model with scaling?"
   ]
  },
  {
   "cell_type": "code",
   "execution_count": null,
   "metadata": {},
   "outputs": [],
   "source": [
    "table2 = pd.DataFrame({\n",
    "    'Model': ['Support Vector Machines', 'Linear Support Vector Machines', 'KNN', 'Logistic Regression', \n",
    "              'Random Forest', 'Naive Bayes', 'Perceptron', \n",
    "              'Stochastic Gradient Decent', \n",
    "              'Decision Tree', 'Adaptive Boosting Classifier','XG Boost Classifier' ],\n",
    "    'Score': [svm2,lsvm2, knn2, log_regr2, \n",
    "              rf2, gnb2, perc2, \n",
    "              sgd2, d_tree2, adaboost2, xgboost2]})\n",
    "table_df2 = table2.sort_values(by='Score', ascending=False)\n",
    "table_df2 = table_df2.set_index('Model')\n",
    "table_df2\n",
    "#type(table_df2)\n",
    "#table_df2.shape\n",
    "#table_df.shape"
   ]
  },
  {
   "cell_type": "code",
   "execution_count": null,
   "metadata": {},
   "outputs": [],
   "source": [
    "pd.concat([table_df, table_df2],axis =1, sort=False, keys = ['Score','Score with Scaling']) # concat dataframes"
   ]
  },
  {
   "cell_type": "markdown",
   "metadata": {},
   "source": [
    "Overall Random Forest with scaling gives slightly better result."
   ]
  },
  {
   "cell_type": "code",
   "execution_count": null,
   "metadata": {},
   "outputs": [],
   "source": []
  },
  {
   "cell_type": "markdown",
   "metadata": {},
   "source": [
    "## ROC Curve for RF"
   ]
  },
  {
   "cell_type": "code",
   "execution_count": null,
   "metadata": {},
   "outputs": [],
   "source": [
    "from sklearn.metrics import roc_curve\n",
    "\n",
    "rf = RandomForestClassifier(n_estimators=100)\n",
    "rf.fit(X_train, Y_train)\n",
    "# getting the probabilities of our predictions\n",
    "y_probs = rf.predict_proba(X_train_sc)\n",
    "#print(y_probs)\n",
    "y_probs = y_probs[:,1]\n",
    "\n",
    "# compute true positive rate and false positive rate\n",
    "false_positive_rate, true_positive_rate, thresholds = roc_curve(Y_train, y_probs)\n",
    "# plotting them against each other\n",
    "def plot_roc_curve(false_positive_rate, true_positive_rate, label=None):\n",
    "    plt.plot(false_positive_rate, true_positive_rate, linewidth=2, label=label)\n",
    "    plt.plot([0, 1], [0, 1], 'r', linewidth=4)\n",
    "    plt.axis([0, 1, 0, 1])\n",
    "    plt.xlabel('False Positive Rate (FPR)', fontsize=16)\n",
    "    plt.ylabel('True Positive Rate (TPR)', fontsize=16)\n",
    "\n",
    "plt.figure(figsize=(14, 7))\n",
    "plot_roc_curve(false_positive_rate, true_positive_rate)\n",
    "plt.show()"
   ]
  },
  {
   "cell_type": "markdown",
   "metadata": {},
   "source": [
    " ## ROC Curve for Logistic Regression"
   ]
  },
  {
   "cell_type": "code",
   "execution_count": null,
   "metadata": {},
   "outputs": [],
   "source": [
    "from sklearn.metrics import roc_curve\n",
    "log_reg = LogisticRegression(C=0.65,random_state = 0, solver='lbfgs', \n",
    "                                multi_class='multinomial',class_weight='balanced', max_iter = 10000)\n",
    "log_reg.fit(X_train, Y_train)\n",
    "# getting the probabilities of our predictions\n",
    "y_probs = log_reg.predict_proba(X_train_sc)\n",
    "#print(y_probs)\n",
    "y_probs = y_probs[:,1]\n",
    "\n",
    "# compute true positive rate and false positive rate\n",
    "false_positive_rate, true_positive_rate, thresholds = roc_curve(Y_train, y_probs)\n",
    "# plotting them against each other\n",
    "def plot_roc_curve(false_positive_rate, true_positive_rate, label=None):\n",
    "    plt.plot(false_positive_rate, true_positive_rate, linewidth=2, label=label)\n",
    "    plt.plot([0, 1], [0, 1], 'r', linewidth=4)\n",
    "    plt.axis([0, 1, 0, 1])\n",
    "    plt.xlabel('False Positive Rate (FPR)', fontsize=16)\n",
    "    plt.ylabel('True Positive Rate (TPR)', fontsize=16)\n",
    "\n",
    "plt.figure(figsize=(14, 7))\n",
    "plot_roc_curve(false_positive_rate, true_positive_rate)\n",
    "plt.show()"
   ]
  },
  {
   "cell_type": "markdown",
   "metadata": {},
   "source": [
    "From now we will use scaled data set. We will now compare randomizedsearch and gridsearc. We will pick one and continue that way. We will try compare these in one of the models like SVM, RF and Logistic regression but not all of them."
   ]
  },
  {
   "cell_type": "markdown",
   "metadata": {},
   "source": [
    "## Hyperparameter tuning with RandomizedSearchCV and GridSearchCV"
   ]
  },
  {
   "cell_type": "code",
   "execution_count": null,
   "metadata": {},
   "outputs": [],
   "source": [
    "from sklearn.model_selection import RandomizedSearchCV\n"
   ]
  },
  {
   "cell_type": "code",
   "execution_count": null,
   "metadata": {},
   "outputs": [],
   "source": []
  },
  {
   "cell_type": "code",
   "execution_count": null,
   "metadata": {},
   "outputs": [],
   "source": []
  },
  {
   "cell_type": "markdown",
   "metadata": {},
   "source": [
    "### SVM with RandomizedSearchCV"
   ]
  },
  {
   "cell_type": "code",
   "execution_count": null,
   "metadata": {},
   "outputs": [],
   "source": [
    "param_grid = {'C':uniform(0.1, 5000), 'gamma':uniform(0.0001, 1) }\n",
    "svm_rand = RandomizedSearchCV(SVC(), param_distributions=param_grid, n_iter=100)\n",
    "svm_rand.fit(X_train_sc,Y_train)\n",
    "score_svm_rand = best_score(svm_rand)"
   ]
  },
  {
   "cell_type": "markdown",
   "metadata": {},
   "source": [
    "## SVM with GridSearchCV"
   ]
  },
  {
   "cell_type": "code",
   "execution_count": null,
   "metadata": {},
   "outputs": [],
   "source": [
    "param_grid = {'C': [0.1,10, 100, 1000,5000], 'gamma': [1,0.1,0.01,0.001,0.0001], 'kernel': ['rbf']}\n",
    "svm_grid = GridSearchCV(SVC(), param_grid, cv=10, refit=True, verbose=1)\n",
    "svm_grid.fit(X_train_sc,Y_train)\n",
    "score_svm_grid= best_score(svm_grid)"
   ]
  },
  {
   "cell_type": "markdown",
   "metadata": {},
   "source": [
    "Let us compare both of them on a test set as well."
   ]
  },
  {
   "cell_type": "code",
   "execution_count": null,
   "metadata": {},
   "outputs": [],
   "source": [
    "y_pred_grid = svm_grid.predict(X_test_sc)\n",
    "y_pred_rand = svm_rand.predict(X_test_sc)\n",
    "\n",
    "cm_grid = confusion_matrix(Y_test, y_pred_grid)\n",
    "print(cm_grid)\n",
    "cm_rand = confusion_matrix(Y_test, y_pred_rand)\n",
    "print(cm_rand)\n",
    "svm_grid_accuracy = cm_grid.trace()/cm_grid.sum()\n",
    "svm_rand_accuracy = cm_rand.trace()/cm_rand.sum()\n",
    "\n",
    "print('Gridsearch accuracy is: ', svm_grid_accuracy)\n",
    "print('Randomsearch accurasy is: ', svm_rand_accuracy)"
   ]
  },
  {
   "cell_type": "code",
   "execution_count": null,
   "metadata": {},
   "outputs": [],
   "source": []
  },
  {
   "cell_type": "code",
   "execution_count": null,
   "metadata": {},
   "outputs": [],
   "source": []
  },
  {
   "cell_type": "markdown",
   "metadata": {},
   "source": [
    "As we can see we do better with grid search and accuracy also increased. It is strange that Random Forest did worse with gridsearch. Comparing to table2 which was rf classifier with scaling. "
   ]
  }
 ],
 "metadata": {
  "kernelspec": {
   "display_name": "Python 3",
   "language": "python",
   "name": "python3"
  },
  "language_info": {
   "codemirror_mode": {
    "name": "ipython",
    "version": 3
   },
   "file_extension": ".py",
   "mimetype": "text/x-python",
   "name": "python",
   "nbconvert_exporter": "python",
   "pygments_lexer": "ipython3",
   "version": "3.7.3"
  }
 },
 "nbformat": 4,
 "nbformat_minor": 4
}
